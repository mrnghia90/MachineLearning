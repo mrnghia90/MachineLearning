{
 "cells": [
  {
   "cell_type": "code",
   "execution_count": 1,
   "id": "334d7979",
   "metadata": {},
   "outputs": [],
   "source": [
    "# libraires nécessaires\n",
    "%reset -f\n",
    "import numpy as np\n",
    "import pandas as pd\n",
    "import matplotlib.pyplot as plt\n",
    "from sklearn.metrics import roc_auc_score\n",
    "from sklearn.metrics import confusion_matrix, precision_score, recall_score, f1_score, precision_recall_curve, roc_curve, classification_report, average_precision_score"
   ]
  },
  {
   "cell_type": "markdown",
   "id": "f3952629",
   "metadata": {},
   "source": [
    "# 0. Lire des données"
   ]
  },
  {
   "cell_type": "code",
   "execution_count": 2,
   "id": "d70f7b71",
   "metadata": {},
   "outputs": [
    {
     "data": {
      "text/html": [
       "<div>\n",
       "<style scoped>\n",
       "    .dataframe tbody tr th:only-of-type {\n",
       "        vertical-align: middle;\n",
       "    }\n",
       "\n",
       "    .dataframe tbody tr th {\n",
       "        vertical-align: top;\n",
       "    }\n",
       "\n",
       "    .dataframe thead th {\n",
       "        text-align: right;\n",
       "    }\n",
       "</style>\n",
       "<table border=\"1\" class=\"dataframe\">\n",
       "  <thead>\n",
       "    <tr style=\"text-align: right;\">\n",
       "      <th></th>\n",
       "      <th>assur_caravane</th>\n",
       "      <th>nbmaisons</th>\n",
       "      <th>pouvoir_achat</th>\n",
       "      <th>nbpers_au_foyer</th>\n",
       "      <th>type_client</th>\n",
       "      <th>mt_auto</th>\n",
       "      <th>nb_auto</th>\n",
       "      <th>mt_incendie</th>\n",
       "      <th>nb_incendie</th>\n",
       "      <th>niv_etud_bas</th>\n",
       "      <th>...</th>\n",
       "      <th>marie</th>\n",
       "      <th>autre_relation</th>\n",
       "      <th>assur_sante_prive</th>\n",
       "      <th>assur_sante_public</th>\n",
       "      <th>mt_RC_entreprise</th>\n",
       "      <th>nb_RC_entreprise</th>\n",
       "      <th>mt_camion_livraison</th>\n",
       "      <th>nb_camion_livraison</th>\n",
       "      <th>nb_remorque</th>\n",
       "      <th>mt_remorque</th>\n",
       "    </tr>\n",
       "    <tr>\n",
       "      <th>cle</th>\n",
       "      <th></th>\n",
       "      <th></th>\n",
       "      <th></th>\n",
       "      <th></th>\n",
       "      <th></th>\n",
       "      <th></th>\n",
       "      <th></th>\n",
       "      <th></th>\n",
       "      <th></th>\n",
       "      <th></th>\n",
       "      <th></th>\n",
       "      <th></th>\n",
       "      <th></th>\n",
       "      <th></th>\n",
       "      <th></th>\n",
       "      <th></th>\n",
       "      <th></th>\n",
       "      <th></th>\n",
       "      <th></th>\n",
       "      <th></th>\n",
       "      <th></th>\n",
       "    </tr>\n",
       "  </thead>\n",
       "  <tbody>\n",
       "    <tr>\n",
       "      <th>5797</th>\n",
       "      <td>0</td>\n",
       "      <td>1</td>\n",
       "      <td>5</td>\n",
       "      <td>4</td>\n",
       "      <td>9</td>\n",
       "      <td>5</td>\n",
       "      <td>1</td>\n",
       "      <td>0</td>\n",
       "      <td>0</td>\n",
       "      <td>8</td>\n",
       "      <td>...</td>\n",
       "      <td>7</td>\n",
       "      <td>2</td>\n",
       "      <td>0</td>\n",
       "      <td>9</td>\n",
       "      <td>0</td>\n",
       "      <td>0</td>\n",
       "      <td>0</td>\n",
       "      <td>0</td>\n",
       "      <td>0</td>\n",
       "      <td>0</td>\n",
       "    </tr>\n",
       "    <tr>\n",
       "      <th>697</th>\n",
       "      <td>0</td>\n",
       "      <td>3</td>\n",
       "      <td>6</td>\n",
       "      <td>2</td>\n",
       "      <td>1</td>\n",
       "      <td>6</td>\n",
       "      <td>1</td>\n",
       "      <td>0</td>\n",
       "      <td>0</td>\n",
       "      <td>2</td>\n",
       "      <td>...</td>\n",
       "      <td>7</td>\n",
       "      <td>2</td>\n",
       "      <td>4</td>\n",
       "      <td>5</td>\n",
       "      <td>0</td>\n",
       "      <td>0</td>\n",
       "      <td>0</td>\n",
       "      <td>0</td>\n",
       "      <td>0</td>\n",
       "      <td>0</td>\n",
       "    </tr>\n",
       "    <tr>\n",
       "      <th>3853</th>\n",
       "      <td>0</td>\n",
       "      <td>1</td>\n",
       "      <td>5</td>\n",
       "      <td>1</td>\n",
       "      <td>8</td>\n",
       "      <td>0</td>\n",
       "      <td>0</td>\n",
       "      <td>0</td>\n",
       "      <td>0</td>\n",
       "      <td>0</td>\n",
       "      <td>...</td>\n",
       "      <td>6</td>\n",
       "      <td>3</td>\n",
       "      <td>5</td>\n",
       "      <td>4</td>\n",
       "      <td>0</td>\n",
       "      <td>0</td>\n",
       "      <td>0</td>\n",
       "      <td>0</td>\n",
       "      <td>0</td>\n",
       "      <td>0</td>\n",
       "    </tr>\n",
       "    <tr>\n",
       "      <th>4054</th>\n",
       "      <td>1</td>\n",
       "      <td>2</td>\n",
       "      <td>8</td>\n",
       "      <td>4</td>\n",
       "      <td>2</td>\n",
       "      <td>6</td>\n",
       "      <td>1</td>\n",
       "      <td>4</td>\n",
       "      <td>1</td>\n",
       "      <td>1</td>\n",
       "      <td>...</td>\n",
       "      <td>9</td>\n",
       "      <td>0</td>\n",
       "      <td>6</td>\n",
       "      <td>3</td>\n",
       "      <td>0</td>\n",
       "      <td>0</td>\n",
       "      <td>0</td>\n",
       "      <td>0</td>\n",
       "      <td>0</td>\n",
       "      <td>0</td>\n",
       "    </tr>\n",
       "    <tr>\n",
       "      <th>3765</th>\n",
       "      <td>0</td>\n",
       "      <td>1</td>\n",
       "      <td>3</td>\n",
       "      <td>2</td>\n",
       "      <td>8</td>\n",
       "      <td>6</td>\n",
       "      <td>1</td>\n",
       "      <td>0</td>\n",
       "      <td>0</td>\n",
       "      <td>4</td>\n",
       "      <td>...</td>\n",
       "      <td>7</td>\n",
       "      <td>2</td>\n",
       "      <td>3</td>\n",
       "      <td>6</td>\n",
       "      <td>0</td>\n",
       "      <td>0</td>\n",
       "      <td>0</td>\n",
       "      <td>0</td>\n",
       "      <td>0</td>\n",
       "      <td>0</td>\n",
       "    </tr>\n",
       "    <tr>\n",
       "      <th>5207</th>\n",
       "      <td>0</td>\n",
       "      <td>1</td>\n",
       "      <td>4</td>\n",
       "      <td>3</td>\n",
       "      <td>10</td>\n",
       "      <td>0</td>\n",
       "      <td>0</td>\n",
       "      <td>0</td>\n",
       "      <td>0</td>\n",
       "      <td>6</td>\n",
       "      <td>...</td>\n",
       "      <td>6</td>\n",
       "      <td>3</td>\n",
       "      <td>3</td>\n",
       "      <td>6</td>\n",
       "      <td>0</td>\n",
       "      <td>0</td>\n",
       "      <td>0</td>\n",
       "      <td>0</td>\n",
       "      <td>0</td>\n",
       "      <td>0</td>\n",
       "    </tr>\n",
       "    <tr>\n",
       "      <th>5015</th>\n",
       "      <td>1</td>\n",
       "      <td>1</td>\n",
       "      <td>8</td>\n",
       "      <td>4</td>\n",
       "      <td>1</td>\n",
       "      <td>6</td>\n",
       "      <td>1</td>\n",
       "      <td>4</td>\n",
       "      <td>1</td>\n",
       "      <td>1</td>\n",
       "      <td>...</td>\n",
       "      <td>8</td>\n",
       "      <td>1</td>\n",
       "      <td>7</td>\n",
       "      <td>2</td>\n",
       "      <td>0</td>\n",
       "      <td>0</td>\n",
       "      <td>0</td>\n",
       "      <td>0</td>\n",
       "      <td>0</td>\n",
       "      <td>0</td>\n",
       "    </tr>\n",
       "    <tr>\n",
       "      <th>4221</th>\n",
       "      <td>0</td>\n",
       "      <td>1</td>\n",
       "      <td>3</td>\n",
       "      <td>2</td>\n",
       "      <td>5</td>\n",
       "      <td>5</td>\n",
       "      <td>1</td>\n",
       "      <td>2</td>\n",
       "      <td>1</td>\n",
       "      <td>5</td>\n",
       "      <td>...</td>\n",
       "      <td>4</td>\n",
       "      <td>4</td>\n",
       "      <td>1</td>\n",
       "      <td>8</td>\n",
       "      <td>0</td>\n",
       "      <td>0</td>\n",
       "      <td>0</td>\n",
       "      <td>0</td>\n",
       "      <td>0</td>\n",
       "      <td>0</td>\n",
       "    </tr>\n",
       "    <tr>\n",
       "      <th>1857</th>\n",
       "      <td>0</td>\n",
       "      <td>1</td>\n",
       "      <td>7</td>\n",
       "      <td>3</td>\n",
       "      <td>3</td>\n",
       "      <td>0</td>\n",
       "      <td>0</td>\n",
       "      <td>0</td>\n",
       "      <td>0</td>\n",
       "      <td>4</td>\n",
       "      <td>...</td>\n",
       "      <td>5</td>\n",
       "      <td>5</td>\n",
       "      <td>5</td>\n",
       "      <td>5</td>\n",
       "      <td>0</td>\n",
       "      <td>0</td>\n",
       "      <td>0</td>\n",
       "      <td>0</td>\n",
       "      <td>0</td>\n",
       "      <td>0</td>\n",
       "    </tr>\n",
       "    <tr>\n",
       "      <th>4006</th>\n",
       "      <td>0</td>\n",
       "      <td>2</td>\n",
       "      <td>1</td>\n",
       "      <td>1</td>\n",
       "      <td>4</td>\n",
       "      <td>6</td>\n",
       "      <td>1</td>\n",
       "      <td>0</td>\n",
       "      <td>0</td>\n",
       "      <td>1</td>\n",
       "      <td>...</td>\n",
       "      <td>0</td>\n",
       "      <td>8</td>\n",
       "      <td>5</td>\n",
       "      <td>4</td>\n",
       "      <td>0</td>\n",
       "      <td>0</td>\n",
       "      <td>0</td>\n",
       "      <td>0</td>\n",
       "      <td>0</td>\n",
       "      <td>0</td>\n",
       "    </tr>\n",
       "  </tbody>\n",
       "</table>\n",
       "<p>10 rows × 32 columns</p>\n",
       "</div>"
      ],
      "text/plain": [
       "      assur_caravane  nbmaisons  pouvoir_achat  nbpers_au_foyer  type_client  \\\n",
       "cle                                                                            \n",
       "5797               0          1              5                4            9   \n",
       "697                0          3              6                2            1   \n",
       "3853               0          1              5                1            8   \n",
       "4054               1          2              8                4            2   \n",
       "3765               0          1              3                2            8   \n",
       "5207               0          1              4                3           10   \n",
       "5015               1          1              8                4            1   \n",
       "4221               0          1              3                2            5   \n",
       "1857               0          1              7                3            3   \n",
       "4006               0          2              1                1            4   \n",
       "\n",
       "      mt_auto  nb_auto  mt_incendie  nb_incendie  niv_etud_bas  ...  marie  \\\n",
       "cle                                                             ...          \n",
       "5797        5        1            0            0             8  ...      7   \n",
       "697         6        1            0            0             2  ...      7   \n",
       "3853        0        0            0            0             0  ...      6   \n",
       "4054        6        1            4            1             1  ...      9   \n",
       "3765        6        1            0            0             4  ...      7   \n",
       "5207        0        0            0            0             6  ...      6   \n",
       "5015        6        1            4            1             1  ...      8   \n",
       "4221        5        1            2            1             5  ...      4   \n",
       "1857        0        0            0            0             4  ...      5   \n",
       "4006        6        1            0            0             1  ...      0   \n",
       "\n",
       "      autre_relation  assur_sante_prive  assur_sante_public  mt_RC_entreprise  \\\n",
       "cle                                                                             \n",
       "5797               2                  0                   9                 0   \n",
       "697                2                  4                   5                 0   \n",
       "3853               3                  5                   4                 0   \n",
       "4054               0                  6                   3                 0   \n",
       "3765               2                  3                   6                 0   \n",
       "5207               3                  3                   6                 0   \n",
       "5015               1                  7                   2                 0   \n",
       "4221               4                  1                   8                 0   \n",
       "1857               5                  5                   5                 0   \n",
       "4006               8                  5                   4                 0   \n",
       "\n",
       "      nb_RC_entreprise  mt_camion_livraison  nb_camion_livraison  nb_remorque  \\\n",
       "cle                                                                             \n",
       "5797                 0                    0                    0            0   \n",
       "697                  0                    0                    0            0   \n",
       "3853                 0                    0                    0            0   \n",
       "4054                 0                    0                    0            0   \n",
       "3765                 0                    0                    0            0   \n",
       "5207                 0                    0                    0            0   \n",
       "5015                 0                    0                    0            0   \n",
       "4221                 0                    0                    0            0   \n",
       "1857                 0                    0                    0            0   \n",
       "4006                 0                    0                    0            0   \n",
       "\n",
       "      mt_remorque  \n",
       "cle                \n",
       "5797            0  \n",
       "697             0  \n",
       "3853            0  \n",
       "4054            0  \n",
       "3765            0  \n",
       "5207            0  \n",
       "5015            0  \n",
       "4221            0  \n",
       "1857            0  \n",
       "4006            0  \n",
       "\n",
       "[10 rows x 32 columns]"
      ]
     },
     "execution_count": 2,
     "metadata": {},
     "output_type": "execute_result"
    }
   ],
   "source": [
    "data_train = pd.read_table('train_set.csv',sep=',',header=0,index_col=0)\n",
    "data_test = pd.read_table('val_set.csv',sep=',',header=0,index_col=0)\n",
    "data_train.head(10)"
   ]
  },
  {
   "cell_type": "markdown",
   "id": "b1478ae4",
   "metadata": {},
   "source": [
    "# 1. Discrétisation des données"
   ]
  },
  {
   "cell_type": "code",
   "execution_count": 3,
   "id": "ea2150ef",
   "metadata": {},
   "outputs": [],
   "source": [
    "from sklearn.tree import DecisionTreeRegressor\n",
    "from sklearn.tree import export_graphviz, plot_tree\n",
    "\n",
    "def discretisation(df_entree):\n",
    "    df = df_entree.copy()\n",
    "    # Cas variables gardées : On ne rien faire\n",
    "    \n",
    "    # Cas Variables enlèvées : mt_RC_entreprise, nb_RC_entreprise, mt_camion_livraison,\n",
    "    # nb_camion_livraison, nb_remorque, mt_remorque\n",
    "    df.drop(columns =['mt_RC_entreprise', 'nb_RC_entreprise', 'mt_camion_livraison',\n",
    "                       'nb_camion_livraison', 'nb_remorque', 'mt_remorque'], inplace=True, axis = 1)\n",
    "    \n",
    "    # Cas Variables modifiées faciles\n",
    "    ## nbmaisons : groupe 1 et les autres dans group 2.\n",
    "    #df.loc[df['nbmaisons'] > 1,'nbmaisons']='2et+'\n",
    "    df['nbmaisons'][df['nbmaisons'] > 1] = '2et+'\n",
    "    ## nbpers_au_foyer : groupe 1, groupe 2, groupe 3 et 5 dans group 4.\n",
    "    df.loc[(df['nbpers_au_foyer'] == 5) | (df['nbpers_au_foyer'] == 4),'nbpers_au_foyer']='4+5'\n",
    "    #df['nbpers_au_foyer'][(df['nbpers_au_foyer'] == 5) | (df['nbpers_au_foyer'] == 4)] = '4+5'\n",
    "    ## mt_auto : On met 4 dans groupe 5 et 7,8 dans groupe 6.\n",
    "    #df['mt_auto'][(df['mt_auto'] > 3) & (df['mt_auto'] < 6)] = '4+5'\n",
    "    df.loc[(df['mt_auto'] > 3) & (df['mt_auto'] < 6),'mt_auto'] = '4+5'\n",
    "    #df['mt_auto'][df['mt_auto'] == 6] = '6et+'\n",
    "    df.loc[(df['mt_auto'] == 6) | (df['mt_auto'] == 7) | (df['mt_auto'] == 8),'mt_auto'] = '6et+'\n",
    "\n",
    "    ## nb_auto : Groupe 0, group 1 et les autres dans groupe 2.\n",
    "    df.loc[df['nb_auto'] > 1,'nb_auto'] = '2et+'\n",
    "    ## nb_incendie : group 0 et les autres dans group 1.\n",
    "    df.loc[df['nb_incendie'] > 0,'nb_incendie'] = '1et+'\n",
    "    ## niv_etude_haut : groupe 0,1,2,3,4 et les autres dans groupe 5.\n",
    "    df.loc[df['niv_etude_haut'] > 4,'niv_etude_haut'] = '5et+'\n",
    "    ## revenu_moyen : 0, 1 dans groupe 2, groupe 3, groupe 4, groupe 5 et 7,8,9 dans groupe 6.\n",
    "    df.loc[df['revenu_moyen'] < 3,'revenu_moyen'] = '2et-'\n",
    "    df.loc[df['revenu_moyen'] == 6,'revenu_moyen'] = '6et+'\n",
    "    df.loc[df['revenu_moyen'] == 7,'revenu_moyen'] = '6et+'\n",
    "    df.loc[df['revenu_moyen'] == 8,'revenu_moyen'] = '6et+'\n",
    "    df.loc[df['revenu_moyen'] == 9,'revenu_moyen'] = '6et+'\n",
    "    ## nb_RC : Groupe 0 et 2 dans groupe 1.\n",
    "    df.loc[df['nb_RC'] > 0,'nb_RC'] = '1et+'\n",
    "    ## auto0 : Groupe 0, groupe 1, groupe 2, groupe 3, groupe 4 et 6,7,8,9 dans groupe 5.\n",
    "    df.loc[df['auto0'] > 4,'auto0'] = '5et+'\n",
    "    ## auto1 : 0,1,2 dans groupe 3, group 4, groupe 5, groupe 6, groupe 7, group 8, groupe 9\n",
    "    df.loc[df['auto1'] < 4,'auto1'] = '3et-'\n",
    "    ## revenu1 : groupe 0, group 1, groupe 2, groupe 3, groupe 4, group 5, et 7,8,9 dans groupe 6.\n",
    "    df.loc[df['revenu1'] > 5,'revenu1'] = '6et+'\n",
    "    ## revenu2 : groupe 0, group 1, groupe 2, groupe 3, groupe 4, group 5, groupe 6 et 8,9 dans groupe 7.\n",
    "    df.loc[df['revenu2'] > 6,'revenu2'] = '7et+'\n",
    "    ## revenu3 : Groupe 0, group 1, groupe 2, groupe 3, groupe 4, group 5 et 7,8,9 dans groupe 6.\n",
    "    df.loc[df['revenu3'] > 5,'revenu3'] = '6et+'\n",
    "    ## revenu4 : Groupe 0, group 1, groupe 2 et 4,5,6,7,8,9 dans groupe 3.\n",
    "    df.loc[df['revenu4'] > 2,'revenu4'] = '3et+'\n",
    "    ## marie : 0,1,2 dans groupe 3 et groupe 4, group 5, groupe 6, groupe 7, groupe 8, group 9.\n",
    "    df.loc[df['marie'] < 4,'marie'] = '3et-'\n",
    "    ## autre_relation : Groupe 0, group 1, groupe 2, groupe 3, groupe 4, groupe 5 et 7,8,9 dans groupe 6.\n",
    "    df.loc[df['autre_relation'] > 5,'autre_relation'] = '6et+'\n",
    "\n",
    "    # Cas variables modifiées difficiles :\n",
    "    #### méthode supervisée : arbres de décision\n",
    "    ## type_client : Groupe 4 dans 3. Groupe 6 dans 7.\n",
    "    df.loc[(df['type_client'] == 3) | (df['type_client'] == 4),'type_client'] = '3+4'\n",
    "    df.loc[df['type_client'] == 6 ,'type_client'] = '6+7'\n",
    "    df.loc[df['type_client'] == 7 ,'type_client'] = '6+7'\n",
    "    \n",
    "    ## mt_incendie : On met 6,7,8 dans 5. \n",
    "    ## On ne sais pas décider avec le groupe 1.\n",
    "    ## Avec l'aide d'arbre de décision en haut, on va mettre group 1 dans 0.\n",
    "    df.loc[df['mt_incendie'] > 4,'mt_incendie'] = '5et+'\n",
    "    df.loc[df['mt_incendie'] == 0,'mt_incendie'] = '1et-'   \n",
    "    df.loc[df['mt_incendie'] == 1,'mt_incendie'] = '1et-'   \n",
    "    \n",
    "    ## mt_RC : On met groupe 3 dans groupes 2. \n",
    "    ## On ne sais pas décider avec le groupe 1.\n",
    "    ## Avec l'aide d'arbre de décision en haut, on va mettre group 1 dans 0.\n",
    "    df.loc[df['mt_RC'] > 3,'mt_RC'] = '2+3'\n",
    "    df.loc[df['mt_RC'] ==0,'mt_RC'] = '0+1'\n",
    "    df.loc[df['mt_RC'] ==1,'mt_RC'] = '0+1' \n",
    "    \n",
    "    ## assur_sante_prive : On met groupe 8, 9 dans groupes 7.\n",
    "    ## On ne sais pas décider avec le groupe 6. \n",
    "    ## Avec l'aide d'arbre de décision en haut, on va mettre groupe 6 dans 7.\n",
    "    df.loc[df['assur_sante_prive'] > 5,'assur_sante_prive'] = '6et+' \n",
    "    \n",
    "    ## assur_sante_public : On met groupe 0, 1 dans groupes 2. \n",
    "    ## On ne sais pas décider avec le groupe 3 (en 2 ou 4). \n",
    "    ## Avec l'aide d'arbre de décision en haut, on va mettre groupe 3 dans 4.\n",
    "    df.loc[df['assur_sante_public'] < 3,'assur_sante_public'] = '2et-'\n",
    "    df.loc[df['assur_sante_public'] ==3,'assur_sante_public'] = '3+4'\n",
    "    df.loc[df['assur_sante_public'] ==4,'assur_sante_public'] = '3+4'\n",
    "    \n",
    "    return df"
   ]
  },
  {
   "cell_type": "code",
   "execution_count": 4,
   "id": "511006d7",
   "metadata": {},
   "outputs": [
    {
     "data": {
      "text/html": [
       "<div>\n",
       "<style scoped>\n",
       "    .dataframe tbody tr th:only-of-type {\n",
       "        vertical-align: middle;\n",
       "    }\n",
       "\n",
       "    .dataframe tbody tr th {\n",
       "        vertical-align: top;\n",
       "    }\n",
       "\n",
       "    .dataframe thead th {\n",
       "        text-align: right;\n",
       "    }\n",
       "</style>\n",
       "<table border=\"1\" class=\"dataframe\">\n",
       "  <thead>\n",
       "    <tr style=\"text-align: right;\">\n",
       "      <th></th>\n",
       "      <th>nbmaisons_2et+</th>\n",
       "      <th>pouvoir_achat_2</th>\n",
       "      <th>pouvoir_achat_3</th>\n",
       "      <th>pouvoir_achat_4</th>\n",
       "      <th>pouvoir_achat_5</th>\n",
       "      <th>pouvoir_achat_6</th>\n",
       "      <th>pouvoir_achat_7</th>\n",
       "      <th>pouvoir_achat_8</th>\n",
       "      <th>nbpers_au_foyer_2</th>\n",
       "      <th>nbpers_au_foyer_3</th>\n",
       "      <th>...</th>\n",
       "      <th>autre_relation_3</th>\n",
       "      <th>autre_relation_4</th>\n",
       "      <th>autre_relation_5</th>\n",
       "      <th>autre_relation_6et+</th>\n",
       "      <th>assur_sante_prive_1</th>\n",
       "      <th>assur_sante_prive_2</th>\n",
       "      <th>assur_sante_prive_3</th>\n",
       "      <th>assur_sante_prive_4</th>\n",
       "      <th>assur_sante_prive_5</th>\n",
       "      <th>assur_sante_prive_6et+</th>\n",
       "    </tr>\n",
       "    <tr>\n",
       "      <th>cle</th>\n",
       "      <th></th>\n",
       "      <th></th>\n",
       "      <th></th>\n",
       "      <th></th>\n",
       "      <th></th>\n",
       "      <th></th>\n",
       "      <th></th>\n",
       "      <th></th>\n",
       "      <th></th>\n",
       "      <th></th>\n",
       "      <th></th>\n",
       "      <th></th>\n",
       "      <th></th>\n",
       "      <th></th>\n",
       "      <th></th>\n",
       "      <th></th>\n",
       "      <th></th>\n",
       "      <th></th>\n",
       "      <th></th>\n",
       "      <th></th>\n",
       "      <th></th>\n",
       "    </tr>\n",
       "  </thead>\n",
       "  <tbody>\n",
       "    <tr>\n",
       "      <th>5797</th>\n",
       "      <td>0</td>\n",
       "      <td>0</td>\n",
       "      <td>0</td>\n",
       "      <td>0</td>\n",
       "      <td>1</td>\n",
       "      <td>0</td>\n",
       "      <td>0</td>\n",
       "      <td>0</td>\n",
       "      <td>0</td>\n",
       "      <td>0</td>\n",
       "      <td>...</td>\n",
       "      <td>0</td>\n",
       "      <td>0</td>\n",
       "      <td>0</td>\n",
       "      <td>0</td>\n",
       "      <td>0</td>\n",
       "      <td>0</td>\n",
       "      <td>0</td>\n",
       "      <td>0</td>\n",
       "      <td>0</td>\n",
       "      <td>0</td>\n",
       "    </tr>\n",
       "    <tr>\n",
       "      <th>697</th>\n",
       "      <td>1</td>\n",
       "      <td>0</td>\n",
       "      <td>0</td>\n",
       "      <td>0</td>\n",
       "      <td>0</td>\n",
       "      <td>1</td>\n",
       "      <td>0</td>\n",
       "      <td>0</td>\n",
       "      <td>1</td>\n",
       "      <td>0</td>\n",
       "      <td>...</td>\n",
       "      <td>0</td>\n",
       "      <td>0</td>\n",
       "      <td>0</td>\n",
       "      <td>0</td>\n",
       "      <td>0</td>\n",
       "      <td>0</td>\n",
       "      <td>0</td>\n",
       "      <td>1</td>\n",
       "      <td>0</td>\n",
       "      <td>0</td>\n",
       "    </tr>\n",
       "    <tr>\n",
       "      <th>3853</th>\n",
       "      <td>0</td>\n",
       "      <td>0</td>\n",
       "      <td>0</td>\n",
       "      <td>0</td>\n",
       "      <td>1</td>\n",
       "      <td>0</td>\n",
       "      <td>0</td>\n",
       "      <td>0</td>\n",
       "      <td>0</td>\n",
       "      <td>0</td>\n",
       "      <td>...</td>\n",
       "      <td>1</td>\n",
       "      <td>0</td>\n",
       "      <td>0</td>\n",
       "      <td>0</td>\n",
       "      <td>0</td>\n",
       "      <td>0</td>\n",
       "      <td>0</td>\n",
       "      <td>0</td>\n",
       "      <td>1</td>\n",
       "      <td>0</td>\n",
       "    </tr>\n",
       "    <tr>\n",
       "      <th>4054</th>\n",
       "      <td>1</td>\n",
       "      <td>0</td>\n",
       "      <td>0</td>\n",
       "      <td>0</td>\n",
       "      <td>0</td>\n",
       "      <td>0</td>\n",
       "      <td>0</td>\n",
       "      <td>1</td>\n",
       "      <td>0</td>\n",
       "      <td>0</td>\n",
       "      <td>...</td>\n",
       "      <td>0</td>\n",
       "      <td>0</td>\n",
       "      <td>0</td>\n",
       "      <td>0</td>\n",
       "      <td>0</td>\n",
       "      <td>0</td>\n",
       "      <td>0</td>\n",
       "      <td>0</td>\n",
       "      <td>0</td>\n",
       "      <td>1</td>\n",
       "    </tr>\n",
       "    <tr>\n",
       "      <th>3765</th>\n",
       "      <td>0</td>\n",
       "      <td>0</td>\n",
       "      <td>1</td>\n",
       "      <td>0</td>\n",
       "      <td>0</td>\n",
       "      <td>0</td>\n",
       "      <td>0</td>\n",
       "      <td>0</td>\n",
       "      <td>1</td>\n",
       "      <td>0</td>\n",
       "      <td>...</td>\n",
       "      <td>0</td>\n",
       "      <td>0</td>\n",
       "      <td>0</td>\n",
       "      <td>0</td>\n",
       "      <td>0</td>\n",
       "      <td>0</td>\n",
       "      <td>1</td>\n",
       "      <td>0</td>\n",
       "      <td>0</td>\n",
       "      <td>0</td>\n",
       "    </tr>\n",
       "  </tbody>\n",
       "</table>\n",
       "<p>5 rows × 108 columns</p>\n",
       "</div>"
      ],
      "text/plain": [
       "      nbmaisons_2et+  pouvoir_achat_2  pouvoir_achat_3  pouvoir_achat_4  \\\n",
       "cle                                                                       \n",
       "5797               0                0                0                0   \n",
       "697                1                0                0                0   \n",
       "3853               0                0                0                0   \n",
       "4054               1                0                0                0   \n",
       "3765               0                0                1                0   \n",
       "\n",
       "      pouvoir_achat_5  pouvoir_achat_6  pouvoir_achat_7  pouvoir_achat_8  \\\n",
       "cle                                                                        \n",
       "5797                1                0                0                0   \n",
       "697                 0                1                0                0   \n",
       "3853                1                0                0                0   \n",
       "4054                0                0                0                1   \n",
       "3765                0                0                0                0   \n",
       "\n",
       "      nbpers_au_foyer_2  nbpers_au_foyer_3  ...  autre_relation_3  \\\n",
       "cle                                         ...                     \n",
       "5797                  0                  0  ...                 0   \n",
       "697                   1                  0  ...                 0   \n",
       "3853                  0                  0  ...                 1   \n",
       "4054                  0                  0  ...                 0   \n",
       "3765                  1                  0  ...                 0   \n",
       "\n",
       "      autre_relation_4  autre_relation_5  autre_relation_6et+  \\\n",
       "cle                                                             \n",
       "5797                 0                 0                    0   \n",
       "697                  0                 0                    0   \n",
       "3853                 0                 0                    0   \n",
       "4054                 0                 0                    0   \n",
       "3765                 0                 0                    0   \n",
       "\n",
       "      assur_sante_prive_1  assur_sante_prive_2  assur_sante_prive_3  \\\n",
       "cle                                                                   \n",
       "5797                    0                    0                    0   \n",
       "697                     0                    0                    0   \n",
       "3853                    0                    0                    0   \n",
       "4054                    0                    0                    0   \n",
       "3765                    0                    0                    1   \n",
       "\n",
       "      assur_sante_prive_4  assur_sante_prive_5  assur_sante_prive_6et+  \n",
       "cle                                                                     \n",
       "5797                    0                    0                       0  \n",
       "697                     1                    0                       0  \n",
       "3853                    0                    1                       0  \n",
       "4054                    0                    0                       1  \n",
       "3765                    0                    0                       0  \n",
       "\n",
       "[5 rows x 108 columns]"
      ]
     },
     "execution_count": 4,
     "metadata": {},
     "output_type": "execute_result"
    }
   ],
   "source": [
    "data_clean_train = discretisation(data_train)\n",
    "y_train = data_clean_train['assur_caravane']\n",
    "# Car il existe des donndées de type chaine de charactère. \n",
    "# Donc on va transforme en type numérique avec l'aide de la méthode dummies\n",
    "# créer des dummies variables\n",
    "data_clean_train=data_clean_train.drop(['assur_caravane','locataire', 'assur_sante_public'],axis=1)\n",
    "data_clean_train=data_clean_train.astype(str)\n",
    "data_train_dencode_3=pd.get_dummies(data_clean_train,drop_first=True)\n",
    "data_train_dencode_3.head()"
   ]
  },
  {
   "cell_type": "code",
   "execution_count": 5,
   "id": "b9b3d1e0",
   "metadata": {},
   "outputs": [
    {
     "data": {
      "text/html": [
       "<div>\n",
       "<style scoped>\n",
       "    .dataframe tbody tr th:only-of-type {\n",
       "        vertical-align: middle;\n",
       "    }\n",
       "\n",
       "    .dataframe tbody tr th {\n",
       "        vertical-align: top;\n",
       "    }\n",
       "\n",
       "    .dataframe thead th {\n",
       "        text-align: right;\n",
       "    }\n",
       "</style>\n",
       "<table border=\"1\" class=\"dataframe\">\n",
       "  <thead>\n",
       "    <tr style=\"text-align: right;\">\n",
       "      <th></th>\n",
       "      <th>nbmaisons_2et+</th>\n",
       "      <th>pouvoir_achat_2</th>\n",
       "      <th>pouvoir_achat_3</th>\n",
       "      <th>pouvoir_achat_4</th>\n",
       "      <th>pouvoir_achat_5</th>\n",
       "      <th>pouvoir_achat_6</th>\n",
       "      <th>pouvoir_achat_7</th>\n",
       "      <th>pouvoir_achat_8</th>\n",
       "      <th>nbpers_au_foyer_2</th>\n",
       "      <th>nbpers_au_foyer_3</th>\n",
       "      <th>...</th>\n",
       "      <th>autre_relation_3</th>\n",
       "      <th>autre_relation_4</th>\n",
       "      <th>autre_relation_5</th>\n",
       "      <th>autre_relation_6et+</th>\n",
       "      <th>assur_sante_prive_1</th>\n",
       "      <th>assur_sante_prive_2</th>\n",
       "      <th>assur_sante_prive_3</th>\n",
       "      <th>assur_sante_prive_4</th>\n",
       "      <th>assur_sante_prive_5</th>\n",
       "      <th>assur_sante_prive_6et+</th>\n",
       "    </tr>\n",
       "    <tr>\n",
       "      <th>cle</th>\n",
       "      <th></th>\n",
       "      <th></th>\n",
       "      <th></th>\n",
       "      <th></th>\n",
       "      <th></th>\n",
       "      <th></th>\n",
       "      <th></th>\n",
       "      <th></th>\n",
       "      <th></th>\n",
       "      <th></th>\n",
       "      <th></th>\n",
       "      <th></th>\n",
       "      <th></th>\n",
       "      <th></th>\n",
       "      <th></th>\n",
       "      <th></th>\n",
       "      <th></th>\n",
       "      <th></th>\n",
       "      <th></th>\n",
       "      <th></th>\n",
       "      <th></th>\n",
       "    </tr>\n",
       "  </thead>\n",
       "  <tbody>\n",
       "    <tr>\n",
       "      <th>3657</th>\n",
       "      <td>0</td>\n",
       "      <td>0</td>\n",
       "      <td>0</td>\n",
       "      <td>1</td>\n",
       "      <td>0</td>\n",
       "      <td>0</td>\n",
       "      <td>0</td>\n",
       "      <td>0</td>\n",
       "      <td>0</td>\n",
       "      <td>1</td>\n",
       "      <td>...</td>\n",
       "      <td>0</td>\n",
       "      <td>0</td>\n",
       "      <td>0</td>\n",
       "      <td>0</td>\n",
       "      <td>0</td>\n",
       "      <td>1</td>\n",
       "      <td>0</td>\n",
       "      <td>0</td>\n",
       "      <td>0</td>\n",
       "      <td>0</td>\n",
       "    </tr>\n",
       "    <tr>\n",
       "      <th>4252</th>\n",
       "      <td>0</td>\n",
       "      <td>0</td>\n",
       "      <td>0</td>\n",
       "      <td>0</td>\n",
       "      <td>1</td>\n",
       "      <td>0</td>\n",
       "      <td>0</td>\n",
       "      <td>0</td>\n",
       "      <td>0</td>\n",
       "      <td>0</td>\n",
       "      <td>...</td>\n",
       "      <td>0</td>\n",
       "      <td>0</td>\n",
       "      <td>0</td>\n",
       "      <td>0</td>\n",
       "      <td>0</td>\n",
       "      <td>0</td>\n",
       "      <td>0</td>\n",
       "      <td>0</td>\n",
       "      <td>0</td>\n",
       "      <td>0</td>\n",
       "    </tr>\n",
       "    <tr>\n",
       "      <th>3951</th>\n",
       "      <td>1</td>\n",
       "      <td>0</td>\n",
       "      <td>0</td>\n",
       "      <td>0</td>\n",
       "      <td>0</td>\n",
       "      <td>0</td>\n",
       "      <td>0</td>\n",
       "      <td>1</td>\n",
       "      <td>0</td>\n",
       "      <td>1</td>\n",
       "      <td>...</td>\n",
       "      <td>0</td>\n",
       "      <td>0</td>\n",
       "      <td>0</td>\n",
       "      <td>0</td>\n",
       "      <td>0</td>\n",
       "      <td>0</td>\n",
       "      <td>1</td>\n",
       "      <td>0</td>\n",
       "      <td>0</td>\n",
       "      <td>0</td>\n",
       "    </tr>\n",
       "    <tr>\n",
       "      <th>177</th>\n",
       "      <td>0</td>\n",
       "      <td>0</td>\n",
       "      <td>0</td>\n",
       "      <td>1</td>\n",
       "      <td>0</td>\n",
       "      <td>0</td>\n",
       "      <td>0</td>\n",
       "      <td>0</td>\n",
       "      <td>0</td>\n",
       "      <td>1</td>\n",
       "      <td>...</td>\n",
       "      <td>0</td>\n",
       "      <td>0</td>\n",
       "      <td>0</td>\n",
       "      <td>0</td>\n",
       "      <td>0</td>\n",
       "      <td>0</td>\n",
       "      <td>0</td>\n",
       "      <td>0</td>\n",
       "      <td>1</td>\n",
       "      <td>0</td>\n",
       "    </tr>\n",
       "    <tr>\n",
       "      <th>5218</th>\n",
       "      <td>0</td>\n",
       "      <td>0</td>\n",
       "      <td>1</td>\n",
       "      <td>0</td>\n",
       "      <td>0</td>\n",
       "      <td>0</td>\n",
       "      <td>0</td>\n",
       "      <td>0</td>\n",
       "      <td>1</td>\n",
       "      <td>0</td>\n",
       "      <td>...</td>\n",
       "      <td>1</td>\n",
       "      <td>0</td>\n",
       "      <td>0</td>\n",
       "      <td>0</td>\n",
       "      <td>0</td>\n",
       "      <td>1</td>\n",
       "      <td>0</td>\n",
       "      <td>0</td>\n",
       "      <td>0</td>\n",
       "      <td>0</td>\n",
       "    </tr>\n",
       "  </tbody>\n",
       "</table>\n",
       "<p>5 rows × 108 columns</p>\n",
       "</div>"
      ],
      "text/plain": [
       "      nbmaisons_2et+  pouvoir_achat_2  pouvoir_achat_3  pouvoir_achat_4  \\\n",
       "cle                                                                       \n",
       "3657               0                0                0                1   \n",
       "4252               0                0                0                0   \n",
       "3951               1                0                0                0   \n",
       "177                0                0                0                1   \n",
       "5218               0                0                1                0   \n",
       "\n",
       "      pouvoir_achat_5  pouvoir_achat_6  pouvoir_achat_7  pouvoir_achat_8  \\\n",
       "cle                                                                        \n",
       "3657                0                0                0                0   \n",
       "4252                1                0                0                0   \n",
       "3951                0                0                0                1   \n",
       "177                 0                0                0                0   \n",
       "5218                0                0                0                0   \n",
       "\n",
       "      nbpers_au_foyer_2  nbpers_au_foyer_3  ...  autre_relation_3  \\\n",
       "cle                                         ...                     \n",
       "3657                  0                  1  ...                 0   \n",
       "4252                  0                  0  ...                 0   \n",
       "3951                  0                  1  ...                 0   \n",
       "177                   0                  1  ...                 0   \n",
       "5218                  1                  0  ...                 1   \n",
       "\n",
       "      autre_relation_4  autre_relation_5  autre_relation_6et+  \\\n",
       "cle                                                             \n",
       "3657                 0                 0                    0   \n",
       "4252                 0                 0                    0   \n",
       "3951                 0                 0                    0   \n",
       "177                  0                 0                    0   \n",
       "5218                 0                 0                    0   \n",
       "\n",
       "      assur_sante_prive_1  assur_sante_prive_2  assur_sante_prive_3  \\\n",
       "cle                                                                   \n",
       "3657                    0                    1                    0   \n",
       "4252                    0                    0                    0   \n",
       "3951                    0                    0                    1   \n",
       "177                     0                    0                    0   \n",
       "5218                    0                    1                    0   \n",
       "\n",
       "      assur_sante_prive_4  assur_sante_prive_5  assur_sante_prive_6et+  \n",
       "cle                                                                     \n",
       "3657                    0                    0                       0  \n",
       "4252                    0                    0                       0  \n",
       "3951                    0                    0                       0  \n",
       "177                     0                    1                       0  \n",
       "5218                    0                    0                       0  \n",
       "\n",
       "[5 rows x 108 columns]"
      ]
     },
     "execution_count": 5,
     "metadata": {},
     "output_type": "execute_result"
    }
   ],
   "source": [
    "data_clean_test = discretisation(data_test)\n",
    "y_test = data_clean_test['assur_caravane']\n",
    "## idem pour données tests\n",
    "# créer des dummies variables\n",
    "data_clean_test=data_clean_test.drop(['assur_caravane','locataire', 'assur_sante_public'],axis=1)\n",
    "data_clean_test=data_clean_test.astype(str)\n",
    "data_test_dencode_3=pd.get_dummies(data_clean_test,drop_first=True)\n",
    "data_test_dencode_3.head()"
   ]
  },
  {
   "cell_type": "markdown",
   "id": "f0085db6",
   "metadata": {},
   "source": [
    "#  3. Travailler sur des abres"
   ]
  },
  {
   "cell_type": "markdown",
   "id": "d1946072",
   "metadata": {},
   "source": [
    "## Arbre 1 (sans utiliser hyperparamètres)"
   ]
  },
  {
   "cell_type": "code",
   "execution_count": 6,
   "id": "664ff38d",
   "metadata": {},
   "outputs": [
    {
     "data": {
      "image/png": "[encoded data removed]",
      "text/plain": [
       "<Figure size 432x288 with 1 Axes>"
      ]
     },
     "metadata": {
      "needs_background": "light"
     },
     "output_type": "display_data"
    }
   ],
   "source": [
    "from sklearn.tree import DecisionTreeClassifier\n",
    "from sklearn.tree import export_graphviz, plot_tree\n",
    "from sklearn import tree\n",
    "#Construction d'un arbre de décision\n",
    "#arbre avec les paramètres par défaut\n",
    "arbre1 = DecisionTreeClassifier()\n",
    "arbre1.fit(data_train_dencode_3,y_train)\n",
    "tree.plot_tree(arbre1, filled=True,feature_names=data_train_dencode_3.columns)\n",
    "plt.show()"
   ]
  },
  {
   "cell_type": "markdown",
   "id": "a2b28f99",
   "metadata": {},
   "source": [
    "<b>Conclusion </b>\n",
    "<br>Le graphe est illisible\n",
    "<br>Trop de noeuds."
   ]
  },
  {
   "cell_type": "markdown",
   "id": "86e05e7e",
   "metadata": {},
   "source": [
    "## Performance de Arbre 1 "
   ]
  },
  {
   "cell_type": "code",
   "execution_count": 7,
   "id": "895bdf5a",
   "metadata": {},
   "outputs": [],
   "source": [
    "# Fonction \n",
    "def mesure_perf(X,y,model):\n",
    "    #matrice de confusion\n",
    "    pred=model.predict(X)\n",
    "    print(\"Matrice de confusion :\")\n",
    "    print(confusion_matrix(y,pred))\n",
    "    \n",
    "    #rapport de classification\n",
    "    print(\"Rapport de classification :\")\n",
    "    print(classification_report(y,pred))\n",
    "    \n",
    "    #aire sous la courbe ROC\n",
    "    print(\"aire sous la courbe ROC :\",roc_auc_score(y,pred))\n",
    "    \n",
    "    #aire sous la courbe PRC\n",
    "    print(\"aire sous la courbe PRC :\",average_precision_score(y,pred))"
   ]
  },
  {
   "cell_type": "code",
   "execution_count": 8,
   "id": "dd49b379",
   "metadata": {},
   "outputs": [
    {
     "name": "stdout",
     "output_type": "stream",
     "text": [
      "Matrice de confusion :\n",
      "[[4378    3]\n",
      " [  65  211]]\n",
      "Rapport de classification :\n",
      "              precision    recall  f1-score   support\n",
      "\n",
      "           0       0.99      1.00      0.99      4381\n",
      "           1       0.99      0.76      0.86       276\n",
      "\n",
      "    accuracy                           0.99      4657\n",
      "   macro avg       0.99      0.88      0.93      4657\n",
      "weighted avg       0.99      0.99      0.98      4657\n",
      "\n",
      "aire sous la courbe ROC : 0.8819039892288505\n",
      "aire sous la courbe PRC : 0.767733048846669\n"
     ]
    }
   ],
   "source": [
    "mesure_perf(data_train_dencode_3,y_train, arbre1)"
   ]
  },
  {
   "cell_type": "code",
   "execution_count": 9,
   "id": "82a3fcbc",
   "metadata": {},
   "outputs": [
    {
     "name": "stdout",
     "output_type": "stream",
     "text": [
      "Matrice de confusion :\n",
      "[[1036   57]\n",
      " [  63    9]]\n",
      "Rapport de classification :\n",
      "              precision    recall  f1-score   support\n",
      "\n",
      "           0       0.94      0.95      0.95      1093\n",
      "           1       0.14      0.12      0.13        72\n",
      "\n",
      "    accuracy                           0.90      1165\n",
      "   macro avg       0.54      0.54      0.54      1165\n",
      "weighted avg       0.89      0.90      0.89      1165\n",
      "\n",
      "aire sous la courbe ROC : 0.5364249771271729\n",
      "aire sous la courbe PRC : 0.07112270776433866\n"
     ]
    }
   ],
   "source": [
    "mesure_perf(data_test_dencode_3,y_test, arbre1)"
   ]
  },
  {
   "cell_type": "markdown",
   "id": "ff516677",
   "metadata": {},
   "source": [
    "Sur la validation, la précision du modèle est très mauvaise en ce qui concerne la classe 1. \n",
    "La prédiction sur la validation révèle un grand sur-apprentissage : l'aire sous la courbe PRC a baissé de .77 à .07 et la précision a aussi beaucoup chuté.\n",
    "    \n",
    "    => rajouter hyperparpamètres "
   ]
  },
  {
   "cell_type": "markdown",
   "id": "e28cdb43",
   "metadata": {},
   "source": [
    "## Arbre 2 (essayer le profond d'arbre)"
   ]
  },
  {
   "cell_type": "code",
   "execution_count": 10,
   "id": "c7ab1f59",
   "metadata": {},
   "outputs": [
    {
     "data": {
      "image/png": "[encoded data removed]",
      "text/plain": [
       "<Figure size 432x288 with 1 Axes>"
      ]
     },
     "metadata": {
      "needs_background": "light"
     },
     "output_type": "display_data"
    }
   ],
   "source": [
    "#Construction d'un arbre de décision\n",
    "#arbre avec les paramètres max_depth = 3\n",
    "arbre2 = DecisionTreeClassifier(max_depth =2)\n",
    "arbre2.fit(data_train_dencode_3,y_train)\n",
    "tree.plot_tree(arbre2, filled=True,feature_names=data_train_dencode_3.columns)\n",
    "plt.show()"
   ]
  },
  {
   "cell_type": "markdown",
   "id": "749c1781",
   "metadata": {},
   "source": [
    "Trop de orange"
   ]
  },
  {
   "cell_type": "markdown",
   "id": "75b5c024",
   "metadata": {},
   "source": [
    "## Performance Arbre 2"
   ]
  },
  {
   "cell_type": "code",
   "execution_count": 11,
   "id": "6e22529f",
   "metadata": {},
   "outputs": [
    {
     "name": "stdout",
     "output_type": "stream",
     "text": [
      "Matrice de confusion :\n",
      "[[4381    0]\n",
      " [ 276    0]]\n",
      "Rapport de classification :\n",
      "              precision    recall  f1-score   support\n",
      "\n",
      "           0       0.94      1.00      0.97      4381\n",
      "           1       0.00      0.00      0.00       276\n",
      "\n",
      "    accuracy                           0.94      4657\n",
      "   macro avg       0.47      0.50      0.48      4657\n",
      "weighted avg       0.88      0.94      0.91      4657\n",
      "\n",
      "aire sous la courbe ROC : 0.5\n",
      "aire sous la courbe PRC : 0.05926562164483573\n"
     ]
    },
    {
     "name": "stderr",
     "output_type": "stream",
     "text": [
      "/Polytech/tnngo1/.local/lib/python3.8/site-packages/sklearn/metrics/_classification.py:1344: UndefinedMetricWarning: Precision and F-score are ill-defined and being set to 0.0 in labels with no predicted samples. Use `zero_division` parameter to control this behavior.\n",
      "  _warn_prf(average, modifier, msg_start, len(result))\n",
      "/Polytech/tnngo1/.local/lib/python3.8/site-packages/sklearn/metrics/_classification.py:1344: UndefinedMetricWarning: Precision and F-score are ill-defined and being set to 0.0 in labels with no predicted samples. Use `zero_division` parameter to control this behavior.\n",
      "  _warn_prf(average, modifier, msg_start, len(result))\n",
      "/Polytech/tnngo1/.local/lib/python3.8/site-packages/sklearn/metrics/_classification.py:1344: UndefinedMetricWarning: Precision and F-score are ill-defined and being set to 0.0 in labels with no predicted samples. Use `zero_division` parameter to control this behavior.\n",
      "  _warn_prf(average, modifier, msg_start, len(result))\n"
     ]
    }
   ],
   "source": [
    "mesure_perf(data_train_dencode_3,y_train, arbre2)"
   ]
  },
  {
   "cell_type": "code",
   "execution_count": 12,
   "id": "ef532cd1",
   "metadata": {},
   "outputs": [
    {
     "name": "stdout",
     "output_type": "stream",
     "text": [
      "Matrice de confusion :\n",
      "[[1093    0]\n",
      " [  72    0]]\n",
      "Rapport de classification :\n",
      "              precision    recall  f1-score   support\n",
      "\n",
      "           0       0.94      1.00      0.97      1093\n",
      "           1       0.00      0.00      0.00        72\n",
      "\n",
      "    accuracy                           0.94      1165\n",
      "   macro avg       0.47      0.50      0.48      1165\n",
      "weighted avg       0.88      0.94      0.91      1165\n",
      "\n",
      "aire sous la courbe ROC : 0.5\n",
      "aire sous la courbe PRC : 0.061802575107296136\n"
     ]
    },
    {
     "name": "stderr",
     "output_type": "stream",
     "text": [
      "/Polytech/tnngo1/.local/lib/python3.8/site-packages/sklearn/metrics/_classification.py:1344: UndefinedMetricWarning: Precision and F-score are ill-defined and being set to 0.0 in labels with no predicted samples. Use `zero_division` parameter to control this behavior.\n",
      "  _warn_prf(average, modifier, msg_start, len(result))\n",
      "/Polytech/tnngo1/.local/lib/python3.8/site-packages/sklearn/metrics/_classification.py:1344: UndefinedMetricWarning: Precision and F-score are ill-defined and being set to 0.0 in labels with no predicted samples. Use `zero_division` parameter to control this behavior.\n",
      "  _warn_prf(average, modifier, msg_start, len(result))\n",
      "/Polytech/tnngo1/.local/lib/python3.8/site-packages/sklearn/metrics/_classification.py:1344: UndefinedMetricWarning: Precision and F-score are ill-defined and being set to 0.0 in labels with no predicted samples. Use `zero_division` parameter to control this behavior.\n",
      "  _warn_prf(average, modifier, msg_start, len(result))\n"
     ]
    }
   ],
   "source": [
    "mesure_perf(data_test_dencode_3,y_test, arbre2)"
   ]
  },
  {
   "cell_type": "markdown",
   "id": "98a9457e",
   "metadata": {},
   "source": [
    "## Arbre 3 (essayer nombre de feuille)"
   ]
  },
  {
   "cell_type": "code",
   "execution_count": 13,
   "id": "758aa70f",
   "metadata": {},
   "outputs": [
    {
     "data": {
      "image/png": "[encoded data removed]",
      "text/plain": [
       "<Figure size 432x288 with 1 Axes>"
      ]
     },
     "metadata": {
      "needs_background": "light"
     },
     "output_type": "display_data"
    }
   ],
   "source": [
    "arbre3 = DecisionTreeClassifier(min_samples_leaf= 10)\n",
    "arbre3.fit(data_train_dencode_3,y_train)\n",
    "tree.plot_tree(arbre3, filled=True,feature_names=data_train_dencode_3.columns)\n",
    "plt.show()"
   ]
  },
  {
   "cell_type": "code",
   "execution_count": 14,
   "id": "3d2b47fa",
   "metadata": {},
   "outputs": [
    {
     "name": "stdout",
     "output_type": "stream",
     "text": [
      "Matrice de confusion :\n",
      "[[4371   10]\n",
      " [ 261   15]]\n",
      "Rapport de classification :\n",
      "              precision    recall  f1-score   support\n",
      "\n",
      "           0       0.94      1.00      0.97      4381\n",
      "           1       0.60      0.05      0.10       276\n",
      "\n",
      "    accuracy                           0.94      4657\n",
      "   macro avg       0.77      0.53      0.53      4657\n",
      "weighted avg       0.92      0.94      0.92      4657\n",
      "\n",
      "aire sous la courbe ROC : 0.5260326211009995\n",
      "aire sous la courbe PRC : 0.08865335959892073\n"
     ]
    }
   ],
   "source": [
    "mesure_perf(data_train_dencode_3,y_train, arbre3)"
   ]
  },
  {
   "cell_type": "code",
   "execution_count": 15,
   "id": "f4ea082d",
   "metadata": {},
   "outputs": [
    {
     "name": "stdout",
     "output_type": "stream",
     "text": [
      "Matrice de confusion :\n",
      "[[1088    5]\n",
      " [  71    1]]\n",
      "Rapport de classification :\n",
      "              precision    recall  f1-score   support\n",
      "\n",
      "           0       0.94      1.00      0.97      1093\n",
      "           1       0.17      0.01      0.03        72\n",
      "\n",
      "    accuracy                           0.93      1165\n",
      "   macro avg       0.55      0.50      0.50      1165\n",
      "weighted avg       0.89      0.93      0.91      1165\n",
      "\n",
      "aire sous la courbe ROC : 0.5046571617363017\n",
      "aire sous la courbe PRC : 0.0632590208233985\n"
     ]
    }
   ],
   "source": [
    "mesure_perf(data_test_dencode_3,y_test, arbre3)"
   ]
  },
  {
   "cell_type": "markdown",
   "id": "26b559c4",
   "metadata": {},
   "source": [
    "## Arbre 4 (mixte)"
   ]
  },
  {
   "cell_type": "code",
   "execution_count": 16,
   "id": "670f3c63",
   "metadata": {},
   "outputs": [
    {
     "data": {
      "image/png": "[encoded data removed]",
      "text/plain": [
       "<Figure size 432x288 with 1 Axes>"
      ]
     },
     "metadata": {
      "needs_background": "light"
     },
     "output_type": "display_data"
    }
   ],
   "source": [
    "arbre4 = DecisionTreeClassifier(max_depth =6,min_samples_leaf= 10)\n",
    "arbre4.fit(data_train_dencode_3,y_train)\n",
    "tree.plot_tree(arbre4, filled=True,feature_names=data_train_dencode_3.columns)\n",
    "plt.show()"
   ]
  },
  {
   "cell_type": "code",
   "execution_count": 17,
   "id": "c3e344f8",
   "metadata": {},
   "outputs": [
    {
     "name": "stdout",
     "output_type": "stream",
     "text": [
      "Matrice de confusion :\n",
      "[[4371   10]\n",
      " [ 261   15]]\n",
      "Rapport de classification :\n",
      "              precision    recall  f1-score   support\n",
      "\n",
      "           0       0.94      1.00      0.97      4381\n",
      "           1       0.60      0.05      0.10       276\n",
      "\n",
      "    accuracy                           0.94      4657\n",
      "   macro avg       0.77      0.53      0.53      4657\n",
      "weighted avg       0.92      0.94      0.92      4657\n",
      "\n",
      "aire sous la courbe ROC : 0.5260326211009995\n",
      "aire sous la courbe PRC : 0.08865335959892073\n"
     ]
    }
   ],
   "source": [
    "mesure_perf(data_train_dencode_3,y_train, arbre4)"
   ]
  },
  {
   "cell_type": "code",
   "execution_count": 18,
   "id": "acc5af7a",
   "metadata": {},
   "outputs": [
    {
     "name": "stdout",
     "output_type": "stream",
     "text": [
      "Matrice de confusion :\n",
      "[[1088    5]\n",
      " [  71    1]]\n",
      "Rapport de classification :\n",
      "              precision    recall  f1-score   support\n",
      "\n",
      "           0       0.94      1.00      0.97      1093\n",
      "           1       0.17      0.01      0.03        72\n",
      "\n",
      "    accuracy                           0.93      1165\n",
      "   macro avg       0.55      0.50      0.50      1165\n",
      "weighted avg       0.89      0.93      0.91      1165\n",
      "\n",
      "aire sous la courbe ROC : 0.5046571617363017\n",
      "aire sous la courbe PRC : 0.0632590208233985\n"
     ]
    }
   ],
   "source": [
    "mesure_perf(data_test_dencode_3,y_test, arbre4)"
   ]
  },
  {
   "cell_type": "markdown",
   "id": "724c0717",
   "metadata": {},
   "source": [
    "Conclusion intermédiaire : des arbres 1,2,3,4 donne 'accuracy' assez élévés mais des résultats sur classe 1 sont faibles."
   ]
  },
  {
   "cell_type": "markdown",
   "id": "1498fa6f",
   "metadata": {},
   "source": [
    "## Over sampling"
   ]
  },
  {
   "cell_type": "code",
   "execution_count": 19,
   "id": "b94eb4f9",
   "metadata": {},
   "outputs": [],
   "source": [
    "#avec imblearn\n",
    "from imblearn.over_sampling import RandomOverSampler, SMOTE, ADASYN\n",
    "from imblearn.under_sampling import RandomUnderSampler\n",
    "\n",
    "#over sampling naif\n",
    "ros = RandomOverSampler(random_state=0)#initialisation de la méthode avc spécification ou non de la graine\n",
    "Xover, yover = ros.fit_resample(data_train_dencode_3,y_train)"
   ]
  },
  {
   "cell_type": "code",
   "execution_count": 20,
   "id": "c50c8143",
   "metadata": {},
   "outputs": [],
   "source": [
    "def oversampling(donnees,nom_var):\n",
    "    data=donnees.copy()\n",
    "    indexval1=data.index[data[nom_var]==1]\n",
    "    indexval0=data.index[data[nom_var]==0]\n",
    "    #tirage aléatoire avec remise des valeurs du groupe 1\n",
    "    newliste=np.random.choice(indexval1,indexval0.shape[0],replace=True).astype('int32')\n",
    "    newliste1=[]\n",
    "    for val in newliste:\n",
    "        newliste1.append(np.min(np.where(data.index==val)))\n",
    "    data_over=data.take(newliste1)\n",
    "    data_over=pd.concat([data_over,data.loc[indexval0]],axis=0)\n",
    "    return(data_over)"
   ]
  },
  {
   "cell_type": "code",
   "execution_count": 21,
   "id": "0acaa722",
   "metadata": {},
   "outputs": [],
   "source": [
    "newdata_train = oversampling(data_train,'assur_caravane')\n",
    "newdata_test = oversampling(data_test,'assur_caravane')"
   ]
  },
  {
   "cell_type": "code",
   "execution_count": 22,
   "id": "ea628220",
   "metadata": {},
   "outputs": [],
   "source": [
    "newdata_clean_train = discretisation(newdata_train)\n",
    "newy_train = newdata_clean_train['assur_caravane']\n",
    "# Car il existe des donndées de type chaine de charactère. \n",
    "# Donc on va transforme en type numérique avec l'aide de la méthode dummies\n",
    "# créer des dummies variables\n",
    "newdata_clean_train = newdata_clean_train.drop(['assur_caravane','locataire', 'assur_sante_public'],axis=1)\n",
    "newdata_clean_train= newdata_clean_train.astype(str)\n",
    "newdata_train_dencode_3 = pd.get_dummies(newdata_clean_train,drop_first=True)\n",
    "\n",
    "newdata_clean_test = discretisation(newdata_test)\n",
    "newy_test = newdata_clean_test['assur_caravane']\n",
    "## idem pour données tests\n",
    "# créer des dummies variables\n",
    "newdata_clean_test = newdata_clean_test.drop(['assur_caravane','locataire', 'assur_sante_public'],axis=1)\n",
    "newdata_clean_test = newdata_clean_test.astype(str)\n",
    "newdata_test_dencode_3= pd.get_dummies(newdata_clean_test,drop_first=True)"
   ]
  },
  {
   "cell_type": "code",
   "execution_count": 23,
   "id": "c8532b6c",
   "metadata": {},
   "outputs": [
    {
     "data": {
      "image/png": "[encoded data removed]",
      "text/plain": [
       "<Figure size 432x288 with 1 Axes>"
      ]
     },
     "metadata": {
      "needs_background": "light"
     },
     "output_type": "display_data"
    }
   ],
   "source": [
    "arbre5 = DecisionTreeClassifier(max_depth =4,min_samples_leaf= 200)\n",
    "arbre5.fit(newdata_train_dencode_3,newy_train)\n",
    "tree.plot_tree(arbre5, filled=True,feature_names=newdata_train_dencode_3.columns)\n",
    "plt.show()"
   ]
  },
  {
   "cell_type": "code",
   "execution_count": 24,
   "id": "de3ce7d3",
   "metadata": {},
   "outputs": [
    {
     "name": "stdout",
     "output_type": "stream",
     "text": [
      "Matrice de confusion :\n",
      "[[2830 1551]\n",
      " [ 966 3415]]\n",
      "Rapport de classification :\n",
      "              precision    recall  f1-score   support\n",
      "\n",
      "           0       0.75      0.65      0.69      4381\n",
      "           1       0.69      0.78      0.73      4381\n",
      "\n",
      "    accuracy                           0.71      8762\n",
      "   macro avg       0.72      0.71      0.71      8762\n",
      "weighted avg       0.72      0.71      0.71      8762\n",
      "\n",
      "aire sous la courbe ROC : 0.7127368180780643\n",
      "aire sous la courbe PRC : 0.6462940462618989\n",
      "Matrice de confusion :\n",
      "[[719 374]\n",
      " [299 794]]\n",
      "Rapport de classification :\n",
      "              precision    recall  f1-score   support\n",
      "\n",
      "           0       0.71      0.66      0.68      1093\n",
      "           1       0.68      0.73      0.70      1093\n",
      "\n",
      "    accuracy                           0.69      2186\n",
      "   macro avg       0.69      0.69      0.69      2186\n",
      "weighted avg       0.69      0.69      0.69      2186\n",
      "\n",
      "aire sous la courbe ROC : 0.6921317474839891\n",
      "aire sous la courbe PRC : 0.6306101091629173\n"
     ]
    }
   ],
   "source": [
    "mesure_perf(newdata_train_dencode_3,newy_train, arbre5)\n",
    "mesure_perf(newdata_test_dencode_3,newy_test, arbre5)"
   ]
  },
  {
   "cell_type": "markdown",
   "id": "3b288b50",
   "metadata": {},
   "source": [
    "<b>Conclusion :</b> Même s'il y a une baisse d'accuracy mais le résultat sur donnée validation approche bien le résultat sur donnée d'apprentissage.\n",
    "<br> - On remarque le rappel[0] il y a un sousis car le résultat sur donnée validation mieux que celui sur donnée d'apprentissage.\n",
    "<br> - La partie bleue fait une grande part dans l'arbre (négatif)"
   ]
  },
  {
   "cell_type": "markdown",
   "id": "b4bd5fb6",
   "metadata": {},
   "source": [
    "## Under sampling"
   ]
  },
  {
   "cell_type": "code",
   "execution_count": 25,
   "id": "32f250e9",
   "metadata": {},
   "outputs": [],
   "source": [
    "#under sampling naif\n",
    "rus = RandomUnderSampler(random_state=0, replacement=True)#initialisation et choix pour replacement qui permet de spécifier\n",
    "#si on veut faire un tirage avec (True) ou sans remise (False)\n",
    "Xunder, yunder = rus.fit_resample(data_train_dencode_3, y_train)"
   ]
  },
  {
   "cell_type": "code",
   "execution_count": 26,
   "id": "ed000489",
   "metadata": {},
   "outputs": [],
   "source": [
    "def undersampling(donnees,nom_var):\n",
    "    data=donnees.copy()\n",
    "    indexval1=data.index[data[nom_var]==1]\n",
    "    indexval0=data.index[data[nom_var]==0]\n",
    "    #tirage aléatoire sans remise des valeurs du groupe 0\n",
    "    newliste=np.random.choice(indexval0,indexval1.shape[0],replace=False).astype('int32')\n",
    "    newliste1=[]\n",
    "    for val in newliste:\n",
    "        newliste1.append(np.min(np.where(data.index==val)))\n",
    "    data_under=data.take(newliste1)\n",
    "    data_under=pd.concat([data_under,data.loc[indexval1]],axis=0)\n",
    "    return(data_under)"
   ]
  },
  {
   "cell_type": "code",
   "execution_count": 27,
   "id": "567c5d58",
   "metadata": {},
   "outputs": [],
   "source": [
    "newdata_train2 = undersampling(data_train,'assur_caravane')\n",
    "newdata_test2 = undersampling(data_test,'assur_caravane')"
   ]
  },
  {
   "cell_type": "code",
   "execution_count": 28,
   "id": "981e7481",
   "metadata": {},
   "outputs": [],
   "source": [
    "newdata_clean_train2 = discretisation(newdata_train2)\n",
    "newy_train2 = newdata_clean_train2['assur_caravane']\n",
    "# Car il existe des donndées de type chaine de charactère. \n",
    "# Donc on va transforme en type numérique avec l'aide de la méthode dummies\n",
    "# créer des dummies variables\n",
    "newdata_clean_train2 = newdata_clean_train2.drop(['assur_caravane','locataire', 'assur_sante_public'],axis=1)\n",
    "newdata_clean_train2 = newdata_clean_train2.astype(str)\n",
    "newdata_train_dencode2_3 = pd.get_dummies(newdata_clean_train2,drop_first=True)\n",
    "\n",
    "newdata_clean_test2 = discretisation(newdata_test2)\n",
    "newy_test2 = newdata_clean_test2['assur_caravane']\n",
    "## idem pour données tests\n",
    "# créer des dummies variables\n",
    "newdata_clean_test2 = newdata_clean_test2.drop(['assur_caravane','locataire', 'assur_sante_public'],axis=1)\n",
    "newdata_clean_test2 = newdata_clean_test2.astype(str)\n",
    "newdata_test_dencode2_3= pd.get_dummies(newdata_clean_test2,drop_first=True)"
   ]
  },
  {
   "cell_type": "code",
   "execution_count": 29,
   "id": "b32b581b",
   "metadata": {},
   "outputs": [
    {
     "data": {
      "image/png": "[encoded data removed]",
      "text/plain": [
       "<Figure size 432x288 with 1 Axes>"
      ]
     },
     "metadata": {
      "needs_background": "light"
     },
     "output_type": "display_data"
    }
   ],
   "source": [
    "arbre6 = DecisionTreeClassifier(max_depth =5,min_samples_leaf= 50)\n",
    "arbre6.fit(newdata_train_dencode2_3,newy_train2)\n",
    "tree.plot_tree(arbre6, filled=True,feature_names=newdata_train_dencode2_3.columns)\n",
    "plt.show()"
   ]
  },
  {
   "cell_type": "code",
   "execution_count": 30,
   "id": "618dc7b7",
   "metadata": {},
   "outputs": [
    {
     "name": "stdout",
     "output_type": "stream",
     "text": [
      "Matrice de confusion :\n",
      "[[215  61]\n",
      " [103 173]]\n",
      "Rapport de classification :\n",
      "              precision    recall  f1-score   support\n",
      "\n",
      "           0       0.68      0.78      0.72       276\n",
      "           1       0.74      0.63      0.68       276\n",
      "\n",
      "    accuracy                           0.70       552\n",
      "   macro avg       0.71      0.70      0.70       552\n",
      "weighted avg       0.71      0.70      0.70       552\n",
      "\n",
      "aire sous la courbe ROC : 0.7028985507246376\n",
      "aire sous la courbe PRC : 0.6500061934844543\n"
     ]
    },
    {
     "ename": "ValueError",
     "evalue": "The feature names should match those that were passed during fit.\nFeature names seen at fit time, yet now missing:\n- mt_RC_3\n",
     "output_type": "error",
     "traceback": [
      "\u001b[0;31m---------------------------------------------------------------------------\u001b[0m",
      "\u001b[0;31mValueError\u001b[0m                                Traceback (most recent call last)",
      "\u001b[0;32m<ipython-input-30-52ca6edc2b64>\u001b[0m in \u001b[0;36m<module>\u001b[0;34m\u001b[0m\n\u001b[1;32m      1\u001b[0m \u001b[0mmesure_perf\u001b[0m\u001b[0;34m(\u001b[0m\u001b[0mnewdata_train_dencode2_3\u001b[0m\u001b[0;34m,\u001b[0m\u001b[0mnewy_train2\u001b[0m\u001b[0;34m,\u001b[0m \u001b[0marbre6\u001b[0m\u001b[0;34m)\u001b[0m\u001b[0;34m\u001b[0m\u001b[0;34m\u001b[0m\u001b[0m\n\u001b[0;32m----> 2\u001b[0;31m \u001b[0mmesure_perf\u001b[0m\u001b[0;34m(\u001b[0m\u001b[0mnewdata_test_dencode2_3\u001b[0m\u001b[0;34m,\u001b[0m\u001b[0mnewy_test2\u001b[0m\u001b[0;34m,\u001b[0m \u001b[0marbre6\u001b[0m\u001b[0;34m)\u001b[0m\u001b[0;34m\u001b[0m\u001b[0;34m\u001b[0m\u001b[0m\n\u001b[0m",
      "\u001b[0;32m<ipython-input-7-2a5a44615c4a>\u001b[0m in \u001b[0;36mmesure_perf\u001b[0;34m(X, y, model)\u001b[0m\n\u001b[1;32m      2\u001b[0m \u001b[0;32mdef\u001b[0m \u001b[0mmesure_perf\u001b[0m\u001b[0;34m(\u001b[0m\u001b[0mX\u001b[0m\u001b[0;34m,\u001b[0m\u001b[0my\u001b[0m\u001b[0;34m,\u001b[0m\u001b[0mmodel\u001b[0m\u001b[0;34m)\u001b[0m\u001b[0;34m:\u001b[0m\u001b[0;34m\u001b[0m\u001b[0;34m\u001b[0m\u001b[0m\n\u001b[1;32m      3\u001b[0m     \u001b[0;31m#matrice de confusion\u001b[0m\u001b[0;34m\u001b[0m\u001b[0;34m\u001b[0m\u001b[0;34m\u001b[0m\u001b[0m\n\u001b[0;32m----> 4\u001b[0;31m     \u001b[0mpred\u001b[0m\u001b[0;34m=\u001b[0m\u001b[0mmodel\u001b[0m\u001b[0;34m.\u001b[0m\u001b[0mpredict\u001b[0m\u001b[0;34m(\u001b[0m\u001b[0mX\u001b[0m\u001b[0;34m)\u001b[0m\u001b[0;34m\u001b[0m\u001b[0;34m\u001b[0m\u001b[0m\n\u001b[0m\u001b[1;32m      5\u001b[0m     \u001b[0mprint\u001b[0m\u001b[0;34m(\u001b[0m\u001b[0;34m\"Matrice de confusion :\"\u001b[0m\u001b[0;34m)\u001b[0m\u001b[0;34m\u001b[0m\u001b[0;34m\u001b[0m\u001b[0m\n\u001b[1;32m      6\u001b[0m     \u001b[0mprint\u001b[0m\u001b[0;34m(\u001b[0m\u001b[0mconfusion_matrix\u001b[0m\u001b[0;34m(\u001b[0m\u001b[0my\u001b[0m\u001b[0;34m,\u001b[0m\u001b[0mpred\u001b[0m\u001b[0;34m)\u001b[0m\u001b[0;34m)\u001b[0m\u001b[0;34m\u001b[0m\u001b[0;34m\u001b[0m\u001b[0m\n",
      "\u001b[0;32m~/.local/lib/python3.8/site-packages/sklearn/tree/_classes.py\u001b[0m in \u001b[0;36mpredict\u001b[0;34m(self, X, check_input)\u001b[0m\n\u001b[1;32m    424\u001b[0m         \"\"\"\n\u001b[1;32m    425\u001b[0m         \u001b[0mcheck_is_fitted\u001b[0m\u001b[0;34m(\u001b[0m\u001b[0mself\u001b[0m\u001b[0;34m)\u001b[0m\u001b[0;34m\u001b[0m\u001b[0;34m\u001b[0m\u001b[0m\n\u001b[0;32m--> 426\u001b[0;31m         \u001b[0mX\u001b[0m \u001b[0;34m=\u001b[0m \u001b[0mself\u001b[0m\u001b[0;34m.\u001b[0m\u001b[0m_validate_X_predict\u001b[0m\u001b[0;34m(\u001b[0m\u001b[0mX\u001b[0m\u001b[0;34m,\u001b[0m \u001b[0mcheck_input\u001b[0m\u001b[0;34m)\u001b[0m\u001b[0;34m\u001b[0m\u001b[0;34m\u001b[0m\u001b[0m\n\u001b[0m\u001b[1;32m    427\u001b[0m         \u001b[0mproba\u001b[0m \u001b[0;34m=\u001b[0m \u001b[0mself\u001b[0m\u001b[0;34m.\u001b[0m\u001b[0mtree_\u001b[0m\u001b[0;34m.\u001b[0m\u001b[0mpredict\u001b[0m\u001b[0;34m(\u001b[0m\u001b[0mX\u001b[0m\u001b[0;34m)\u001b[0m\u001b[0;34m\u001b[0m\u001b[0;34m\u001b[0m\u001b[0m\n\u001b[1;32m    428\u001b[0m         \u001b[0mn_samples\u001b[0m \u001b[0;34m=\u001b[0m \u001b[0mX\u001b[0m\u001b[0;34m.\u001b[0m\u001b[0mshape\u001b[0m\u001b[0;34m[\u001b[0m\u001b[0;36m0\u001b[0m\u001b[0;34m]\u001b[0m\u001b[0;34m\u001b[0m\u001b[0;34m\u001b[0m\u001b[0m\n",
      "\u001b[0;32m~/.local/lib/python3.8/site-packages/sklearn/tree/_classes.py\u001b[0m in \u001b[0;36m_validate_X_predict\u001b[0;34m(self, X, check_input)\u001b[0m\n\u001b[1;32m    390\u001b[0m         \u001b[0;34m\"\"\"Validate the training data on predict (probabilities).\"\"\"\u001b[0m\u001b[0;34m\u001b[0m\u001b[0;34m\u001b[0m\u001b[0m\n\u001b[1;32m    391\u001b[0m         \u001b[0;32mif\u001b[0m \u001b[0mcheck_input\u001b[0m\u001b[0;34m:\u001b[0m\u001b[0;34m\u001b[0m\u001b[0;34m\u001b[0m\u001b[0m\n\u001b[0;32m--> 392\u001b[0;31m             \u001b[0mX\u001b[0m \u001b[0;34m=\u001b[0m \u001b[0mself\u001b[0m\u001b[0;34m.\u001b[0m\u001b[0m_validate_data\u001b[0m\u001b[0;34m(\u001b[0m\u001b[0mX\u001b[0m\u001b[0;34m,\u001b[0m \u001b[0mdtype\u001b[0m\u001b[0;34m=\u001b[0m\u001b[0mDTYPE\u001b[0m\u001b[0;34m,\u001b[0m \u001b[0maccept_sparse\u001b[0m\u001b[0;34m=\u001b[0m\u001b[0;34m\"csr\"\u001b[0m\u001b[0;34m,\u001b[0m \u001b[0mreset\u001b[0m\u001b[0;34m=\u001b[0m\u001b[0;32mFalse\u001b[0m\u001b[0;34m)\u001b[0m\u001b[0;34m\u001b[0m\u001b[0;34m\u001b[0m\u001b[0m\n\u001b[0m\u001b[1;32m    393\u001b[0m             if issparse(X) and (\n\u001b[1;32m    394\u001b[0m                 \u001b[0mX\u001b[0m\u001b[0;34m.\u001b[0m\u001b[0mindices\u001b[0m\u001b[0;34m.\u001b[0m\u001b[0mdtype\u001b[0m \u001b[0;34m!=\u001b[0m \u001b[0mnp\u001b[0m\u001b[0;34m.\u001b[0m\u001b[0mintc\u001b[0m \u001b[0;32mor\u001b[0m \u001b[0mX\u001b[0m\u001b[0;34m.\u001b[0m\u001b[0mindptr\u001b[0m\u001b[0;34m.\u001b[0m\u001b[0mdtype\u001b[0m \u001b[0;34m!=\u001b[0m \u001b[0mnp\u001b[0m\u001b[0;34m.\u001b[0m\u001b[0mintc\u001b[0m\u001b[0;34m\u001b[0m\u001b[0;34m\u001b[0m\u001b[0m\n",
      "\u001b[0;32m~/.local/lib/python3.8/site-packages/sklearn/base.py\u001b[0m in \u001b[0;36m_validate_data\u001b[0;34m(self, X, y, reset, validate_separately, **check_params)\u001b[0m\n\u001b[1;32m    546\u001b[0m             \u001b[0mvalidated\u001b[0m\u001b[0;34m.\u001b[0m\u001b[0;34m\u001b[0m\u001b[0;34m\u001b[0m\u001b[0m\n\u001b[1;32m    547\u001b[0m         \"\"\"\n\u001b[0;32m--> 548\u001b[0;31m         \u001b[0mself\u001b[0m\u001b[0;34m.\u001b[0m\u001b[0m_check_feature_names\u001b[0m\u001b[0;34m(\u001b[0m\u001b[0mX\u001b[0m\u001b[0;34m,\u001b[0m \u001b[0mreset\u001b[0m\u001b[0;34m=\u001b[0m\u001b[0mreset\u001b[0m\u001b[0;34m)\u001b[0m\u001b[0;34m\u001b[0m\u001b[0;34m\u001b[0m\u001b[0m\n\u001b[0m\u001b[1;32m    549\u001b[0m \u001b[0;34m\u001b[0m\u001b[0m\n\u001b[1;32m    550\u001b[0m         \u001b[0;32mif\u001b[0m \u001b[0my\u001b[0m \u001b[0;32mis\u001b[0m \u001b[0;32mNone\u001b[0m \u001b[0;32mand\u001b[0m \u001b[0mself\u001b[0m\u001b[0;34m.\u001b[0m\u001b[0m_get_tags\u001b[0m\u001b[0;34m(\u001b[0m\u001b[0;34m)\u001b[0m\u001b[0;34m[\u001b[0m\u001b[0;34m\"requires_y\"\u001b[0m\u001b[0;34m]\u001b[0m\u001b[0;34m:\u001b[0m\u001b[0;34m\u001b[0m\u001b[0;34m\u001b[0m\u001b[0m\n",
      "\u001b[0;32m~/.local/lib/python3.8/site-packages/sklearn/base.py\u001b[0m in \u001b[0;36m_check_feature_names\u001b[0;34m(self, X, reset)\u001b[0m\n\u001b[1;32m    479\u001b[0m                 )\n\u001b[1;32m    480\u001b[0m \u001b[0;34m\u001b[0m\u001b[0m\n\u001b[0;32m--> 481\u001b[0;31m             \u001b[0;32mraise\u001b[0m \u001b[0mValueError\u001b[0m\u001b[0;34m(\u001b[0m\u001b[0mmessage\u001b[0m\u001b[0;34m)\u001b[0m\u001b[0;34m\u001b[0m\u001b[0;34m\u001b[0m\u001b[0m\n\u001b[0m\u001b[1;32m    482\u001b[0m \u001b[0;34m\u001b[0m\u001b[0m\n\u001b[1;32m    483\u001b[0m     def _validate_data(\n",
      "\u001b[0;31mValueError\u001b[0m: The feature names should match those that were passed during fit.\nFeature names seen at fit time, yet now missing:\n- mt_RC_3\n"
     ]
    }
   ],
   "source": [
    "mesure_perf(newdata_train_dencode2_3,newy_train2, arbre6)\n",
    "mesure_perf(newdata_test_dencode2_3,newy_test2, arbre6)"
   ]
  },
  {
   "cell_type": "markdown",
   "id": "2228cadb",
   "metadata": {},
   "source": [
    "<b>Conclusion :</b> Résultat est moin bien que l'oversampling. (Meme s'il y a des erreurs). On ne prend pas cette modèles."
   ]
  },
  {
   "cell_type": "markdown",
   "id": "d631182f",
   "metadata": {},
   "source": [
    "# Effectuer sur liste 1 et 2"
   ]
  },
  {
   "cell_type": "markdown",
   "id": "8102ffa6",
   "metadata": {},
   "source": [
    "## Liste 1"
   ]
  },
  {
   "cell_type": "markdown",
   "id": "e3f5aa1d",
   "metadata": {},
   "source": [
    "On va utiliser modele (arbre 5 pour analyser liste 1 et 2)\n",
    "<br><b>Rappel</b>\n",
    "<br> - Liste 1: mt_auto,mt_incendie,type_client,pouvoir_achat,revenu_moyen,mt_RC \n",
    "<br> - Liste 2:= Liste 1 + niv_etud_bas,proprietaire,revenu1,niv_etude_haut,auto0,auto1,revenu3 \n",
    "<br> - Liste 3:= Liste 1 + Liste 2 + les restes (on a justement fait en haut)"
   ]
  },
  {
   "cell_type": "code",
   "execution_count": 31,
   "id": "24601659",
   "metadata": {},
   "outputs": [],
   "source": [
    "newdata_train = oversampling(data_train,'assur_caravane')\n",
    "newdata_test = oversampling(data_test,'assur_caravane')"
   ]
  },
  {
   "cell_type": "code",
   "execution_count": 32,
   "id": "d2934091",
   "metadata": {},
   "outputs": [],
   "source": [
    "liste1_train = discretisation(newdata_train)\n",
    "newy_train3 = liste1_train['assur_caravane']\n",
    "# Car il existe des donndées de type chaine de charactère. \n",
    "# Donc on va transforme en type numérique avec l'aide de la méthode dummies\n",
    "# créer des dummies variables\n",
    "liste1_train = liste1_train[['mt_auto','mt_incendie','type_client',\n",
    "                                             'pouvoir_achat','revenu_moyen','mt_RC' ]]\n",
    "liste1_train = liste1_train.astype(str)\n",
    "newdata_train_dencode3_3 = pd.get_dummies(liste1_train,drop_first=True)\n",
    "\n",
    "liste1_test = discretisation(newdata_test)\n",
    "newy_test3 = liste1_test['assur_caravane']\n",
    "## idem pour données tests\n",
    "# créer des dummies variables\n",
    "liste1_test = liste1_test[['mt_auto','mt_incendie','type_client',\n",
    "                                             'pouvoir_achat','revenu_moyen','mt_RC' ]]\n",
    "liste1_test = liste1_test.astype(str)\n",
    "newdata_test_dencode3_3= pd.get_dummies(liste1_test,drop_first=True)"
   ]
  },
  {
   "cell_type": "code",
   "execution_count": 33,
   "id": "ab1e3055",
   "metadata": {},
   "outputs": [
    {
     "data": {
      "image/png": "[encoded data removed]",
      "text/plain": [
       "<Figure size 432x288 with 1 Axes>"
      ]
     },
     "metadata": {
      "needs_background": "light"
     },
     "output_type": "display_data"
    }
   ],
   "source": [
    "arbre7 = DecisionTreeClassifier(max_depth =5,min_samples_leaf= 200)\n",
    "arbre7.fit(newdata_train_dencode3_3,newy_train3)\n",
    "tree.plot_tree(arbre7, filled=True,feature_names=newdata_train_dencode3_3.columns)\n",
    "plt.show()"
   ]
  },
  {
   "cell_type": "code",
   "execution_count": 34,
   "id": "3906f9b8",
   "metadata": {},
   "outputs": [
    {
     "name": "stdout",
     "output_type": "stream",
     "text": [
      "Matrice de confusion :\n",
      "[[2830 1551]\n",
      " [ 994 3387]]\n",
      "Rapport de classification :\n",
      "              precision    recall  f1-score   support\n",
      "\n",
      "           0       0.74      0.65      0.69      4381\n",
      "           1       0.69      0.77      0.73      4381\n",
      "\n",
      "    accuracy                           0.71      8762\n",
      "   macro avg       0.71      0.71      0.71      8762\n",
      "weighted avg       0.71      0.71      0.71      8762\n",
      "\n",
      "aire sous la courbe ROC : 0.7095412006391233\n",
      "aire sous la courbe PRC : 0.6437254043265919\n",
      "Matrice de confusion :\n",
      "[[719 374]\n",
      " [320 773]]\n",
      "Rapport de classification :\n",
      "              precision    recall  f1-score   support\n",
      "\n",
      "           0       0.69      0.66      0.67      1093\n",
      "           1       0.67      0.71      0.69      1093\n",
      "\n",
      "    accuracy                           0.68      2186\n",
      "   macro avg       0.68      0.68      0.68      2186\n",
      "weighted avg       0.68      0.68      0.68      2186\n",
      "\n",
      "aire sous la courbe ROC : 0.6825251601097896\n",
      "aire sous la courbe PRC : 0.6230095455665801\n"
     ]
    }
   ],
   "source": [
    "mesure_perf(newdata_train_dencode3_3,newy_train3, arbre7)\n",
    "mesure_perf(newdata_test_dencode3_3,newy_test3, arbre7)"
   ]
  },
  {
   "cell_type": "markdown",
   "id": "aa91ba5f",
   "metadata": {},
   "source": [
    "# Liste 2"
   ]
  },
  {
   "cell_type": "code",
   "execution_count": 35,
   "id": "8dc61ae0",
   "metadata": {},
   "outputs": [],
   "source": [
    "liste2_train = discretisation(newdata_train)\n",
    "newy_train4 = liste2_train['assur_caravane']\n",
    "# Car il existe des donndées de type chaine de charactère. \n",
    "# Donc on va transforme en type numérique avec l'aide de la méthode dummies\n",
    "# créer des dummies variables\n",
    "liste2_train = liste2_train[['mt_auto','mt_incendie','type_client','pouvoir_achat','revenu_moyen','mt_RC',\n",
    "                            'niv_etud_bas','locataire','proprietaire','revenu1','niv_etude_haut','auto0',\n",
    "                             'auto1','revenu3' ]]\n",
    "liste2_train = liste2_train.astype(str)\n",
    "newdata_train_dencode4_3 = pd.get_dummies(liste2_train,drop_first=True)\n",
    "\n",
    "liste2_test = discretisation(newdata_test)\n",
    "newy_test4 = liste2_test['assur_caravane']\n",
    "## idem pour données tests\n",
    "# créer des dummies variables\n",
    "liste2_test = liste2_test[['mt_auto','mt_incendie','type_client','pouvoir_achat','revenu_moyen','mt_RC',\n",
    "                            'niv_etud_bas','locataire','proprietaire','revenu1','niv_etude_haut','auto0',\n",
    "                             'auto1','revenu3' ]]\n",
    "liste2_test = liste2_test.astype(str)\n",
    "newdata_test_dencode4_3= pd.get_dummies(liste2_test,drop_first=True)"
   ]
  },
  {
   "cell_type": "code",
   "execution_count": 36,
   "id": "22c4b21c",
   "metadata": {},
   "outputs": [
    {
     "data": {
      "image/png": "[encoded data removed]",
      "text/plain": [
       "<Figure size 432x288 with 1 Axes>"
      ]
     },
     "metadata": {
      "needs_background": "light"
     },
     "output_type": "display_data"
    }
   ],
   "source": [
    "arbre8 = DecisionTreeClassifier(max_depth =5,min_samples_leaf= 200)\n",
    "arbre8.fit(newdata_train_dencode4_3,newy_train4)\n",
    "tree.plot_tree(arbre8, filled=True,feature_names=newdata_train_dencode4_3.columns)\n",
    "plt.show()"
   ]
  },
  {
   "cell_type": "code",
   "execution_count": 37,
   "id": "76641523",
   "metadata": {},
   "outputs": [
    {
     "name": "stdout",
     "output_type": "stream",
     "text": [
      "Matrice de confusion :\n",
      "[[2915 1466]\n",
      " [1046 3335]]\n",
      "Rapport de classification :\n",
      "              precision    recall  f1-score   support\n",
      "\n",
      "           0       0.74      0.67      0.70      4381\n",
      "           1       0.69      0.76      0.73      4381\n",
      "\n",
      "    accuracy                           0.71      8762\n",
      "   macro avg       0.72      0.71      0.71      8762\n",
      "weighted avg       0.72      0.71      0.71      8762\n",
      "\n",
      "aire sous la courbe ROC : 0.7133074640493038\n",
      "aire sous la courbe PRC : 0.6481733790052964\n",
      "Matrice de confusion :\n",
      "[[732 361]\n",
      " [348 745]]\n",
      "Rapport de classification :\n",
      "              precision    recall  f1-score   support\n",
      "\n",
      "           0       0.68      0.67      0.67      1093\n",
      "           1       0.67      0.68      0.68      1093\n",
      "\n",
      "    accuracy                           0.68      2186\n",
      "   macro avg       0.68      0.68      0.68      2186\n",
      "weighted avg       0.68      0.68      0.68      2186\n",
      "\n",
      "aire sous la courbe ROC : 0.6756633119853614\n",
      "aire sous la courbe PRC : 0.6183265528291991\n"
     ]
    }
   ],
   "source": [
    "mesure_perf(newdata_train_dencode4_3,newy_train4, arbre8)\n",
    "mesure_perf(newdata_test_dencode4_3,newy_test4, arbre8)"
   ]
  },
  {
   "cell_type": "markdown",
   "id": "b30c7029",
   "metadata": {},
   "source": [
    "<b>Conclusion générale :</b>\n",
    "    Parmi les 3 listes proprosées par Scoring, on trouve la liste 2 est la plus performance. Avec 0.68 niveau d'accuracy. des autres indices (précision, rappel, f1-score sur classe 0 et 1 ne change pas beaucoup sur d'apprentisage et sur validation.\n",
    "    <br> Cependant, il y a trop de bleue. Mais je n'arrive pas à le résourdre."
   ]
  }
 ],
 "metadata": {
  "kernelspec": {
   "display_name": "Python 3",
   "language": "python",
   "name": "python3"
  },
  "language_info": {
   "codemirror_mode": {
    "name": "ipython",
    "version": 3
   },
   "file_extension": ".py",
   "mimetype": "text/x-python",
   "name": "python",
   "nbconvert_exporter": "python",
   "pygments_lexer": "ipython3",
   "version": "3.8.2"
  }
 },
 "nbformat": 4,
 "nbformat_minor": 5
}
