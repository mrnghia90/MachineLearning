{
 "cells": [
  {
   "cell_type": "code",
   "execution_count": 1,
   "id": "fdee3427",
   "metadata": {},
   "outputs": [],
   "source": [
    "# libraires nécessaires\n",
    "%reset -f\n",
    "import numpy as np\n",
    "import pandas as pd\n",
    "import matplotlib.pyplot as plt\n",
    "from sklearn.metrics import roc_auc_score\n",
    "from sklearn.metrics import confusion_matrix, precision_score, recall_score, f1_score, precision_recall_curve, roc_curve, classification_report, average_precision_score"
   ]
  },
  {
   "cell_type": "code",
   "execution_count": 2,
   "id": "b8d724e0",
   "metadata": {},
   "outputs": [],
   "source": [
    "def oversampling(donnees,nom_var):\n",
    "    data=donnees.copy()\n",
    "    indexval1=data.index[data[nom_var]==1]\n",
    "    indexval0=data.index[data[nom_var]==0]\n",
    "    #tirage aléatoire avec remise des valeurs du groupe 1\n",
    "    newliste=np.random.choice(indexval1,indexval0.shape[0],replace=True).astype('int32')\n",
    "    newliste1=[]\n",
    "    for val in newliste:\n",
    "        newliste1.append(np.min(np.where(data.index==val)))\n",
    "    data_over=data.take(newliste1)\n",
    "    data_over=pd.concat([data_over,data.loc[indexval0]],axis=0)\n",
    "    return(data_over)"
   ]
  },
  {
   "cell_type": "code",
   "execution_count": 3,
   "id": "3739d24d",
   "metadata": {},
   "outputs": [
    {
     "data": {
      "text/html": [
       "<div>\n",
       "<style scoped>\n",
       "    .dataframe tbody tr th:only-of-type {\n",
       "        vertical-align: middle;\n",
       "    }\n",
       "\n",
       "    .dataframe tbody tr th {\n",
       "        vertical-align: top;\n",
       "    }\n",
       "\n",
       "    .dataframe thead th {\n",
       "        text-align: right;\n",
       "    }\n",
       "</style>\n",
       "<table border=\"1\" class=\"dataframe\">\n",
       "  <thead>\n",
       "    <tr style=\"text-align: right;\">\n",
       "      <th></th>\n",
       "      <th>nbmaisons</th>\n",
       "      <th>nbpers_au_foyer</th>\n",
       "      <th>nb_auto</th>\n",
       "      <th>nb_incendie</th>\n",
       "      <th>nb_RC_entreprise</th>\n",
       "      <th>nb_camion_livraison</th>\n",
       "      <th>nb_remorque</th>\n",
       "    </tr>\n",
       "    <tr>\n",
       "      <th>cle</th>\n",
       "      <th></th>\n",
       "      <th></th>\n",
       "      <th></th>\n",
       "      <th></th>\n",
       "      <th></th>\n",
       "      <th></th>\n",
       "      <th></th>\n",
       "    </tr>\n",
       "  </thead>\n",
       "  <tbody>\n",
       "    <tr>\n",
       "      <th>3236</th>\n",
       "      <td>1</td>\n",
       "      <td>2</td>\n",
       "      <td>1</td>\n",
       "      <td>1</td>\n",
       "      <td>0</td>\n",
       "      <td>0</td>\n",
       "      <td>0</td>\n",
       "    </tr>\n",
       "    <tr>\n",
       "      <th>2223</th>\n",
       "      <td>1</td>\n",
       "      <td>3</td>\n",
       "      <td>1</td>\n",
       "      <td>1</td>\n",
       "      <td>0</td>\n",
       "      <td>0</td>\n",
       "      <td>0</td>\n",
       "    </tr>\n",
       "    <tr>\n",
       "      <th>4344</th>\n",
       "      <td>1</td>\n",
       "      <td>2</td>\n",
       "      <td>1</td>\n",
       "      <td>1</td>\n",
       "      <td>0</td>\n",
       "      <td>0</td>\n",
       "      <td>0</td>\n",
       "    </tr>\n",
       "    <tr>\n",
       "      <th>2457</th>\n",
       "      <td>1</td>\n",
       "      <td>2</td>\n",
       "      <td>1</td>\n",
       "      <td>0</td>\n",
       "      <td>0</td>\n",
       "      <td>0</td>\n",
       "      <td>0</td>\n",
       "    </tr>\n",
       "    <tr>\n",
       "      <th>2153</th>\n",
       "      <td>1</td>\n",
       "      <td>2</td>\n",
       "      <td>2</td>\n",
       "      <td>1</td>\n",
       "      <td>0</td>\n",
       "      <td>0</td>\n",
       "      <td>0</td>\n",
       "    </tr>\n",
       "    <tr>\n",
       "      <th>2153</th>\n",
       "      <td>1</td>\n",
       "      <td>2</td>\n",
       "      <td>2</td>\n",
       "      <td>1</td>\n",
       "      <td>0</td>\n",
       "      <td>0</td>\n",
       "      <td>0</td>\n",
       "    </tr>\n",
       "    <tr>\n",
       "      <th>1628</th>\n",
       "      <td>1</td>\n",
       "      <td>2</td>\n",
       "      <td>2</td>\n",
       "      <td>1</td>\n",
       "      <td>0</td>\n",
       "      <td>0</td>\n",
       "      <td>0</td>\n",
       "    </tr>\n",
       "    <tr>\n",
       "      <th>5308</th>\n",
       "      <td>1</td>\n",
       "      <td>3</td>\n",
       "      <td>1</td>\n",
       "      <td>1</td>\n",
       "      <td>0</td>\n",
       "      <td>0</td>\n",
       "      <td>0</td>\n",
       "    </tr>\n",
       "    <tr>\n",
       "      <th>4422</th>\n",
       "      <td>1</td>\n",
       "      <td>3</td>\n",
       "      <td>1</td>\n",
       "      <td>1</td>\n",
       "      <td>0</td>\n",
       "      <td>0</td>\n",
       "      <td>0</td>\n",
       "    </tr>\n",
       "    <tr>\n",
       "      <th>4722</th>\n",
       "      <td>1</td>\n",
       "      <td>2</td>\n",
       "      <td>1</td>\n",
       "      <td>1</td>\n",
       "      <td>0</td>\n",
       "      <td>0</td>\n",
       "      <td>0</td>\n",
       "    </tr>\n",
       "  </tbody>\n",
       "</table>\n",
       "</div>"
      ],
      "text/plain": [
       "      nbmaisons  nbpers_au_foyer  nb_auto  nb_incendie  nb_RC_entreprise  \\\n",
       "cle                                                                        \n",
       "3236          1                2        1            1                 0   \n",
       "2223          1                3        1            1                 0   \n",
       "4344          1                2        1            1                 0   \n",
       "2457          1                2        1            0                 0   \n",
       "2153          1                2        2            1                 0   \n",
       "2153          1                2        2            1                 0   \n",
       "1628          1                2        2            1                 0   \n",
       "5308          1                3        1            1                 0   \n",
       "4422          1                3        1            1                 0   \n",
       "4722          1                2        1            1                 0   \n",
       "\n",
       "      nb_camion_livraison  nb_remorque  \n",
       "cle                                     \n",
       "3236                    0            0  \n",
       "2223                    0            0  \n",
       "4344                    0            0  \n",
       "2457                    0            0  \n",
       "2153                    0            0  \n",
       "2153                    0            0  \n",
       "1628                    0            0  \n",
       "5308                    0            0  \n",
       "4422                    0            0  \n",
       "4722                    0            0  "
      ]
     },
     "execution_count": 3,
     "metadata": {},
     "output_type": "execute_result"
    }
   ],
   "source": [
    "data_train = pd.read_table('train_set.csv',sep=',',header=0,index_col=0)\n",
    "data_test = pd.read_table('val_set.csv',sep=',',header=0,index_col=0)\n",
    "data_train = oversampling(data_train,'assur_caravane')\n",
    "data_test = oversampling(data_test,'assur_caravane')\n",
    "y_train = data_train['assur_caravane']\n",
    "y_test = data_test['assur_caravane']\n",
    "data_train = data_train[['nbmaisons', 'nbpers_au_foyer','nb_auto','nb_incendie',\n",
    "               'nb_RC_entreprise', 'nb_camion_livraison','nb_remorque']]\n",
    "data_test = data_test[['nbmaisons', 'nbpers_au_foyer','nb_auto','nb_incendie',\n",
    "               'nb_RC_entreprise', 'nb_camion_livraison','nb_remorque']]\n",
    "data_train.head(10)"
   ]
  },
  {
   "cell_type": "code",
   "execution_count": 4,
   "id": "800e9e85",
   "metadata": {},
   "outputs": [
    {
     "data": {
      "text/html": [
       "<div>\n",
       "<style scoped>\n",
       "    .dataframe tbody tr th:only-of-type {\n",
       "        vertical-align: middle;\n",
       "    }\n",
       "\n",
       "    .dataframe tbody tr th {\n",
       "        vertical-align: top;\n",
       "    }\n",
       "\n",
       "    .dataframe thead th {\n",
       "        text-align: right;\n",
       "    }\n",
       "</style>\n",
       "<table border=\"1\" class=\"dataframe\">\n",
       "  <thead>\n",
       "    <tr style=\"text-align: right;\">\n",
       "      <th></th>\n",
       "      <th>nbmaisons</th>\n",
       "      <th>nbpers_au_foyer</th>\n",
       "      <th>nb_auto</th>\n",
       "      <th>nb_incendie</th>\n",
       "      <th>nb_RC_entreprise</th>\n",
       "      <th>nb_camion_livraison</th>\n",
       "      <th>nb_remorque</th>\n",
       "    </tr>\n",
       "    <tr>\n",
       "      <th>cle</th>\n",
       "      <th></th>\n",
       "      <th></th>\n",
       "      <th></th>\n",
       "      <th></th>\n",
       "      <th></th>\n",
       "      <th></th>\n",
       "      <th></th>\n",
       "    </tr>\n",
       "  </thead>\n",
       "  <tbody>\n",
       "    <tr>\n",
       "      <th>2745</th>\n",
       "      <td>1</td>\n",
       "      <td>2</td>\n",
       "      <td>0</td>\n",
       "      <td>1</td>\n",
       "      <td>0</td>\n",
       "      <td>0</td>\n",
       "      <td>0</td>\n",
       "    </tr>\n",
       "    <tr>\n",
       "      <th>627</th>\n",
       "      <td>1</td>\n",
       "      <td>3</td>\n",
       "      <td>1</td>\n",
       "      <td>0</td>\n",
       "      <td>0</td>\n",
       "      <td>0</td>\n",
       "      <td>0</td>\n",
       "    </tr>\n",
       "    <tr>\n",
       "      <th>5171</th>\n",
       "      <td>2</td>\n",
       "      <td>4</td>\n",
       "      <td>1</td>\n",
       "      <td>1</td>\n",
       "      <td>0</td>\n",
       "      <td>0</td>\n",
       "      <td>0</td>\n",
       "    </tr>\n",
       "    <tr>\n",
       "      <th>2277</th>\n",
       "      <td>2</td>\n",
       "      <td>4</td>\n",
       "      <td>0</td>\n",
       "      <td>1</td>\n",
       "      <td>0</td>\n",
       "      <td>0</td>\n",
       "      <td>0</td>\n",
       "    </tr>\n",
       "    <tr>\n",
       "      <th>2954</th>\n",
       "      <td>1</td>\n",
       "      <td>3</td>\n",
       "      <td>1</td>\n",
       "      <td>1</td>\n",
       "      <td>0</td>\n",
       "      <td>0</td>\n",
       "      <td>0</td>\n",
       "    </tr>\n",
       "    <tr>\n",
       "      <th>925</th>\n",
       "      <td>2</td>\n",
       "      <td>4</td>\n",
       "      <td>0</td>\n",
       "      <td>1</td>\n",
       "      <td>0</td>\n",
       "      <td>0</td>\n",
       "      <td>0</td>\n",
       "    </tr>\n",
       "    <tr>\n",
       "      <th>2096</th>\n",
       "      <td>1</td>\n",
       "      <td>3</td>\n",
       "      <td>2</td>\n",
       "      <td>1</td>\n",
       "      <td>0</td>\n",
       "      <td>0</td>\n",
       "      <td>0</td>\n",
       "    </tr>\n",
       "    <tr>\n",
       "      <th>5185</th>\n",
       "      <td>1</td>\n",
       "      <td>2</td>\n",
       "      <td>1</td>\n",
       "      <td>0</td>\n",
       "      <td>0</td>\n",
       "      <td>0</td>\n",
       "      <td>0</td>\n",
       "    </tr>\n",
       "    <tr>\n",
       "      <th>5176</th>\n",
       "      <td>1</td>\n",
       "      <td>3</td>\n",
       "      <td>1</td>\n",
       "      <td>1</td>\n",
       "      <td>0</td>\n",
       "      <td>0</td>\n",
       "      <td>0</td>\n",
       "    </tr>\n",
       "    <tr>\n",
       "      <th>5441</th>\n",
       "      <td>1</td>\n",
       "      <td>2</td>\n",
       "      <td>1</td>\n",
       "      <td>1</td>\n",
       "      <td>0</td>\n",
       "      <td>0</td>\n",
       "      <td>0</td>\n",
       "    </tr>\n",
       "  </tbody>\n",
       "</table>\n",
       "</div>"
      ],
      "text/plain": [
       "      nbmaisons  nbpers_au_foyer  nb_auto  nb_incendie  nb_RC_entreprise  \\\n",
       "cle                                                                        \n",
       "2745          1                2        0            1                 0   \n",
       "627           1                3        1            0                 0   \n",
       "5171          2                4        1            1                 0   \n",
       "2277          2                4        0            1                 0   \n",
       "2954          1                3        1            1                 0   \n",
       "925           2                4        0            1                 0   \n",
       "2096          1                3        2            1                 0   \n",
       "5185          1                2        1            0                 0   \n",
       "5176          1                3        1            1                 0   \n",
       "5441          1                2        1            1                 0   \n",
       "\n",
       "      nb_camion_livraison  nb_remorque  \n",
       "cle                                     \n",
       "2745                    0            0  \n",
       "627                     0            0  \n",
       "5171                    0            0  \n",
       "2277                    0            0  \n",
       "2954                    0            0  \n",
       "925                     0            0  \n",
       "2096                    0            0  \n",
       "5185                    0            0  \n",
       "5176                    0            0  \n",
       "5441                    0            0  "
      ]
     },
     "execution_count": 4,
     "metadata": {},
     "output_type": "execute_result"
    }
   ],
   "source": [
    "data_test.head(10)"
   ]
  },
  {
   "cell_type": "code",
   "execution_count": 5,
   "id": "f2bbb315",
   "metadata": {},
   "outputs": [],
   "source": [
    "#centrage et réduction de la base d'apprentissage\n",
    "from sklearn.preprocessing import StandardScaler\n",
    "data_scale=StandardScaler()\n",
    "data_scale.fit(data_train)\n",
    "datacr_train=data_scale.transform(data_train)\n",
    "datacr_test=data_scale.transform(data_test)"
   ]
  },
  {
   "cell_type": "code",
   "execution_count": 6,
   "id": "1489a275",
   "metadata": {},
   "outputs": [],
   "source": [
    "from sklearn.neighbors import KNeighborsClassifier\n",
    "data_clf=KNeighborsClassifier() #k=5 par défaut\n",
    "data_clf.fit(datacr_train,y_train)\n",
    "\n",
    "pred_train=data_clf.predict(datacr_train)\n",
    "pred_test=data_clf.predict(datacr_test)"
   ]
  },
  {
   "cell_type": "code",
   "execution_count": 7,
   "id": "eb63062e",
   "metadata": {},
   "outputs": [
    {
     "data": {
      "text/plain": [
       "array([1, 1, 1, ..., 0, 1, 1])"
      ]
     },
     "execution_count": 7,
     "metadata": {},
     "output_type": "execute_result"
    }
   ],
   "source": [
    "pred_test"
   ]
  },
  {
   "cell_type": "code",
   "execution_count": 8,
   "id": "cc7bed59",
   "metadata": {},
   "outputs": [
    {
     "name": "stdout",
     "output_type": "stream",
     "text": [
      "0.561401506505364\n",
      "0.5114364135407137\n"
     ]
    }
   ],
   "source": [
    "exactitude_train=np.sum(pred_train==y_train)/pred_train.shape[0]\n",
    "print(exactitude_train)\n",
    "exactitude_test=np.sum(pred_test==y_test)/pred_test.shape[0]\n",
    "print(exactitude_test)"
   ]
  },
  {
   "cell_type": "code",
   "execution_count": 9,
   "id": "ea416a4f",
   "metadata": {},
   "outputs": [
    {
     "name": "stdout",
     "output_type": "stream",
     "text": [
      "[[ 538 3843]\n",
      " [   0 4381]]\n",
      "[[130 963]\n",
      " [105 988]]\n"
     ]
    }
   ],
   "source": [
    "#matrice de confusion\n",
    "from sklearn.metrics import confusion_matrix, classification_report\n",
    "#confusion_matrix(cible,predite)\n",
    "print(confusion_matrix(y_train,pred_train))\n",
    "print(confusion_matrix(y_test,pred_test))"
   ]
  },
  {
   "cell_type": "code",
   "execution_count": 10,
   "id": "70f85665",
   "metadata": {},
   "outputs": [
    {
     "name": "stdout",
     "output_type": "stream",
     "text": [
      "              precision    recall  f1-score   support\n",
      "\n",
      "           0       1.00      0.12      0.22      4381\n",
      "           1       0.53      1.00      0.70      4381\n",
      "\n",
      "    accuracy                           0.56      8762\n",
      "   macro avg       0.77      0.56      0.46      8762\n",
      "weighted avg       0.77      0.56      0.46      8762\n",
      "\n",
      "              precision    recall  f1-score   support\n",
      "\n",
      "           0       0.55      0.12      0.20      1093\n",
      "           1       0.51      0.90      0.65      1093\n",
      "\n",
      "    accuracy                           0.51      2186\n",
      "   macro avg       0.53      0.51      0.42      2186\n",
      "weighted avg       0.53      0.51      0.42      2186\n",
      "\n"
     ]
    }
   ],
   "source": [
    "#precision, rappel, f1 score\n",
    "print(classification_report(y_train,pred_train))\n",
    "print(classification_report(y_test,pred_test))"
   ]
  },
  {
   "cell_type": "code",
   "execution_count": 11,
   "id": "9ad0fe55",
   "metadata": {},
   "outputs": [
    {
     "name": "stderr",
     "output_type": "stream",
     "text": [
      "/Polytech/tnngo1/.local/lib/python3.8/site-packages/sklearn/base.py:432: UserWarning: X has feature names, but KNeighborsClassifier was fitted without feature names\n",
      "  warnings.warn(\n",
      "/Polytech/tnngo1/.local/lib/python3.8/site-packages/sklearn/base.py:432: UserWarning: X has feature names, but KNeighborsClassifier was fitted without feature names\n",
      "  warnings.warn(\n",
      "/Polytech/tnngo1/.local/lib/python3.8/site-packages/sklearn/base.py:432: UserWarning: X has feature names, but KNeighborsClassifier was fitted without feature names\n",
      "  warnings.warn(\n",
      "/Polytech/tnngo1/.local/lib/python3.8/site-packages/sklearn/base.py:432: UserWarning: X has feature names, but KNeighborsClassifier was fitted without feature names\n",
      "  warnings.warn(\n",
      "/Polytech/tnngo1/.local/lib/python3.8/site-packages/sklearn/base.py:432: UserWarning: X has feature names, but KNeighborsClassifier was fitted without feature names\n",
      "  warnings.warn(\n",
      "/Polytech/tnngo1/.local/lib/python3.8/site-packages/sklearn/base.py:432: UserWarning: X has feature names, but KNeighborsClassifier was fitted without feature names\n",
      "  warnings.warn(\n",
      "/Polytech/tnngo1/.local/lib/python3.8/site-packages/sklearn/base.py:432: UserWarning: X has feature names, but KNeighborsClassifier was fitted without feature names\n",
      "  warnings.warn(\n",
      "/Polytech/tnngo1/.local/lib/python3.8/site-packages/sklearn/base.py:432: UserWarning: X has feature names, but KNeighborsClassifier was fitted without feature names\n",
      "  warnings.warn(\n",
      "/Polytech/tnngo1/.local/lib/python3.8/site-packages/sklearn/base.py:432: UserWarning: X has feature names, but KNeighborsClassifier was fitted without feature names\n",
      "  warnings.warn(\n",
      "/Polytech/tnngo1/.local/lib/python3.8/site-packages/sklearn/base.py:432: UserWarning: X has feature names, but KNeighborsClassifier was fitted without feature names\n",
      "  warnings.warn(\n",
      "/Polytech/tnngo1/.local/lib/python3.8/site-packages/sklearn/base.py:432: UserWarning: X has feature names, but KNeighborsClassifier was fitted without feature names\n",
      "  warnings.warn(\n",
      "/Polytech/tnngo1/.local/lib/python3.8/site-packages/sklearn/base.py:432: UserWarning: X has feature names, but KNeighborsClassifier was fitted without feature names\n",
      "  warnings.warn(\n",
      "/Polytech/tnngo1/.local/lib/python3.8/site-packages/sklearn/base.py:432: UserWarning: X has feature names, but KNeighborsClassifier was fitted without feature names\n",
      "  warnings.warn(\n",
      "/Polytech/tnngo1/.local/lib/python3.8/site-packages/sklearn/base.py:432: UserWarning: X has feature names, but KNeighborsClassifier was fitted without feature names\n",
      "  warnings.warn(\n",
      "/Polytech/tnngo1/.local/lib/python3.8/site-packages/sklearn/base.py:432: UserWarning: X has feature names, but KNeighborsClassifier was fitted without feature names\n",
      "  warnings.warn(\n",
      "/Polytech/tnngo1/.local/lib/python3.8/site-packages/sklearn/base.py:432: UserWarning: X has feature names, but KNeighborsClassifier was fitted without feature names\n",
      "  warnings.warn(\n",
      "/Polytech/tnngo1/.local/lib/python3.8/site-packages/sklearn/base.py:432: UserWarning: X has feature names, but KNeighborsClassifier was fitted without feature names\n",
      "  warnings.warn(\n",
      "/Polytech/tnngo1/.local/lib/python3.8/site-packages/sklearn/base.py:432: UserWarning: X has feature names, but KNeighborsClassifier was fitted without feature names\n",
      "  warnings.warn(\n",
      "/Polytech/tnngo1/.local/lib/python3.8/site-packages/sklearn/base.py:432: UserWarning: X has feature names, but KNeighborsClassifier was fitted without feature names\n",
      "  warnings.warn(\n",
      "/Polytech/tnngo1/.local/lib/python3.8/site-packages/sklearn/base.py:432: UserWarning: X has feature names, but KNeighborsClassifier was fitted without feature names\n",
      "  warnings.warn(\n",
      "/Polytech/tnngo1/.local/lib/python3.8/site-packages/sklearn/base.py:432: UserWarning: X has feature names, but KNeighborsClassifier was fitted without feature names\n",
      "  warnings.warn(\n",
      "/Polytech/tnngo1/.local/lib/python3.8/site-packages/sklearn/base.py:432: UserWarning: X has feature names, but KNeighborsClassifier was fitted without feature names\n",
      "  warnings.warn(\n",
      "/Polytech/tnngo1/.local/lib/python3.8/site-packages/sklearn/base.py:432: UserWarning: X has feature names, but KNeighborsClassifier was fitted without feature names\n",
      "  warnings.warn(\n",
      "/Polytech/tnngo1/.local/lib/python3.8/site-packages/sklearn/base.py:432: UserWarning: X has feature names, but KNeighborsClassifier was fitted without feature names\n",
      "  warnings.warn(\n",
      "/Polytech/tnngo1/.local/lib/python3.8/site-packages/sklearn/base.py:432: UserWarning: X has feature names, but KNeighborsClassifier was fitted without feature names\n",
      "  warnings.warn(\n",
      "/Polytech/tnngo1/.local/lib/python3.8/site-packages/sklearn/base.py:432: UserWarning: X has feature names, but KNeighborsClassifier was fitted without feature names\n",
      "  warnings.warn(\n",
      "/Polytech/tnngo1/.local/lib/python3.8/site-packages/sklearn/base.py:432: UserWarning: X has feature names, but KNeighborsClassifier was fitted without feature names\n",
      "  warnings.warn(\n",
      "/Polytech/tnngo1/.local/lib/python3.8/site-packages/sklearn/base.py:432: UserWarning: X has feature names, but KNeighborsClassifier was fitted without feature names\n",
      "  warnings.warn(\n",
      "/Polytech/tnngo1/.local/lib/python3.8/site-packages/sklearn/base.py:432: UserWarning: X has feature names, but KNeighborsClassifier was fitted without feature names\n",
      "  warnings.warn(\n",
      "/Polytech/tnngo1/.local/lib/python3.8/site-packages/sklearn/base.py:432: UserWarning: X has feature names, but KNeighborsClassifier was fitted without feature names\n",
      "  warnings.warn(\n",
      "/Polytech/tnngo1/.local/lib/python3.8/site-packages/sklearn/base.py:432: UserWarning: X has feature names, but KNeighborsClassifier was fitted without feature names\n",
      "  warnings.warn(\n",
      "/Polytech/tnngo1/.local/lib/python3.8/site-packages/sklearn/base.py:432: UserWarning: X has feature names, but KNeighborsClassifier was fitted without feature names\n",
      "  warnings.warn(\n",
      "/Polytech/tnngo1/.local/lib/python3.8/site-packages/sklearn/base.py:432: UserWarning: X has feature names, but KNeighborsClassifier was fitted without feature names\n",
      "  warnings.warn(\n",
      "/Polytech/tnngo1/.local/lib/python3.8/site-packages/sklearn/base.py:432: UserWarning: X has feature names, but KNeighborsClassifier was fitted without feature names\n",
      "  warnings.warn(\n",
      "/Polytech/tnngo1/.local/lib/python3.8/site-packages/sklearn/base.py:432: UserWarning: X has feature names, but KNeighborsClassifier was fitted without feature names\n",
      "  warnings.warn(\n",
      "/Polytech/tnngo1/.local/lib/python3.8/site-packages/sklearn/base.py:432: UserWarning: X has feature names, but KNeighborsClassifier was fitted without feature names\n",
      "  warnings.warn(\n",
      "/Polytech/tnngo1/.local/lib/python3.8/site-packages/sklearn/base.py:432: UserWarning: X has feature names, but KNeighborsClassifier was fitted without feature names\n",
      "  warnings.warn(\n",
      "/Polytech/tnngo1/.local/lib/python3.8/site-packages/sklearn/base.py:432: UserWarning: X has feature names, but KNeighborsClassifier was fitted without feature names\n",
      "  warnings.warn(\n",
      "/Polytech/tnngo1/.local/lib/python3.8/site-packages/sklearn/base.py:432: UserWarning: X has feature names, but KNeighborsClassifier was fitted without feature names\n",
      "  warnings.warn(\n",
      "/Polytech/tnngo1/.local/lib/python3.8/site-packages/sklearn/base.py:432: UserWarning: X has feature names, but KNeighborsClassifier was fitted without feature names\n",
      "  warnings.warn(\n"
     ]
    }
   ],
   "source": [
    "#choix optimal du seuil\n",
    "from sklearn.metrics import precision_score, recall_score, auc, f1_score, roc_curve\n",
    "exac_train=[]\n",
    "preci_train=[]\n",
    "rappel_train=[]\n",
    "f1score_train=[]\n",
    "auc_train=[]\n",
    "exac_test=[]\n",
    "preci_test=[]\n",
    "rappel_test=[]\n",
    "f1score_test=[]\n",
    "auc_test=[]\n",
    "for i in range(1,21):\n",
    "    data_clf=KNeighborsClassifier(n_neighbors=i)\n",
    "    data_clf.fit(datacr_train,y_train)\n",
    "    #apprentissage\n",
    "    pred_train=data_clf.predict(datacr_train)\n",
    "    proba_train=data_clf.predict_proba(datacr_train)\n",
    "    exactitude_train=np.sum(y_train==pred_train)/datacr_train.shape[0]\n",
    "    precision_train=precision_score(y_train,pred_train)\n",
    "    rap_train=recall_score(y_train,pred_train)\n",
    "    fpr_train,tpr_train,seuil_train=roc_curve(y_train,proba_train[:,1],pos_label=1) #1 pour assur_caravane\n",
    "    aire_train=auc(fpr_train,tpr_train)\n",
    "    f1_train=f1_score(y_train,pred_train)\n",
    "    exac_train.append(exactitude_train)\n",
    "    preci_train.append(precision_train)\n",
    "    rappel_train.append(rap_train)\n",
    "    f1score_train.append(f1_train)\n",
    "    auc_train.append(aire_train)\n",
    "    \n",
    "    #validation\n",
    "    pred_test=data_clf.predict(data_test)\n",
    "    proba_test=data_clf.predict_proba(data_test)\n",
    "    exactitude_test=np.sum(y_test==pred_test)/data_test.shape[0]\n",
    "    precision_test=precision_score(y_test,pred_test)\n",
    "    rap_test=recall_score(y_test,pred_test)\n",
    "    f1_test=f1_score(y_test,pred_test)\n",
    "    fpr_test,tpr_test,seuil_test=roc_curve(y_test,proba_test[:,1],pos_label=1) #1 pour assur_caravane\n",
    "    aire_test=auc(fpr_test,tpr_test)\n",
    "    exac_test.append(exactitude_test)\n",
    "    preci_test.append(precision_test)\n",
    "    rappel_test.append(rap_test)\n",
    "    f1score_test.append(f1_test)\n",
    "    auc_test.append(aire_test)"
   ]
  },
  {
   "cell_type": "code",
   "execution_count": 12,
   "id": "5232a0a1",
   "metadata": {},
   "outputs": [
    {
     "data": {
      "image/png": "[encoded data removed]",
      "text/plain": [
       "<Figure size 432x288 with 1 Axes>"
      ]
     },
     "metadata": {
      "needs_background": "light"
     },
     "output_type": "display_data"
    }
   ],
   "source": [
    "plt.title('exactitude')\n",
    "plt.plot(range(1,21),exac_train,range(1,21),exac_test)\n",
    "plt.legend(['apprentissage','validation'])\n",
    "plt.show()"
   ]
  },
  {
   "cell_type": "markdown",
   "id": "948f34b6",
   "metadata": {},
   "source": [
    "Avec l'indice <b>Exactitude</b> : on remarque avec K = 15 on a atteint son maximum"
   ]
  },
  {
   "cell_type": "code",
   "execution_count": 13,
   "id": "96367e87",
   "metadata": {},
   "outputs": [
    {
     "data": {
      "image/png": "[encoded data removed]",
      "text/plain": [
       "<Figure size 432x288 with 1 Axes>"
      ]
     },
     "metadata": {
      "needs_background": "light"
     },
     "output_type": "display_data"
    }
   ],
   "source": [
    "plt.title('auc')\n",
    "plt.plot(range(1,21),auc_train,range(1,21),auc_test)\n",
    "plt.scatter(range(1,21),auc_test)\n",
    "plt.legend(['apprentissage','validation'])\n",
    "plt.show()"
   ]
  },
  {
   "cell_type": "markdown",
   "id": "d64efb0e",
   "metadata": {},
   "source": [
    "Avec l'indice <b>AUC</b> : on remarque avec K = 15 on a atteint 0.0.56xxx proche son maximum"
   ]
  },
  {
   "cell_type": "code",
   "execution_count": 14,
   "id": "0b744ece",
   "metadata": {},
   "outputs": [
    {
     "data": {
      "image/png": "[encoded data removed]",
      "text/plain": [
       "<Figure size 432x288 with 1 Axes>"
      ]
     },
     "metadata": {
      "needs_background": "light"
     },
     "output_type": "display_data"
    }
   ],
   "source": [
    "plt.title('précision')\n",
    "plt.plot(range(1,21),preci_train,range(1,21),preci_test)\n",
    "plt.legend(['apprentissage','validation'])\n",
    "plt.show()"
   ]
  },
  {
   "cell_type": "code",
   "execution_count": 15,
   "id": "2f29b287",
   "metadata": {},
   "outputs": [
    {
     "data": {
      "image/png": "[encoded data removed]",
      "text/plain": [
       "<Figure size 432x288 with 1 Axes>"
      ]
     },
     "metadata": {
      "needs_background": "light"
     },
     "output_type": "display_data"
    }
   ],
   "source": [
    "plt.title('rappel')\n",
    "plt.plot(range(1,21),rappel_train,range(1,21),rappel_test)\n",
    "plt.legend(['apprentissage','validation'])\n",
    "plt.show()"
   ]
  },
  {
   "cell_type": "code",
   "execution_count": 16,
   "id": "6f72a4ff",
   "metadata": {},
   "outputs": [
    {
     "data": {
      "image/png": "[encoded data removed]",
      "text/plain": [
       "<Figure size 432x288 with 1 Axes>"
      ]
     },
     "metadata": {
      "needs_background": "light"
     },
     "output_type": "display_data"
    }
   ],
   "source": [
    "plt.title('f1 score')\n",
    "plt.plot(range(1,21),f1score_train,range(1,21),f1score_test)\n",
    "plt.legend(['apprentissage','validation'])\n",
    "plt.show()"
   ]
  },
  {
   "cell_type": "code",
   "execution_count": 24,
   "id": "c1267939",
   "metadata": {},
   "outputs": [
    {
     "name": "stdout",
     "output_type": "stream",
     "text": [
      "              precision    recall  f1-score   support\n",
      "\n",
      "           0       1.00      0.10      0.18      4381\n",
      "           1       0.53      1.00      0.69      4381\n",
      "\n",
      "    accuracy                           0.55      8762\n",
      "   macro avg       0.76      0.55      0.43      8762\n",
      "weighted avg       0.76      0.55      0.43      8762\n",
      "\n"
     ]
    }
   ],
   "source": [
    "#KNN avec k15\n",
    "data_clffinal=KNeighborsClassifier(n_neighbors=15)\n",
    "data_clffinal.fit(data_train,y_train)\n",
    "pred_final=data_clffinal.predict(data_train)\n",
    "print(classification_report(y_train,pred_final))"
   ]
  },
  {
   "cell_type": "markdown",
   "id": "3534bb35",
   "metadata": {},
   "source": [
    "<br> le <b>accuracy</b> de 0.55 et son <b>recall </b> ,<b>f1-score</b> de classe y = 0 sont relativement faibles.\n",
    "==> Je prend K = 15."
   ]
  },
  {
   "cell_type": "markdown",
   "id": "a56494b7",
   "metadata": {},
   "source": [
    "# GridSearchCV en KNN"
   ]
  },
  {
   "cell_type": "code",
   "execution_count": 19,
   "id": "6a4fc5f3",
   "metadata": {},
   "outputs": [
    {
     "name": "stdout",
     "output_type": "stream",
     "text": [
      "Fitting 3 folds for each of 16 candidates, totalling 48 fits\n"
     ]
    }
   ],
   "source": [
    "from sklearn.model_selection import GridSearchCV\n",
    "grid_params = {\n",
    "    'n_neighbors' : [3,5,11,19],\n",
    "    'weights' : ['uniform','distance'],\n",
    "    'metric' : ['euclidean','manhattan']\n",
    "}\n",
    "\n",
    "gs = GridSearchCV(\n",
    "    KNeighborsClassifier(),\n",
    "    grid_params,\n",
    "    verbose = 1,\n",
    "    cv= 3,\n",
    "    n_jobs = -1\n",
    ")\n",
    "\n",
    "gs_res = gs.fit(data_train,y_train)"
   ]
  },
  {
   "cell_type": "code",
   "execution_count": 20,
   "id": "0980e559",
   "metadata": {},
   "outputs": [
    {
     "data": {
      "text/plain": [
       "0.5596892444727911"
      ]
     },
     "execution_count": 20,
     "metadata": {},
     "output_type": "execute_result"
    }
   ],
   "source": [
    "gs_res.best_score_"
   ]
  },
  {
   "cell_type": "code",
   "execution_count": 21,
   "id": "4e24982b",
   "metadata": {},
   "outputs": [
    {
     "data": {
      "text/html": [
       "<style>#sk-container-id-1 {color: black;background-color: white;}#sk-container-id-1 pre{padding: 0;}#sk-container-id-1 div.sk-toggleable {background-color: white;}#sk-container-id-1 label.sk-toggleable__label {cursor: pointer;display: block;width: 100%;margin-bottom: 0;padding: 0.3em;box-sizing: border-box;text-align: center;}#sk-container-id-1 label.sk-toggleable__label-arrow:before {content: \"▸\";float: left;margin-right: 0.25em;color: #696969;}#sk-container-id-1 label.sk-toggleable__label-arrow:hover:before {color: black;}#sk-container-id-1 div.sk-estimator:hover label.sk-toggleable__label-arrow:before {color: black;}#sk-container-id-1 div.sk-toggleable__content {max-height: 0;max-width: 0;overflow: hidden;text-align: left;background-color: #f0f8ff;}#sk-container-id-1 div.sk-toggleable__content pre {margin: 0.2em;color: black;border-radius: 0.25em;background-color: #f0f8ff;}#sk-container-id-1 input.sk-toggleable__control:checked~div.sk-toggleable__content {max-height: 200px;max-width: 100%;overflow: auto;}#sk-container-id-1 input.sk-toggleable__control:checked~label.sk-toggleable__label-arrow:before {content: \"▾\";}#sk-container-id-1 div.sk-estimator input.sk-toggleable__control:checked~label.sk-toggleable__label {background-color: #d4ebff;}#sk-container-id-1 div.sk-label input.sk-toggleable__control:checked~label.sk-toggleable__label {background-color: #d4ebff;}#sk-container-id-1 input.sk-hidden--visually {border: 0;clip: rect(1px 1px 1px 1px);clip: rect(1px, 1px, 1px, 1px);height: 1px;margin: -1px;overflow: hidden;padding: 0;position: absolute;width: 1px;}#sk-container-id-1 div.sk-estimator {font-family: monospace;background-color: #f0f8ff;border: 1px dotted black;border-radius: 0.25em;box-sizing: border-box;margin-bottom: 0.5em;}#sk-container-id-1 div.sk-estimator:hover {background-color: #d4ebff;}#sk-container-id-1 div.sk-parallel-item::after {content: \"\";width: 100%;border-bottom: 1px solid gray;flex-grow: 1;}#sk-container-id-1 div.sk-label:hover label.sk-toggleable__label {background-color: #d4ebff;}#sk-container-id-1 div.sk-serial::before {content: \"\";position: absolute;border-left: 1px solid gray;box-sizing: border-box;top: 0;bottom: 0;left: 50%;z-index: 0;}#sk-container-id-1 div.sk-serial {display: flex;flex-direction: column;align-items: center;background-color: white;padding-right: 0.2em;padding-left: 0.2em;position: relative;}#sk-container-id-1 div.sk-item {position: relative;z-index: 1;}#sk-container-id-1 div.sk-parallel {display: flex;align-items: stretch;justify-content: center;background-color: white;position: relative;}#sk-container-id-1 div.sk-item::before, #sk-container-id-1 div.sk-parallel-item::before {content: \"\";position: absolute;border-left: 1px solid gray;box-sizing: border-box;top: 0;bottom: 0;left: 50%;z-index: -1;}#sk-container-id-1 div.sk-parallel-item {display: flex;flex-direction: column;z-index: 1;position: relative;background-color: white;}#sk-container-id-1 div.sk-parallel-item:first-child::after {align-self: flex-end;width: 50%;}#sk-container-id-1 div.sk-parallel-item:last-child::after {align-self: flex-start;width: 50%;}#sk-container-id-1 div.sk-parallel-item:only-child::after {width: 0;}#sk-container-id-1 div.sk-dashed-wrapped {border: 1px dashed gray;margin: 0 0.4em 0.5em 0.4em;box-sizing: border-box;padding-bottom: 0.4em;background-color: white;}#sk-container-id-1 div.sk-label label {font-family: monospace;font-weight: bold;display: inline-block;line-height: 1.2em;}#sk-container-id-1 div.sk-label-container {text-align: center;}#sk-container-id-1 div.sk-container {/* jupyter's `normalize.less` sets `[hidden] { display: none; }` but bootstrap.min.css set `[hidden] { display: none !important; }` so we also need the `!important` here to be able to override the default hidden behavior on the sphinx rendered scikit-learn.org. See: https://github.com/scikit-learn/scikit-learn/issues/21755 */display: inline-block !important;position: relative;}#sk-container-id-1 div.sk-text-repr-fallback {display: none;}</style><div id=\"sk-container-id-1\" class=\"sk-top-container\"><div class=\"sk-text-repr-fallback\"><pre>KNeighborsClassifier(metric=&#x27;euclidean&#x27;, n_neighbors=3, weights=&#x27;distance&#x27;)</pre><b>In a Jupyter environment, please rerun this cell to show the HTML representation or trust the notebook. <br />On GitHub, the HTML representation is unable to render, please try loading this page with nbviewer.org.</b></div><div class=\"sk-container\" hidden><div class=\"sk-item\"><div class=\"sk-estimator sk-toggleable\"><input class=\"sk-toggleable__control sk-hidden--visually\" id=\"sk-estimator-id-1\" type=\"checkbox\" checked><label for=\"sk-estimator-id-1\" class=\"sk-toggleable__label sk-toggleable__label-arrow\">KNeighborsClassifier</label><div class=\"sk-toggleable__content\"><pre>KNeighborsClassifier(metric=&#x27;euclidean&#x27;, n_neighbors=3, weights=&#x27;distance&#x27;)</pre></div></div></div></div></div>"
      ],
      "text/plain": [
       "KNeighborsClassifier(metric='euclidean', n_neighbors=3, weights='distance')"
      ]
     },
     "execution_count": 21,
     "metadata": {},
     "output_type": "execute_result"
    }
   ],
   "source": [
    "# Best n neighbors\n",
    "gs_res.best_estimator_"
   ]
  },
  {
   "cell_type": "code",
   "execution_count": 22,
   "id": "e0c7df7d",
   "metadata": {},
   "outputs": [
    {
     "data": {
      "text/plain": [
       "{'metric': 'euclidean', 'n_neighbors': 3, 'weights': 'distance'}"
      ]
     },
     "execution_count": 22,
     "metadata": {},
     "output_type": "execute_result"
    }
   ],
   "source": [
    "gs_res.best_params_"
   ]
  },
  {
   "cell_type": "code",
   "execution_count": 23,
   "id": "2d97d100",
   "metadata": {},
   "outputs": [
    {
     "data": {
      "image/png": "[encoded data removed]",
      "text/plain": [
       "<Figure size 432x288 with 2 Axes>"
      ]
     },
     "metadata": {
      "needs_background": "light"
     },
     "output_type": "display_data"
    }
   ],
   "source": [
    "from sklearn.metrics import confusion_matrix, ConfusionMatrixDisplay\n",
    "cm = confusion_matrix(y_test, pred_test, labels=data_clf.classes_)\n",
    "disp = ConfusionMatrixDisplay(confusion_matrix=cm,\n",
    "                              display_labels=data_clf.classes_)\n",
    "disp.plot()\n",
    "plt.show()"
   ]
  }
 ],
 "metadata": {
  "kernelspec": {
   "display_name": "Python 3",
   "language": "python",
   "name": "python3"
  },
  "language_info": {
   "codemirror_mode": {
    "name": "ipython",
    "version": 3
   },
   "file_extension": ".py",
   "mimetype": "text/x-python",
   "name": "python",
   "nbconvert_exporter": "python",
   "pygments_lexer": "ipython3",
   "version": "3.8.2"
  }
 },
 "nbformat": 4,
 "nbformat_minor": 5
}
