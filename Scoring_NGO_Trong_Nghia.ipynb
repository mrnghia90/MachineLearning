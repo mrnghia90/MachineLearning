{
 "cells": [
  {
   "cell_type": "code",
   "execution_count": 1,
   "id": "ab9781a2",
   "metadata": {},
   "outputs": [],
   "source": [
    "# libraires nécessaires\n",
    "%reset -f\n",
    "import numpy as np\n",
    "import pandas as pd\n",
    "import matplotlib.pyplot as plt"
   ]
  },
  {
   "cell_type": "markdown",
   "id": "6f6a2236",
   "metadata": {},
   "source": [
    "# 1. Lire des données"
   ]
  },
  {
   "cell_type": "code",
   "execution_count": 2,
   "id": "3da5422c",
   "metadata": {},
   "outputs": [
    {
     "data": {
      "text/html": [
       "<div>\n",
       "<style scoped>\n",
       "    .dataframe tbody tr th:only-of-type {\n",
       "        vertical-align: middle;\n",
       "    }\n",
       "\n",
       "    .dataframe tbody tr th {\n",
       "        vertical-align: top;\n",
       "    }\n",
       "\n",
       "    .dataframe thead th {\n",
       "        text-align: right;\n",
       "    }\n",
       "</style>\n",
       "<table border=\"1\" class=\"dataframe\">\n",
       "  <thead>\n",
       "    <tr style=\"text-align: right;\">\n",
       "      <th></th>\n",
       "      <th>assur_caravane</th>\n",
       "      <th>nbmaisons</th>\n",
       "      <th>pouvoir_achat</th>\n",
       "      <th>nbpers_au_foyer</th>\n",
       "      <th>type_client</th>\n",
       "      <th>mt_auto</th>\n",
       "      <th>nb_auto</th>\n",
       "      <th>mt_incendie</th>\n",
       "      <th>nb_incendie</th>\n",
       "      <th>niv_etud_bas</th>\n",
       "      <th>...</th>\n",
       "      <th>marie</th>\n",
       "      <th>autre_relation</th>\n",
       "      <th>assur_sante_prive</th>\n",
       "      <th>assur_sante_public</th>\n",
       "      <th>mt_RC_entreprise</th>\n",
       "      <th>nb_RC_entreprise</th>\n",
       "      <th>mt_camion_livraison</th>\n",
       "      <th>nb_camion_livraison</th>\n",
       "      <th>nb_remorque</th>\n",
       "      <th>mt_remorque</th>\n",
       "    </tr>\n",
       "    <tr>\n",
       "      <th>cle</th>\n",
       "      <th></th>\n",
       "      <th></th>\n",
       "      <th></th>\n",
       "      <th></th>\n",
       "      <th></th>\n",
       "      <th></th>\n",
       "      <th></th>\n",
       "      <th></th>\n",
       "      <th></th>\n",
       "      <th></th>\n",
       "      <th></th>\n",
       "      <th></th>\n",
       "      <th></th>\n",
       "      <th></th>\n",
       "      <th></th>\n",
       "      <th></th>\n",
       "      <th></th>\n",
       "      <th></th>\n",
       "      <th></th>\n",
       "      <th></th>\n",
       "      <th></th>\n",
       "    </tr>\n",
       "  </thead>\n",
       "  <tbody>\n",
       "    <tr>\n",
       "      <th>5797</th>\n",
       "      <td>0</td>\n",
       "      <td>1</td>\n",
       "      <td>5</td>\n",
       "      <td>4</td>\n",
       "      <td>9</td>\n",
       "      <td>5</td>\n",
       "      <td>1</td>\n",
       "      <td>0</td>\n",
       "      <td>0</td>\n",
       "      <td>8</td>\n",
       "      <td>...</td>\n",
       "      <td>7</td>\n",
       "      <td>2</td>\n",
       "      <td>0</td>\n",
       "      <td>9</td>\n",
       "      <td>0</td>\n",
       "      <td>0</td>\n",
       "      <td>0</td>\n",
       "      <td>0</td>\n",
       "      <td>0</td>\n",
       "      <td>0</td>\n",
       "    </tr>\n",
       "    <tr>\n",
       "      <th>697</th>\n",
       "      <td>0</td>\n",
       "      <td>3</td>\n",
       "      <td>6</td>\n",
       "      <td>2</td>\n",
       "      <td>1</td>\n",
       "      <td>6</td>\n",
       "      <td>1</td>\n",
       "      <td>0</td>\n",
       "      <td>0</td>\n",
       "      <td>2</td>\n",
       "      <td>...</td>\n",
       "      <td>7</td>\n",
       "      <td>2</td>\n",
       "      <td>4</td>\n",
       "      <td>5</td>\n",
       "      <td>0</td>\n",
       "      <td>0</td>\n",
       "      <td>0</td>\n",
       "      <td>0</td>\n",
       "      <td>0</td>\n",
       "      <td>0</td>\n",
       "    </tr>\n",
       "    <tr>\n",
       "      <th>3853</th>\n",
       "      <td>0</td>\n",
       "      <td>1</td>\n",
       "      <td>5</td>\n",
       "      <td>1</td>\n",
       "      <td>8</td>\n",
       "      <td>0</td>\n",
       "      <td>0</td>\n",
       "      <td>0</td>\n",
       "      <td>0</td>\n",
       "      <td>0</td>\n",
       "      <td>...</td>\n",
       "      <td>6</td>\n",
       "      <td>3</td>\n",
       "      <td>5</td>\n",
       "      <td>4</td>\n",
       "      <td>0</td>\n",
       "      <td>0</td>\n",
       "      <td>0</td>\n",
       "      <td>0</td>\n",
       "      <td>0</td>\n",
       "      <td>0</td>\n",
       "    </tr>\n",
       "    <tr>\n",
       "      <th>4054</th>\n",
       "      <td>1</td>\n",
       "      <td>2</td>\n",
       "      <td>8</td>\n",
       "      <td>4</td>\n",
       "      <td>2</td>\n",
       "      <td>6</td>\n",
       "      <td>1</td>\n",
       "      <td>4</td>\n",
       "      <td>1</td>\n",
       "      <td>1</td>\n",
       "      <td>...</td>\n",
       "      <td>9</td>\n",
       "      <td>0</td>\n",
       "      <td>6</td>\n",
       "      <td>3</td>\n",
       "      <td>0</td>\n",
       "      <td>0</td>\n",
       "      <td>0</td>\n",
       "      <td>0</td>\n",
       "      <td>0</td>\n",
       "      <td>0</td>\n",
       "    </tr>\n",
       "    <tr>\n",
       "      <th>3765</th>\n",
       "      <td>0</td>\n",
       "      <td>1</td>\n",
       "      <td>3</td>\n",
       "      <td>2</td>\n",
       "      <td>8</td>\n",
       "      <td>6</td>\n",
       "      <td>1</td>\n",
       "      <td>0</td>\n",
       "      <td>0</td>\n",
       "      <td>4</td>\n",
       "      <td>...</td>\n",
       "      <td>7</td>\n",
       "      <td>2</td>\n",
       "      <td>3</td>\n",
       "      <td>6</td>\n",
       "      <td>0</td>\n",
       "      <td>0</td>\n",
       "      <td>0</td>\n",
       "      <td>0</td>\n",
       "      <td>0</td>\n",
       "      <td>0</td>\n",
       "    </tr>\n",
       "    <tr>\n",
       "      <th>...</th>\n",
       "      <td>...</td>\n",
       "      <td>...</td>\n",
       "      <td>...</td>\n",
       "      <td>...</td>\n",
       "      <td>...</td>\n",
       "      <td>...</td>\n",
       "      <td>...</td>\n",
       "      <td>...</td>\n",
       "      <td>...</td>\n",
       "      <td>...</td>\n",
       "      <td>...</td>\n",
       "      <td>...</td>\n",
       "      <td>...</td>\n",
       "      <td>...</td>\n",
       "      <td>...</td>\n",
       "      <td>...</td>\n",
       "      <td>...</td>\n",
       "      <td>...</td>\n",
       "      <td>...</td>\n",
       "      <td>...</td>\n",
       "      <td>...</td>\n",
       "    </tr>\n",
       "    <tr>\n",
       "      <th>5515</th>\n",
       "      <td>0</td>\n",
       "      <td>1</td>\n",
       "      <td>1</td>\n",
       "      <td>2</td>\n",
       "      <td>7</td>\n",
       "      <td>6</td>\n",
       "      <td>1</td>\n",
       "      <td>0</td>\n",
       "      <td>0</td>\n",
       "      <td>6</td>\n",
       "      <td>...</td>\n",
       "      <td>4</td>\n",
       "      <td>3</td>\n",
       "      <td>1</td>\n",
       "      <td>8</td>\n",
       "      <td>0</td>\n",
       "      <td>0</td>\n",
       "      <td>0</td>\n",
       "      <td>0</td>\n",
       "      <td>0</td>\n",
       "      <td>0</td>\n",
       "    </tr>\n",
       "    <tr>\n",
       "      <th>2418</th>\n",
       "      <td>0</td>\n",
       "      <td>1</td>\n",
       "      <td>7</td>\n",
       "      <td>3</td>\n",
       "      <td>2</td>\n",
       "      <td>6</td>\n",
       "      <td>1</td>\n",
       "      <td>0</td>\n",
       "      <td>0</td>\n",
       "      <td>2</td>\n",
       "      <td>...</td>\n",
       "      <td>7</td>\n",
       "      <td>0</td>\n",
       "      <td>7</td>\n",
       "      <td>2</td>\n",
       "      <td>0</td>\n",
       "      <td>0</td>\n",
       "      <td>0</td>\n",
       "      <td>0</td>\n",
       "      <td>0</td>\n",
       "      <td>0</td>\n",
       "    </tr>\n",
       "    <tr>\n",
       "      <th>4621</th>\n",
       "      <td>0</td>\n",
       "      <td>1</td>\n",
       "      <td>3</td>\n",
       "      <td>3</td>\n",
       "      <td>10</td>\n",
       "      <td>6</td>\n",
       "      <td>2</td>\n",
       "      <td>6</td>\n",
       "      <td>1</td>\n",
       "      <td>2</td>\n",
       "      <td>...</td>\n",
       "      <td>6</td>\n",
       "      <td>0</td>\n",
       "      <td>6</td>\n",
       "      <td>3</td>\n",
       "      <td>0</td>\n",
       "      <td>0</td>\n",
       "      <td>0</td>\n",
       "      <td>0</td>\n",
       "      <td>0</td>\n",
       "      <td>0</td>\n",
       "    </tr>\n",
       "    <tr>\n",
       "      <th>2726</th>\n",
       "      <td>0</td>\n",
       "      <td>2</td>\n",
       "      <td>7</td>\n",
       "      <td>4</td>\n",
       "      <td>2</td>\n",
       "      <td>0</td>\n",
       "      <td>0</td>\n",
       "      <td>0</td>\n",
       "      <td>0</td>\n",
       "      <td>3</td>\n",
       "      <td>...</td>\n",
       "      <td>7</td>\n",
       "      <td>2</td>\n",
       "      <td>4</td>\n",
       "      <td>5</td>\n",
       "      <td>0</td>\n",
       "      <td>0</td>\n",
       "      <td>0</td>\n",
       "      <td>0</td>\n",
       "      <td>0</td>\n",
       "      <td>0</td>\n",
       "    </tr>\n",
       "    <tr>\n",
       "      <th>4814</th>\n",
       "      <td>0</td>\n",
       "      <td>1</td>\n",
       "      <td>6</td>\n",
       "      <td>3</td>\n",
       "      <td>3</td>\n",
       "      <td>0</td>\n",
       "      <td>0</td>\n",
       "      <td>3</td>\n",
       "      <td>1</td>\n",
       "      <td>2</td>\n",
       "      <td>...</td>\n",
       "      <td>8</td>\n",
       "      <td>1</td>\n",
       "      <td>5</td>\n",
       "      <td>4</td>\n",
       "      <td>0</td>\n",
       "      <td>0</td>\n",
       "      <td>0</td>\n",
       "      <td>0</td>\n",
       "      <td>0</td>\n",
       "      <td>0</td>\n",
       "    </tr>\n",
       "  </tbody>\n",
       "</table>\n",
       "<p>4657 rows × 32 columns</p>\n",
       "</div>"
      ],
      "text/plain": [
       "      assur_caravane  nbmaisons  pouvoir_achat  nbpers_au_foyer  type_client  \\\n",
       "cle                                                                            \n",
       "5797               0          1              5                4            9   \n",
       "697                0          3              6                2            1   \n",
       "3853               0          1              5                1            8   \n",
       "4054               1          2              8                4            2   \n",
       "3765               0          1              3                2            8   \n",
       "...              ...        ...            ...              ...          ...   \n",
       "5515               0          1              1                2            7   \n",
       "2418               0          1              7                3            2   \n",
       "4621               0          1              3                3           10   \n",
       "2726               0          2              7                4            2   \n",
       "4814               0          1              6                3            3   \n",
       "\n",
       "      mt_auto  nb_auto  mt_incendie  nb_incendie  niv_etud_bas  ...  marie  \\\n",
       "cle                                                             ...          \n",
       "5797        5        1            0            0             8  ...      7   \n",
       "697         6        1            0            0             2  ...      7   \n",
       "3853        0        0            0            0             0  ...      6   \n",
       "4054        6        1            4            1             1  ...      9   \n",
       "3765        6        1            0            0             4  ...      7   \n",
       "...       ...      ...          ...          ...           ...  ...    ...   \n",
       "5515        6        1            0            0             6  ...      4   \n",
       "2418        6        1            0            0             2  ...      7   \n",
       "4621        6        2            6            1             2  ...      6   \n",
       "2726        0        0            0            0             3  ...      7   \n",
       "4814        0        0            3            1             2  ...      8   \n",
       "\n",
       "      autre_relation  assur_sante_prive  assur_sante_public  mt_RC_entreprise  \\\n",
       "cle                                                                             \n",
       "5797               2                  0                   9                 0   \n",
       "697                2                  4                   5                 0   \n",
       "3853               3                  5                   4                 0   \n",
       "4054               0                  6                   3                 0   \n",
       "3765               2                  3                   6                 0   \n",
       "...              ...                ...                 ...               ...   \n",
       "5515               3                  1                   8                 0   \n",
       "2418               0                  7                   2                 0   \n",
       "4621               0                  6                   3                 0   \n",
       "2726               2                  4                   5                 0   \n",
       "4814               1                  5                   4                 0   \n",
       "\n",
       "      nb_RC_entreprise  mt_camion_livraison  nb_camion_livraison  nb_remorque  \\\n",
       "cle                                                                             \n",
       "5797                 0                    0                    0            0   \n",
       "697                  0                    0                    0            0   \n",
       "3853                 0                    0                    0            0   \n",
       "4054                 0                    0                    0            0   \n",
       "3765                 0                    0                    0            0   \n",
       "...                ...                  ...                  ...          ...   \n",
       "5515                 0                    0                    0            0   \n",
       "2418                 0                    0                    0            0   \n",
       "4621                 0                    0                    0            0   \n",
       "2726                 0                    0                    0            0   \n",
       "4814                 0                    0                    0            0   \n",
       "\n",
       "      mt_remorque  \n",
       "cle                \n",
       "5797            0  \n",
       "697             0  \n",
       "3853            0  \n",
       "4054            0  \n",
       "3765            0  \n",
       "...           ...  \n",
       "5515            0  \n",
       "2418            0  \n",
       "4621            0  \n",
       "2726            0  \n",
       "4814            0  \n",
       "\n",
       "[4657 rows x 32 columns]"
      ]
     },
     "execution_count": 2,
     "metadata": {},
     "output_type": "execute_result"
    }
   ],
   "source": [
    "data = pd.read_table('train_set.csv',sep=',',header=0,index_col=0)\n",
    "data"
   ]
  },
  {
   "cell_type": "code",
   "execution_count": 3,
   "id": "7e6db186",
   "metadata": {},
   "outputs": [
    {
     "data": {
      "text/html": [
       "<div>\n",
       "<style scoped>\n",
       "    .dataframe tbody tr th:only-of-type {\n",
       "        vertical-align: middle;\n",
       "    }\n",
       "\n",
       "    .dataframe tbody tr th {\n",
       "        vertical-align: top;\n",
       "    }\n",
       "\n",
       "    .dataframe thead th {\n",
       "        text-align: right;\n",
       "    }\n",
       "</style>\n",
       "<table border=\"1\" class=\"dataframe\">\n",
       "  <thead>\n",
       "    <tr style=\"text-align: right;\">\n",
       "      <th></th>\n",
       "      <th>assur_caravane</th>\n",
       "      <th>nbmaisons</th>\n",
       "      <th>pouvoir_achat</th>\n",
       "      <th>nbpers_au_foyer</th>\n",
       "      <th>type_client</th>\n",
       "      <th>mt_auto</th>\n",
       "      <th>nb_auto</th>\n",
       "      <th>mt_incendie</th>\n",
       "      <th>nb_incendie</th>\n",
       "      <th>niv_etud_bas</th>\n",
       "      <th>...</th>\n",
       "      <th>marie</th>\n",
       "      <th>autre_relation</th>\n",
       "      <th>assur_sante_prive</th>\n",
       "      <th>assur_sante_public</th>\n",
       "      <th>mt_RC_entreprise</th>\n",
       "      <th>nb_RC_entreprise</th>\n",
       "      <th>mt_camion_livraison</th>\n",
       "      <th>nb_camion_livraison</th>\n",
       "      <th>nb_remorque</th>\n",
       "      <th>mt_remorque</th>\n",
       "    </tr>\n",
       "  </thead>\n",
       "  <tbody>\n",
       "    <tr>\n",
       "      <th>count</th>\n",
       "      <td>4657.000000</td>\n",
       "      <td>4657.000000</td>\n",
       "      <td>4657.000000</td>\n",
       "      <td>4657.000000</td>\n",
       "      <td>4657.000000</td>\n",
       "      <td>4657.000000</td>\n",
       "      <td>4657.000000</td>\n",
       "      <td>4657.000000</td>\n",
       "      <td>4657.000000</td>\n",
       "      <td>4657.000000</td>\n",
       "      <td>...</td>\n",
       "      <td>4657.000000</td>\n",
       "      <td>4657.000000</td>\n",
       "      <td>4657.000000</td>\n",
       "      <td>4657.000000</td>\n",
       "      <td>4657.000000</td>\n",
       "      <td>4657.000000</td>\n",
       "      <td>4657.000000</td>\n",
       "      <td>4657.000000</td>\n",
       "      <td>4657.000000</td>\n",
       "      <td>4657.000000</td>\n",
       "    </tr>\n",
       "    <tr>\n",
       "      <th>mean</th>\n",
       "      <td>0.059266</td>\n",
       "      <td>1.109727</td>\n",
       "      <td>4.238136</td>\n",
       "      <td>2.681340</td>\n",
       "      <td>5.767662</td>\n",
       "      <td>2.986043</td>\n",
       "      <td>0.567747</td>\n",
       "      <td>1.827142</td>\n",
       "      <td>0.568392</td>\n",
       "      <td>4.593300</td>\n",
       "      <td>...</td>\n",
       "      <td>6.194546</td>\n",
       "      <td>2.283874</td>\n",
       "      <td>2.745974</td>\n",
       "      <td>6.260468</td>\n",
       "      <td>0.038651</td>\n",
       "      <td>0.014387</td>\n",
       "      <td>0.047885</td>\n",
       "      <td>0.010522</td>\n",
       "      <td>0.012454</td>\n",
       "      <td>0.020829</td>\n",
       "    </tr>\n",
       "    <tr>\n",
       "      <th>std</th>\n",
       "      <td>0.236147</td>\n",
       "      <td>0.404265</td>\n",
       "      <td>1.998867</td>\n",
       "      <td>0.790448</td>\n",
       "      <td>2.866541</td>\n",
       "      <td>2.920337</td>\n",
       "      <td>0.610770</td>\n",
       "      <td>1.885230</td>\n",
       "      <td>0.557761</td>\n",
       "      <td>2.298948</td>\n",
       "      <td>...</td>\n",
       "      <td>1.911697</td>\n",
       "      <td>1.730359</td>\n",
       "      <td>1.986990</td>\n",
       "      <td>1.983992</td>\n",
       "      <td>0.359888</td>\n",
       "      <td>0.135936</td>\n",
       "      <td>0.529686</td>\n",
       "      <td>0.131477</td>\n",
       "      <td>0.128831</td>\n",
       "      <td>0.216868</td>\n",
       "    </tr>\n",
       "    <tr>\n",
       "      <th>min</th>\n",
       "      <td>0.000000</td>\n",
       "      <td>1.000000</td>\n",
       "      <td>1.000000</td>\n",
       "      <td>1.000000</td>\n",
       "      <td>1.000000</td>\n",
       "      <td>0.000000</td>\n",
       "      <td>0.000000</td>\n",
       "      <td>0.000000</td>\n",
       "      <td>0.000000</td>\n",
       "      <td>0.000000</td>\n",
       "      <td>...</td>\n",
       "      <td>0.000000</td>\n",
       "      <td>0.000000</td>\n",
       "      <td>0.000000</td>\n",
       "      <td>0.000000</td>\n",
       "      <td>0.000000</td>\n",
       "      <td>0.000000</td>\n",
       "      <td>0.000000</td>\n",
       "      <td>0.000000</td>\n",
       "      <td>0.000000</td>\n",
       "      <td>0.000000</td>\n",
       "    </tr>\n",
       "    <tr>\n",
       "      <th>25%</th>\n",
       "      <td>0.000000</td>\n",
       "      <td>1.000000</td>\n",
       "      <td>3.000000</td>\n",
       "      <td>2.000000</td>\n",
       "      <td>3.000000</td>\n",
       "      <td>0.000000</td>\n",
       "      <td>0.000000</td>\n",
       "      <td>0.000000</td>\n",
       "      <td>0.000000</td>\n",
       "      <td>3.000000</td>\n",
       "      <td>...</td>\n",
       "      <td>5.000000</td>\n",
       "      <td>1.000000</td>\n",
       "      <td>1.000000</td>\n",
       "      <td>5.000000</td>\n",
       "      <td>0.000000</td>\n",
       "      <td>0.000000</td>\n",
       "      <td>0.000000</td>\n",
       "      <td>0.000000</td>\n",
       "      <td>0.000000</td>\n",
       "      <td>0.000000</td>\n",
       "    </tr>\n",
       "    <tr>\n",
       "      <th>50%</th>\n",
       "      <td>0.000000</td>\n",
       "      <td>1.000000</td>\n",
       "      <td>4.000000</td>\n",
       "      <td>3.000000</td>\n",
       "      <td>7.000000</td>\n",
       "      <td>5.000000</td>\n",
       "      <td>1.000000</td>\n",
       "      <td>2.000000</td>\n",
       "      <td>1.000000</td>\n",
       "      <td>5.000000</td>\n",
       "      <td>...</td>\n",
       "      <td>6.000000</td>\n",
       "      <td>2.000000</td>\n",
       "      <td>2.000000</td>\n",
       "      <td>7.000000</td>\n",
       "      <td>0.000000</td>\n",
       "      <td>0.000000</td>\n",
       "      <td>0.000000</td>\n",
       "      <td>0.000000</td>\n",
       "      <td>0.000000</td>\n",
       "      <td>0.000000</td>\n",
       "    </tr>\n",
       "    <tr>\n",
       "      <th>75%</th>\n",
       "      <td>0.000000</td>\n",
       "      <td>1.000000</td>\n",
       "      <td>6.000000</td>\n",
       "      <td>3.000000</td>\n",
       "      <td>8.000000</td>\n",
       "      <td>6.000000</td>\n",
       "      <td>1.000000</td>\n",
       "      <td>4.000000</td>\n",
       "      <td>1.000000</td>\n",
       "      <td>6.000000</td>\n",
       "      <td>...</td>\n",
       "      <td>7.000000</td>\n",
       "      <td>3.000000</td>\n",
       "      <td>4.000000</td>\n",
       "      <td>8.000000</td>\n",
       "      <td>0.000000</td>\n",
       "      <td>0.000000</td>\n",
       "      <td>0.000000</td>\n",
       "      <td>0.000000</td>\n",
       "      <td>0.000000</td>\n",
       "      <td>0.000000</td>\n",
       "    </tr>\n",
       "    <tr>\n",
       "      <th>max</th>\n",
       "      <td>1.000000</td>\n",
       "      <td>10.000000</td>\n",
       "      <td>8.000000</td>\n",
       "      <td>5.000000</td>\n",
       "      <td>10.000000</td>\n",
       "      <td>8.000000</td>\n",
       "      <td>7.000000</td>\n",
       "      <td>8.000000</td>\n",
       "      <td>5.000000</td>\n",
       "      <td>9.000000</td>\n",
       "      <td>...</td>\n",
       "      <td>9.000000</td>\n",
       "      <td>9.000000</td>\n",
       "      <td>9.000000</td>\n",
       "      <td>9.000000</td>\n",
       "      <td>6.000000</td>\n",
       "      <td>5.000000</td>\n",
       "      <td>7.000000</td>\n",
       "      <td>4.000000</td>\n",
       "      <td>3.000000</td>\n",
       "      <td>5.000000</td>\n",
       "    </tr>\n",
       "  </tbody>\n",
       "</table>\n",
       "<p>8 rows × 32 columns</p>\n",
       "</div>"
      ],
      "text/plain": [
       "       assur_caravane    nbmaisons  pouvoir_achat  nbpers_au_foyer  \\\n",
       "count     4657.000000  4657.000000    4657.000000      4657.000000   \n",
       "mean         0.059266     1.109727       4.238136         2.681340   \n",
       "std          0.236147     0.404265       1.998867         0.790448   \n",
       "min          0.000000     1.000000       1.000000         1.000000   \n",
       "25%          0.000000     1.000000       3.000000         2.000000   \n",
       "50%          0.000000     1.000000       4.000000         3.000000   \n",
       "75%          0.000000     1.000000       6.000000         3.000000   \n",
       "max          1.000000    10.000000       8.000000         5.000000   \n",
       "\n",
       "       type_client      mt_auto      nb_auto  mt_incendie  nb_incendie  \\\n",
       "count  4657.000000  4657.000000  4657.000000  4657.000000  4657.000000   \n",
       "mean      5.767662     2.986043     0.567747     1.827142     0.568392   \n",
       "std       2.866541     2.920337     0.610770     1.885230     0.557761   \n",
       "min       1.000000     0.000000     0.000000     0.000000     0.000000   \n",
       "25%       3.000000     0.000000     0.000000     0.000000     0.000000   \n",
       "50%       7.000000     5.000000     1.000000     2.000000     1.000000   \n",
       "75%       8.000000     6.000000     1.000000     4.000000     1.000000   \n",
       "max      10.000000     8.000000     7.000000     8.000000     5.000000   \n",
       "\n",
       "       niv_etud_bas  ...        marie  autre_relation  assur_sante_prive  \\\n",
       "count   4657.000000  ...  4657.000000     4657.000000        4657.000000   \n",
       "mean       4.593300  ...     6.194546        2.283874           2.745974   \n",
       "std        2.298948  ...     1.911697        1.730359           1.986990   \n",
       "min        0.000000  ...     0.000000        0.000000           0.000000   \n",
       "25%        3.000000  ...     5.000000        1.000000           1.000000   \n",
       "50%        5.000000  ...     6.000000        2.000000           2.000000   \n",
       "75%        6.000000  ...     7.000000        3.000000           4.000000   \n",
       "max        9.000000  ...     9.000000        9.000000           9.000000   \n",
       "\n",
       "       assur_sante_public  mt_RC_entreprise  nb_RC_entreprise  \\\n",
       "count         4657.000000       4657.000000       4657.000000   \n",
       "mean             6.260468          0.038651          0.014387   \n",
       "std              1.983992          0.359888          0.135936   \n",
       "min              0.000000          0.000000          0.000000   \n",
       "25%              5.000000          0.000000          0.000000   \n",
       "50%              7.000000          0.000000          0.000000   \n",
       "75%              8.000000          0.000000          0.000000   \n",
       "max              9.000000          6.000000          5.000000   \n",
       "\n",
       "       mt_camion_livraison  nb_camion_livraison  nb_remorque  mt_remorque  \n",
       "count          4657.000000          4657.000000  4657.000000  4657.000000  \n",
       "mean              0.047885             0.010522     0.012454     0.020829  \n",
       "std               0.529686             0.131477     0.128831     0.216868  \n",
       "min               0.000000             0.000000     0.000000     0.000000  \n",
       "25%               0.000000             0.000000     0.000000     0.000000  \n",
       "50%               0.000000             0.000000     0.000000     0.000000  \n",
       "75%               0.000000             0.000000     0.000000     0.000000  \n",
       "max               7.000000             4.000000     3.000000     5.000000  \n",
       "\n",
       "[8 rows x 32 columns]"
      ]
     },
     "execution_count": 3,
     "metadata": {},
     "output_type": "execute_result"
    }
   ],
   "source": [
    "# Explorer les statistiques descriptives\n",
    "data.describe()"
   ]
  },
  {
   "cell_type": "markdown",
   "id": "874c6834",
   "metadata": {},
   "source": [
    "Univarier\n",
    "<br>Variable quantitative : boxplot (distribution ), histogramme \n",
    "<br>Variable qualitative : bars plot"
   ]
  },
  {
   "cell_type": "markdown",
   "id": "9ff24923",
   "metadata": {},
   "source": [
    "# 2. Etude des variables"
   ]
  },
  {
   "cell_type": "code",
   "execution_count": 4,
   "id": "c59619da",
   "metadata": {},
   "outputs": [
    {
     "data": {
      "text/plain": [
       "Index(['assur_caravane', 'nbmaisons', 'pouvoir_achat', 'nbpers_au_foyer',\n",
       "       'type_client', 'mt_auto', 'nb_auto', 'mt_incendie', 'nb_incendie',\n",
       "       'niv_etud_bas', 'niv_etude_haut', 'revenu_moyen', 'mt_RC', 'nb_RC',\n",
       "       'locataire', 'proprietaire', 'auto0', 'auto1', 'revenu1', 'revenu2',\n",
       "       'revenu3', 'revenu4', 'marie', 'autre_relation', 'assur_sante_prive',\n",
       "       'assur_sante_public', 'mt_RC_entreprise', 'nb_RC_entreprise',\n",
       "       'mt_camion_livraison', 'nb_camion_livraison', 'nb_remorque',\n",
       "       'mt_remorque'],\n",
       "      dtype='object')"
      ]
     },
     "execution_count": 4,
     "metadata": {},
     "output_type": "execute_result"
    }
   ],
   "source": [
    "data.columns"
   ]
  },
  {
   "cell_type": "markdown",
   "id": "9c9e1226",
   "metadata": {},
   "source": [
    "NB: Pour considérer une variable est quantitative (discrète) ou qualitative. On applique la règle : si elles peuvent être compter, on les classe en quantitative (discrète) sinon en qualitative. Dans ce jeu de données, je met des variables qui commencent 'nb....' comme des variables qualitative.\n",
    "<br><b> Variables qualitatives :</b> \n",
    "<br> assur_caravane (cible) \n",
    "<br> type_client\n",
    "<br> mt_auto\n",
    "<br> pouvoir_achat\n",
    "<br> mt_incendie\n",
    "<br> niv_etud_bas\n",
    "<br> niv_etude_haut\n",
    "<br> revenu_moyen\n",
    "<br> mt_RC \n",
    "<br> locataire\n",
    "<br> proprietaire\n",
    "<br> auto0\n",
    "<br> auto1 \n",
    "<br> revenu1\n",
    "<br> revenu2 \n",
    "<br> revenu3\n",
    "<br> revenu4 \n",
    "<br> marie\n",
    "<br> autre_relation\n",
    "<br> assur_sante_prive\n",
    "<br> assur_sante_public\n",
    "<br> mt_RC_entreprise\n",
    "<br> mt_camion_livraison\n",
    "<br> mt_remorque\n",
    "<br><b> Variables quantitatives:</b>\n",
    "<br> nbmaisons \n",
    "<br> nbpers_au_foyer\n",
    "<br> nb_auto\n",
    "<br> nb_incendie\n",
    "<br> nb_RC_entreprise\n",
    "<br> nb_camion_livraison\n",
    "<br> nb_remorque\n"
   ]
  },
  {
   "cell_type": "markdown",
   "id": "fc64f020",
   "metadata": {},
   "source": [
    "# 3. Etude univariée"
   ]
  },
  {
   "cell_type": "code",
   "execution_count": 5,
   "id": "5810a78c",
   "metadata": {},
   "outputs": [],
   "source": [
    "def analyse_quali(var):\n",
    "    plt.figure( figsize = (5,5))\n",
    "    tab = data[var].value_counts()\n",
    "    plt.bar(tab.index,tab,width=0.5, color = \"orange\", ec = 'black')\n",
    "    plt.title('Distribution des '+var)\n",
    "    plt.xlabel(var)\n",
    "    plt.ylabel('Fréquences')\n",
    "    plt.show()\n",
    "    print(data[var].describe())\n",
    "    from scipy import stats\n",
    "    stats.mode(data[var])\n",
    "    print('\\n')\n",
    "    print(data[var].value_counts())\n",
    "\n",
    "def analyse_quanti(var):\n",
    "    plt.figure( figsize = (5,5))\n",
    "    plt.hist(data[var],color = \"yellow\", ec = 'green', alpha = 0.5 )\n",
    "    plt.title('Distribution des '+var)\n",
    "    plt.xlabel(var)\n",
    "    plt.ylabel('Fréquences')\n",
    "    plt.show()\n",
    "    plt.figure( figsize = (5,5))\n",
    "    plt.boxplot(data[var])\n",
    "    plt.title('Boxplot de '+var)\n",
    "    plt.show()\n",
    "    print(data[var].describe())\n",
    "    from scipy import stats\n",
    "    stats.mode(data[var])\n",
    "    print('\\n')\n",
    "    print(data[var].value_counts())"
   ]
  },
  {
   "cell_type": "code",
   "execution_count": 6,
   "id": "8cfe96c1",
   "metadata": {},
   "outputs": [
    {
     "data": {
      "image/png": "[encoded data removed]",
      "text/plain": [
       "<Figure size 360x360 with 1 Axes>"
      ]
     },
     "metadata": {
      "needs_background": "light"
     },
     "output_type": "display_data"
    },
    {
     "name": "stdout",
     "output_type": "stream",
     "text": [
      "count    4657.000000\n",
      "mean        0.059266\n",
      "std         0.236147\n",
      "min         0.000000\n",
      "25%         0.000000\n",
      "50%         0.000000\n",
      "75%         0.000000\n",
      "max         1.000000\n",
      "Name: assur_caravane, dtype: float64\n",
      "\n",
      "\n",
      "0    4381\n",
      "1     276\n",
      "Name: assur_caravane, dtype: int64\n"
     ]
    }
   ],
   "source": [
    "# variable assur_caravane\n",
    "analyse_quali('assur_caravane')"
   ]
  },
  {
   "cell_type": "markdown",
   "id": "2696c583",
   "metadata": {},
   "source": [
    "On la garde."
   ]
  },
  {
   "cell_type": "code",
   "execution_count": 7,
   "id": "5dbcaf0f",
   "metadata": {},
   "outputs": [
    {
     "data": {
      "image/png": "[encoded data removed]",
      "text/plain": [
       "<Figure size 360x360 with 1 Axes>"
      ]
     },
     "metadata": {
      "needs_background": "light"
     },
     "output_type": "display_data"
    },
    {
     "data": {
      "image/png": "[encoded data removed]",
      "text/plain": [
       "<Figure size 360x360 with 1 Axes>"
      ]
     },
     "metadata": {
      "needs_background": "light"
     },
     "output_type": "display_data"
    },
    {
     "name": "stdout",
     "output_type": "stream",
     "text": [
      "count    4657.000000\n",
      "mean        1.109727\n",
      "std         0.404265\n",
      "min         1.000000\n",
      "25%         1.000000\n",
      "50%         1.000000\n",
      "75%         1.000000\n",
      "max        10.000000\n",
      "Name: nbmaisons, dtype: float64\n",
      "\n",
      "\n",
      "1     4215\n",
      "2      404\n",
      "3       29\n",
      "7        3\n",
      "4        2\n",
      "8        1\n",
      "5        1\n",
      "6        1\n",
      "10       1\n",
      "Name: nbmaisons, dtype: int64\n"
     ]
    }
   ],
   "source": [
    "# variable nbmaisons\n",
    "analyse_quanti('nbmaisons')"
   ]
  },
  {
   "cell_type": "markdown",
   "id": "baf11714",
   "metadata": {},
   "source": [
    "Nombre de maison égal à 1 fait une grande partie dans ensemble. Donc on divise en 2 groupes, un groupe des propriétaires possèdent une maison et l'autre groupe ce qui possèdent plus que 1. \n",
    "<br> On garde et modifie après. groupe 1 et les autres dans group 2. (facile)"
   ]
  },
  {
   "cell_type": "code",
   "execution_count": 8,
   "id": "bd1f2c09",
   "metadata": {},
   "outputs": [
    {
     "data": {
      "image/png": "[encoded data removed]",
      "text/plain": [
       "<Figure size 360x360 with 1 Axes>"
      ]
     },
     "metadata": {
      "needs_background": "light"
     },
     "output_type": "display_data"
    },
    {
     "name": "stdout",
     "output_type": "stream",
     "text": [
      "count    4657.000000\n",
      "mean        4.238136\n",
      "std         1.998867\n",
      "min         1.000000\n",
      "25%         3.000000\n",
      "50%         4.000000\n",
      "75%         6.000000\n",
      "max         8.000000\n",
      "Name: pouvoir_achat, dtype: float64\n",
      "\n",
      "\n",
      "3    1206\n",
      "6     734\n",
      "4     728\n",
      "5     474\n",
      "1     470\n",
      "7     381\n",
      "2     336\n",
      "8     328\n",
      "Name: pouvoir_achat, dtype: int64\n"
     ]
    }
   ],
   "source": [
    "# variable pouvoir_achat\n",
    "analyse_quali('pouvoir_achat')"
   ]
  },
  {
   "cell_type": "markdown",
   "id": "9b5a44ed",
   "metadata": {},
   "source": [
    "On la garde."
   ]
  },
  {
   "cell_type": "code",
   "execution_count": 9,
   "id": "a6365aa7",
   "metadata": {},
   "outputs": [
    {
     "data": {
      "image/png": "[encoded data removed]",
      "text/plain": [
       "<Figure size 360x360 with 1 Axes>"
      ]
     },
     "metadata": {
      "needs_background": "light"
     },
     "output_type": "display_data"
    },
    {
     "data": {
      "image/png": "[encoded data removed]",
      "text/plain": [
       "<Figure size 360x360 with 1 Axes>"
      ]
     },
     "metadata": {
      "needs_background": "light"
     },
     "output_type": "display_data"
    },
    {
     "name": "stdout",
     "output_type": "stream",
     "text": [
      "count    4657.000000\n",
      "mean        2.681340\n",
      "std         0.790448\n",
      "min         1.000000\n",
      "25%         2.000000\n",
      "50%         3.000000\n",
      "75%         3.000000\n",
      "max         5.000000\n",
      "Name: nbpers_au_foyer, dtype: float64\n",
      "\n",
      "\n",
      "3    2130\n",
      "2    1692\n",
      "4     550\n",
      "1     228\n",
      "5      57\n",
      "Name: nbpers_au_foyer, dtype: int64\n"
     ]
    }
   ],
   "source": [
    "# variable nbpers_au_foyer\n",
    "analyse_quanti('nbpers_au_foyer')"
   ]
  },
  {
   "cell_type": "markdown",
   "id": "11522f49",
   "metadata": {},
   "source": [
    "On garde et modifie (facile). groupe 1, groupe 2, groupe 3 et 5 dans group 4."
   ]
  },
  {
   "cell_type": "code",
   "execution_count": 10,
   "id": "fef97f77",
   "metadata": {},
   "outputs": [
    {
     "data": {
      "image/png": "[encoded data removed]",
      "text/plain": [
       "<Figure size 360x360 with 1 Axes>"
      ]
     },
     "metadata": {
      "needs_background": "light"
     },
     "output_type": "display_data"
    },
    {
     "name": "stdout",
     "output_type": "stream",
     "text": [
      "count    4657.000000\n",
      "mean        5.767662\n",
      "std         2.866541\n",
      "min         1.000000\n",
      "25%         3.000000\n",
      "50%         7.000000\n",
      "75%         8.000000\n",
      "max        10.000000\n",
      "Name: type_client, dtype: float64\n",
      "\n",
      "\n",
      "8     1255\n",
      "3      699\n",
      "9      535\n",
      "1      458\n",
      "7      448\n",
      "5      446\n",
      "2      401\n",
      "10     217\n",
      "6      160\n",
      "4       38\n",
      "Name: type_client, dtype: int64\n"
     ]
    }
   ],
   "source": [
    "# variable type_client\n",
    "analyse_quali('type_client')"
   ]
  },
  {
   "cell_type": "markdown",
   "id": "a08faf5e",
   "metadata": {},
   "source": [
    "On la garde et modifie (difficile). On ne sait pas le groupe 4 et 6 dans quels groupes."
   ]
  },
  {
   "cell_type": "code",
   "execution_count": 11,
   "id": "396f98bc",
   "metadata": {},
   "outputs": [
    {
     "data": {
      "image/png": "[encoded data removed]",
      "text/plain": [
       "<Figure size 360x360 with 1 Axes>"
      ]
     },
     "metadata": {
      "needs_background": "light"
     },
     "output_type": "display_data"
    },
    {
     "name": "stdout",
     "output_type": "stream",
     "text": [
      "count    4657.000000\n",
      "mean        2.986043\n",
      "std         2.920337\n",
      "min         0.000000\n",
      "25%         0.000000\n",
      "50%         5.000000\n",
      "75%         6.000000\n",
      "max         8.000000\n",
      "Name: mt_auto, dtype: float64\n",
      "\n",
      "\n",
      "0    2263\n",
      "6    1862\n",
      "5     495\n",
      "7      33\n",
      "8       3\n",
      "4       1\n",
      "Name: mt_auto, dtype: int64\n"
     ]
    }
   ],
   "source": [
    "# variable mt_auto\n",
    "analyse_quali('mt_auto')"
   ]
  },
  {
   "cell_type": "markdown",
   "id": "06c0071d",
   "metadata": {},
   "source": [
    "On garde et modifie (facile). On met 4 dans groupe 5 et 7,8 dans groupe 6."
   ]
  },
  {
   "cell_type": "code",
   "execution_count": 12,
   "id": "bf484496",
   "metadata": {},
   "outputs": [
    {
     "data": {
      "image/png": "[encoded data removed]",
      "text/plain": [
       "<Figure size 360x360 with 1 Axes>"
      ]
     },
     "metadata": {
      "needs_background": "light"
     },
     "output_type": "display_data"
    },
    {
     "data": {
      "image/png": "[encoded data removed]",
      "text/plain": [
       "<Figure size 360x360 with 1 Axes>"
      ]
     },
     "metadata": {
      "needs_background": "light"
     },
     "output_type": "display_data"
    },
    {
     "name": "stdout",
     "output_type": "stream",
     "text": [
      "count    4657.000000\n",
      "mean        0.567747\n",
      "std         0.610770\n",
      "min         0.000000\n",
      "25%         0.000000\n",
      "50%         1.000000\n",
      "75%         1.000000\n",
      "max         7.000000\n",
      "Name: nb_auto, dtype: float64\n",
      "\n",
      "\n",
      "0    2263\n",
      "1    2171\n",
      "2     207\n",
      "3      10\n",
      "4       4\n",
      "6       1\n",
      "7       1\n",
      "Name: nb_auto, dtype: int64\n"
     ]
    }
   ],
   "source": [
    "# variable nb_auto\n",
    "analyse_quanti('nb_auto')"
   ]
  },
  {
   "cell_type": "markdown",
   "id": "3a87c19b",
   "metadata": {},
   "source": [
    "On garde et modifie (facile). On divise en 3 groupes. Groupe 0, group 1 et les autres dans groupe 2."
   ]
  },
  {
   "cell_type": "code",
   "execution_count": 13,
   "id": "ecfba79b",
   "metadata": {},
   "outputs": [
    {
     "data": {
      "image/png": "[encoded data removed]",
      "text/plain": [
       "<Figure size 360x360 with 1 Axes>"
      ]
     },
     "metadata": {
      "needs_background": "light"
     },
     "output_type": "display_data"
    },
    {
     "name": "stdout",
     "output_type": "stream",
     "text": [
      "count    4657.000000\n",
      "mean        1.827142\n",
      "std         1.885230\n",
      "min         0.000000\n",
      "25%         0.000000\n",
      "50%         2.000000\n",
      "75%         4.000000\n",
      "max         8.000000\n",
      "Name: mt_incendie, dtype: float64\n",
      "\n",
      "\n",
      "0    2142\n",
      "4     985\n",
      "3     734\n",
      "2     416\n",
      "6     130\n",
      "1     128\n",
      "5     114\n",
      "7       7\n",
      "8       1\n",
      "Name: mt_incendie, dtype: int64\n"
     ]
    }
   ],
   "source": [
    "# variable mt_incendie\n",
    "analyse_quali('mt_incendie')"
   ]
  },
  {
   "cell_type": "markdown",
   "id": "e29d01ae",
   "metadata": {},
   "source": [
    "On garde et modifie (difficle).On met 6,7,8 dans 5. On ne sais pas décider avec le groupe 1 dans 0 ou 2."
   ]
  },
  {
   "cell_type": "code",
   "execution_count": 14,
   "id": "53ac4820",
   "metadata": {},
   "outputs": [
    {
     "data": {
      "image/png": "[encoded data removed]",
      "text/plain": [
       "<Figure size 360x360 with 1 Axes>"
      ]
     },
     "metadata": {
      "needs_background": "light"
     },
     "output_type": "display_data"
    },
    {
     "data": {
      "image/png": "[encoded data removed]",
      "text/plain": [
       "<Figure size 360x360 with 1 Axes>"
      ]
     },
     "metadata": {
      "needs_background": "light"
     },
     "output_type": "display_data"
    },
    {
     "name": "stdout",
     "output_type": "stream",
     "text": [
      "count    4657.000000\n",
      "mean        0.568392\n",
      "std         0.557761\n",
      "min         0.000000\n",
      "25%         0.000000\n",
      "50%         1.000000\n",
      "75%         1.000000\n",
      "max         5.000000\n",
      "Name: nb_incendie, dtype: float64\n",
      "\n",
      "\n",
      "1    2397\n",
      "0    2142\n",
      "2     109\n",
      "3       6\n",
      "5       2\n",
      "4       1\n",
      "Name: nb_incendie, dtype: int64\n"
     ]
    }
   ],
   "source": [
    "# variable nb_incendie\n",
    "analyse_quanti('nb_incendie')"
   ]
  },
  {
   "cell_type": "markdown",
   "id": "54280076",
   "metadata": {},
   "source": [
    "On garde et modifie (facile). group 0 et les autres dans group 1."
   ]
  },
  {
   "cell_type": "code",
   "execution_count": 15,
   "id": "79290789",
   "metadata": {},
   "outputs": [
    {
     "data": {
      "image/png": "[encoded data removed]",
      "text/plain": [
       "<Figure size 360x360 with 1 Axes>"
      ]
     },
     "metadata": {
      "needs_background": "light"
     },
     "output_type": "display_data"
    },
    {
     "name": "stdout",
     "output_type": "stream",
     "text": [
      "count    4657.000000\n",
      "mean        4.593300\n",
      "std         2.298948\n",
      "min         0.000000\n",
      "25%         3.000000\n",
      "50%         5.000000\n",
      "75%         6.000000\n",
      "max         9.000000\n",
      "Name: niv_etud_bas, dtype: float64\n",
      "\n",
      "\n",
      "5    809\n",
      "6    689\n",
      "4    681\n",
      "2    543\n",
      "3    527\n",
      "7    509\n",
      "9    264\n",
      "0    230\n",
      "8    211\n",
      "1    194\n",
      "Name: niv_etud_bas, dtype: int64\n"
     ]
    }
   ],
   "source": [
    "# variable niv_etud_bas\n",
    "analyse_quali('niv_etud_bas')"
   ]
  },
  {
   "cell_type": "markdown",
   "id": "c4132e34",
   "metadata": {},
   "source": [
    "On la garde."
   ]
  },
  {
   "cell_type": "code",
   "execution_count": 16,
   "id": "a6da5464",
   "metadata": {},
   "outputs": [
    {
     "data": {
      "image/png": "[encoded data removed]",
      "text/plain": [
       "<Figure size 360x360 with 1 Axes>"
      ]
     },
     "metadata": {
      "needs_background": "light"
     },
     "output_type": "display_data"
    },
    {
     "name": "stdout",
     "output_type": "stream",
     "text": [
      "count    4657.000000\n",
      "mean        1.452652\n",
      "std         1.621233\n",
      "min         0.000000\n",
      "25%         0.000000\n",
      "50%         1.000000\n",
      "75%         2.000000\n",
      "max         9.000000\n",
      "Name: niv_etude_haut, dtype: float64\n",
      "\n",
      "\n",
      "0    1737\n",
      "1    1052\n",
      "2     900\n",
      "3     437\n",
      "4     266\n",
      "5     146\n",
      "6      54\n",
      "7      41\n",
      "8      19\n",
      "9       5\n",
      "Name: niv_etude_haut, dtype: int64\n"
     ]
    }
   ],
   "source": [
    "# variable niv_etude_haut\n",
    "analyse_quali('niv_etude_haut')"
   ]
  },
  {
   "cell_type": "markdown",
   "id": "6e43997f",
   "metadata": {},
   "source": [
    "On garde et modifie (facile). groupe 0,1,2,3,4 et les autres dans groupe 5."
   ]
  },
  {
   "cell_type": "code",
   "execution_count": 17,
   "id": "ee721f49",
   "metadata": {},
   "outputs": [
    {
     "data": {
      "image/png": "[encoded data removed]",
      "text/plain": [
       "<Figure size 360x360 with 1 Axes>"
      ]
     },
     "metadata": {
      "needs_background": "light"
     },
     "output_type": "display_data"
    },
    {
     "name": "stdout",
     "output_type": "stream",
     "text": [
      "count    4657.000000\n",
      "mean        3.782478\n",
      "std         1.318701\n",
      "min         0.000000\n",
      "25%         3.000000\n",
      "50%         4.000000\n",
      "75%         4.000000\n",
      "max         9.000000\n",
      "Name: revenu_moyen, dtype: float64\n",
      "\n",
      "\n",
      "3    1553\n",
      "4    1471\n",
      "5     583\n",
      "2     525\n",
      "6     291\n",
      "7     102\n",
      "8      57\n",
      "1      38\n",
      "0      20\n",
      "9      17\n",
      "Name: revenu_moyen, dtype: int64\n"
     ]
    }
   ],
   "source": [
    "# variable revenu_moyen\n",
    "analyse_quali('revenu_moyen')"
   ]
  },
  {
   "cell_type": "markdown",
   "id": "51dce22d",
   "metadata": {},
   "source": [
    "On garde et modifie (facile). 0, 1 dans groupe 2, groupe 3, groupe 4, groupe 5 et 7,8,9 dans groupe 6."
   ]
  },
  {
   "cell_type": "code",
   "execution_count": 18,
   "id": "bd22188e",
   "metadata": {},
   "outputs": [
    {
     "data": {
      "image/png": "[encoded data removed]",
      "text/plain": [
       "<Figure size 360x360 with 1 Axes>"
      ]
     },
     "metadata": {
      "needs_background": "light"
     },
     "output_type": "display_data"
    },
    {
     "name": "stdout",
     "output_type": "stream",
     "text": [
      "count    4657.000000\n",
      "mean        0.763582\n",
      "std         0.957730\n",
      "min         0.000000\n",
      "25%         0.000000\n",
      "50%         0.000000\n",
      "75%         2.000000\n",
      "max         3.000000\n",
      "Name: mt_RC, dtype: float64\n",
      "\n",
      "\n",
      "0    2807\n",
      "2    1688\n",
      "1     153\n",
      "3       9\n",
      "Name: mt_RC, dtype: int64\n"
     ]
    }
   ],
   "source": [
    "# variable mt_RC\n",
    "analyse_quali('mt_RC')"
   ]
  },
  {
   "cell_type": "markdown",
   "id": "3ba5a147",
   "metadata": {},
   "source": [
    "On garde et modifie (difficile). On met groupe 3 dans groupes 2. On ne sais pas décider avec le groupe 1 dans groupe 0 ou 2."
   ]
  },
  {
   "cell_type": "code",
   "execution_count": 19,
   "id": "ebe360eb",
   "metadata": {},
   "outputs": [
    {
     "data": {
      "image/png": "[encoded data removed]",
      "text/plain": [
       "<Figure size 360x360 with 1 Axes>"
      ]
     },
     "metadata": {
      "needs_background": "light"
     },
     "output_type": "display_data"
    },
    {
     "data": {
      "image/png": "[encoded data removed]",
      "text/plain": [
       "<Figure size 360x360 with 1 Axes>"
      ]
     },
     "metadata": {
      "needs_background": "light"
     },
     "output_type": "display_data"
    },
    {
     "name": "stdout",
     "output_type": "stream",
     "text": [
      "count    4657.000000\n",
      "mean        0.398110\n",
      "std         0.491313\n",
      "min         0.000000\n",
      "25%         0.000000\n",
      "50%         0.000000\n",
      "75%         1.000000\n",
      "max         2.000000\n",
      "Name: nb_RC, dtype: float64\n",
      "\n",
      "\n",
      "0    2807\n",
      "1    1846\n",
      "2       4\n",
      "Name: nb_RC, dtype: int64\n"
     ]
    }
   ],
   "source": [
    "# variable nb_RC\n",
    "analyse_quanti('nb_RC')"
   ]
  },
  {
   "cell_type": "markdown",
   "id": "9d5e9252",
   "metadata": {},
   "source": [
    "On garde et modifie (facile). Groupe 0 et 2 dans groupe 1."
   ]
  },
  {
   "cell_type": "code",
   "execution_count": 20,
   "id": "1b4db06a",
   "metadata": {},
   "outputs": [
    {
     "data": {
      "image/png": "[encoded data removed]",
      "text/plain": [
       "<Figure size 360x360 with 1 Axes>"
      ]
     },
     "metadata": {
      "needs_background": "light"
     },
     "output_type": "display_data"
    },
    {
     "name": "stdout",
     "output_type": "stream",
     "text": [
      "count    4657.000000\n",
      "mean        4.244363\n",
      "std         3.092292\n",
      "min         0.000000\n",
      "25%         2.000000\n",
      "50%         4.000000\n",
      "75%         7.000000\n",
      "max         9.000000\n",
      "Name: locataire, dtype: float64\n",
      "\n",
      "\n",
      "0    758\n",
      "9    621\n",
      "2    573\n",
      "3    473\n",
      "4    437\n",
      "8    413\n",
      "5    398\n",
      "7    351\n",
      "1    337\n",
      "6    296\n",
      "Name: locataire, dtype: int64\n"
     ]
    }
   ],
   "source": [
    "# variable locataire\n",
    "analyse_quali('locataire')"
   ]
  },
  {
   "cell_type": "markdown",
   "id": "46ca9253",
   "metadata": {},
   "source": [
    "On la garde."
   ]
  },
  {
   "cell_type": "code",
   "execution_count": 21,
   "id": "0ba26e30",
   "metadata": {},
   "outputs": [
    {
     "data": {
      "image/png": "[encoded data removed]",
      "text/plain": [
       "<Figure size 360x360 with 1 Axes>"
      ]
     },
     "metadata": {
      "needs_background": "light"
     },
     "output_type": "display_data"
    },
    {
     "name": "stdout",
     "output_type": "stream",
     "text": [
      "count    4657.000000\n",
      "mean        4.764011\n",
      "std         3.093324\n",
      "min         0.000000\n",
      "25%         2.000000\n",
      "50%         5.000000\n",
      "75%         7.000000\n",
      "max         9.000000\n",
      "Name: proprietaire, dtype: float64\n",
      "\n",
      "\n",
      "9    758\n",
      "0    621\n",
      "7    578\n",
      "6    486\n",
      "5    433\n",
      "1    413\n",
      "4    385\n",
      "2    350\n",
      "8    337\n",
      "3    296\n",
      "Name: proprietaire, dtype: int64\n"
     ]
    }
   ],
   "source": [
    "# variable proprietaire\n",
    "analyse_quali('proprietaire')"
   ]
  },
  {
   "cell_type": "markdown",
   "id": "37317279",
   "metadata": {},
   "source": [
    "On la garde."
   ]
  },
  {
   "cell_type": "code",
   "execution_count": 22,
   "id": "29e1ce42",
   "metadata": {},
   "outputs": [
    {
     "data": {
      "image/png": "[encoded data removed]",
      "text/plain": [
       "<Figure size 360x360 with 1 Axes>"
      ]
     },
     "metadata": {
      "needs_background": "light"
     },
     "output_type": "display_data"
    },
    {
     "name": "stdout",
     "output_type": "stream",
     "text": [
      "count    4657.000000\n",
      "mean        1.965214\n",
      "std         1.602080\n",
      "min         0.000000\n",
      "25%         1.000000\n",
      "50%         2.000000\n",
      "75%         3.000000\n",
      "max         9.000000\n",
      "Name: auto0, dtype: float64\n",
      "\n",
      "\n",
      "2    1330\n",
      "0    1151\n",
      "3     840\n",
      "1     610\n",
      "4     476\n",
      "5     130\n",
      "6      74\n",
      "7      20\n",
      "9      16\n",
      "8      10\n",
      "Name: auto0, dtype: int64\n"
     ]
    }
   ],
   "source": [
    "# variable auto0\n",
    "analyse_quali('auto0')"
   ]
  },
  {
   "cell_type": "markdown",
   "id": "b8028cef",
   "metadata": {},
   "source": [
    "On garde et modifie (facile). Groupe 0, groupe 1, groupe 2, groupe 3, groupe 4 et 6,7,8,9 dans groupe 5."
   ]
  },
  {
   "cell_type": "code",
   "execution_count": 23,
   "id": "98417e0b",
   "metadata": {},
   "outputs": [
    {
     "data": {
      "image/png": "[encoded data removed]",
      "text/plain": [
       "<Figure size 360x360 with 1 Axes>"
      ]
     },
     "metadata": {
      "needs_background": "light"
     },
     "output_type": "display_data"
    },
    {
     "name": "stdout",
     "output_type": "stream",
     "text": [
      "count    4657.000000\n",
      "mean        6.038651\n",
      "std         1.546046\n",
      "min         0.000000\n",
      "25%         5.000000\n",
      "50%         6.000000\n",
      "75%         7.000000\n",
      "max         9.000000\n",
      "Name: auto1, dtype: float64\n",
      "\n",
      "\n",
      "6    1331\n",
      "7    1154\n",
      "5     966\n",
      "9     395\n",
      "4     357\n",
      "8     200\n",
      "3     183\n",
      "2      43\n",
      "0      18\n",
      "1      10\n",
      "Name: auto1, dtype: int64\n"
     ]
    }
   ],
   "source": [
    "# variable auto1\n",
    "analyse_quali('auto1')"
   ]
  },
  {
   "cell_type": "markdown",
   "id": "6316de9b",
   "metadata": {},
   "source": [
    "On garde et modifie (facile). 0,1,2 dans groupe 3, group 4, groupe 5, groupe 6, groupe 7, group 8, groupe 9"
   ]
  },
  {
   "cell_type": "code",
   "execution_count": 24,
   "id": "53b3cf65",
   "metadata": {},
   "outputs": [
    {
     "data": {
      "image/png": "[encoded data removed]",
      "text/plain": [
       "<Figure size 360x360 with 1 Axes>"
      ]
     },
     "metadata": {
      "needs_background": "light"
     },
     "output_type": "display_data"
    },
    {
     "name": "stdout",
     "output_type": "stream",
     "text": [
      "count    4657.000000\n",
      "mean        2.573116\n",
      "std         2.079465\n",
      "min         0.000000\n",
      "25%         1.000000\n",
      "50%         2.000000\n",
      "75%         4.000000\n",
      "max         9.000000\n",
      "Name: revenu1, dtype: float64\n",
      "\n",
      "\n",
      "0    1045\n",
      "2     882\n",
      "3     878\n",
      "1     487\n",
      "4     480\n",
      "5     451\n",
      "6     235\n",
      "7     121\n",
      "9      42\n",
      "8      36\n",
      "Name: revenu1, dtype: int64\n"
     ]
    }
   ],
   "source": [
    "# variable revenu1\n",
    "analyse_quali('revenu1')"
   ]
  },
  {
   "cell_type": "markdown",
   "id": "e279c6c6",
   "metadata": {},
   "source": [
    "On garde et modifier (facile). groupe 0, group 1, groupe 2, groupe 3, groupe 4, group 5, et 7,8,9 dans groupe 6."
   ]
  },
  {
   "cell_type": "code",
   "execution_count": 25,
   "id": "4320f765",
   "metadata": {},
   "outputs": [
    {
     "data": {
      "image/png": "[encoded data removed]",
      "text/plain": [
       "<Figure size 360x360 with 1 Axes>"
      ]
     },
     "metadata": {
      "needs_background": "light"
     },
     "output_type": "display_data"
    },
    {
     "name": "stdout",
     "output_type": "stream",
     "text": [
      "count    4657.000000\n",
      "mean        3.545630\n",
      "std         1.882534\n",
      "min         0.000000\n",
      "25%         2.000000\n",
      "50%         4.000000\n",
      "75%         5.000000\n",
      "max         9.000000\n",
      "Name: revenu2, dtype: float64\n",
      "\n",
      "\n",
      "4    1086\n",
      "3     923\n",
      "5     751\n",
      "2     731\n",
      "0     370\n",
      "6     330\n",
      "1     207\n",
      "7     155\n",
      "9      78\n",
      "8      26\n",
      "Name: revenu2, dtype: int64\n"
     ]
    }
   ],
   "source": [
    "# variable revenu2\n",
    "analyse_quali('revenu2')"
   ]
  },
  {
   "cell_type": "markdown",
   "id": "21fc6ea2",
   "metadata": {},
   "source": [
    "On garde mais on va modifier (facile).groupe 0, group 1, groupe 2, groupe 3, groupe 4, group 5, groupe 6 et 8,9 dans groupe 7."
   ]
  },
  {
   "cell_type": "code",
   "execution_count": 26,
   "id": "45d96654",
   "metadata": {},
   "outputs": [
    {
     "data": {
      "image/png": "[encoded data removed]",
      "text/plain": [
       "<Figure size 360x360 with 1 Axes>"
      ]
     },
     "metadata": {
      "needs_background": "light"
     },
     "output_type": "display_data"
    },
    {
     "name": "stdout",
     "output_type": "stream",
     "text": [
      "count    4657.000000\n",
      "mean        2.719991\n",
      "std         1.918489\n",
      "min         0.000000\n",
      "25%         1.000000\n",
      "50%         3.000000\n",
      "75%         4.000000\n",
      "max         9.000000\n",
      "Name: revenu3, dtype: float64\n",
      "\n",
      "\n",
      "3    981\n",
      "2    935\n",
      "4    815\n",
      "0    722\n",
      "1    518\n",
      "5    402\n",
      "6     97\n",
      "7     79\n",
      "9     67\n",
      "8     41\n",
      "Name: revenu3, dtype: int64\n"
     ]
    }
   ],
   "source": [
    "# variable revenu3\n",
    "analyse_quali('revenu3')"
   ]
  },
  {
   "cell_type": "markdown",
   "id": "8e3c6af1",
   "metadata": {},
   "source": [
    "On garde mais on va modifier (facile). Groupe 0, group 1, groupe 2, groupe 3, groupe 4, group 5 et 7,8,9 dans groupe 6."
   ]
  },
  {
   "cell_type": "code",
   "execution_count": 27,
   "id": "2414a883",
   "metadata": {},
   "outputs": [
    {
     "data": {
      "image/png": "[encoded data removed]",
      "text/plain": [
       "<Figure size 360x360 with 1 Axes>"
      ]
     },
     "metadata": {
      "needs_background": "light"
     },
     "output_type": "display_data"
    },
    {
     "name": "stdout",
     "output_type": "stream",
     "text": [
      "count    4657.000000\n",
      "mean        0.794288\n",
      "std         1.150501\n",
      "min         0.000000\n",
      "25%         0.000000\n",
      "50%         0.000000\n",
      "75%         1.000000\n",
      "max         9.000000\n",
      "Name: revenu4, dtype: float64\n",
      "\n",
      "\n",
      "0    2592\n",
      "1    1085\n",
      "2     596\n",
      "3     204\n",
      "4     115\n",
      "5      55\n",
      "9       4\n",
      "6       4\n",
      "8       1\n",
      "7       1\n",
      "Name: revenu4, dtype: int64\n"
     ]
    }
   ],
   "source": [
    "# variable revenu4\n",
    "analyse_quali('revenu4')"
   ]
  },
  {
   "cell_type": "markdown",
   "id": "b005fc0c",
   "metadata": {},
   "source": [
    "On garde mais on va modifier (facile). Groupe 0, group 1, groupe 2 et 4,5,6,7,8,9 dans groupe 3."
   ]
  },
  {
   "cell_type": "code",
   "execution_count": 28,
   "id": "83046267",
   "metadata": {},
   "outputs": [
    {
     "data": {
      "image/png": "[encoded data removed]",
      "text/plain": [
       "<Figure size 360x360 with 1 Axes>"
      ]
     },
     "metadata": {
      "needs_background": "light"
     },
     "output_type": "display_data"
    },
    {
     "name": "stdout",
     "output_type": "stream",
     "text": [
      "count    4657.000000\n",
      "mean        6.194546\n",
      "std         1.911697\n",
      "min         0.000000\n",
      "25%         5.000000\n",
      "50%         6.000000\n",
      "75%         7.000000\n",
      "max         9.000000\n",
      "Name: marie, dtype: float64\n",
      "\n",
      "\n",
      "7    1364\n",
      "6     952\n",
      "5     736\n",
      "9     647\n",
      "8     273\n",
      "4     250\n",
      "3     196\n",
      "2     126\n",
      "1      61\n",
      "0      52\n",
      "Name: marie, dtype: int64\n"
     ]
    }
   ],
   "source": [
    "# variable marie\n",
    "analyse_quali('marie')"
   ]
  },
  {
   "cell_type": "markdown",
   "id": "2f41efc1",
   "metadata": {},
   "source": [
    "On garde mais on va modifier (facile). 0,1,2 dans groupe 3 et groupe 4, group 5, groupe 6, groupe 7, groupe 8, group 9."
   ]
  },
  {
   "cell_type": "code",
   "execution_count": 29,
   "id": "51e74a3b",
   "metadata": {},
   "outputs": [
    {
     "data": {
      "image/png": "[encoded data removed]",
      "text/plain": [
       "<Figure size 360x360 with 1 Axes>"
      ]
     },
     "metadata": {
      "needs_background": "light"
     },
     "output_type": "display_data"
    },
    {
     "name": "stdout",
     "output_type": "stream",
     "text": [
      "count    4657.000000\n",
      "mean        2.283874\n",
      "std         1.730359\n",
      "min         0.000000\n",
      "25%         1.000000\n",
      "50%         2.000000\n",
      "75%         3.000000\n",
      "max         9.000000\n",
      "Name: autre_relation, dtype: float64\n",
      "\n",
      "\n",
      "2    1442\n",
      "0     952\n",
      "3     898\n",
      "4     510\n",
      "1     411\n",
      "5     204\n",
      "6     152\n",
      "7      50\n",
      "9      21\n",
      "8      17\n",
      "Name: autre_relation, dtype: int64\n"
     ]
    }
   ],
   "source": [
    "# variable autre_relation\n",
    "analyse_quali('autre_relation')"
   ]
  },
  {
   "cell_type": "markdown",
   "id": "38c6fc8e",
   "metadata": {},
   "source": [
    "On garde mais on va modifier (facile). Groupe 0, group 1, groupe 2, groupe 3, groupe 4, groupe 5 et 7,8,9 dans groupe 6."
   ]
  },
  {
   "cell_type": "code",
   "execution_count": 30,
   "id": "ed025b80",
   "metadata": {},
   "outputs": [
    {
     "data": {
      "image/png": "[encoded data removed]",
      "text/plain": [
       "<Figure size 360x360 with 1 Axes>"
      ]
     },
     "metadata": {
      "needs_background": "light"
     },
     "output_type": "display_data"
    },
    {
     "name": "stdout",
     "output_type": "stream",
     "text": [
      "count    4657.000000\n",
      "mean        2.745974\n",
      "std         1.986990\n",
      "min         0.000000\n",
      "25%         1.000000\n",
      "50%         2.000000\n",
      "75%         4.000000\n",
      "max         9.000000\n",
      "Name: assur_sante_prive, dtype: float64\n",
      "\n",
      "\n",
      "2    1224\n",
      "4     808\n",
      "3     671\n",
      "0     670\n",
      "1     549\n",
      "5     283\n",
      "7     262\n",
      "6     134\n",
      "9      45\n",
      "8      11\n",
      "Name: assur_sante_prive, dtype: int64\n"
     ]
    }
   ],
   "source": [
    "# variable assur_sante_prive\n",
    "analyse_quali('assur_sante_prive')"
   ]
  },
  {
   "cell_type": "markdown",
   "id": "4b635ecb",
   "metadata": {},
   "source": [
    "On garde mais on va modifier (difficle). On ne sais pas mettre le groupe 6 dans quel groupe."
   ]
  },
  {
   "cell_type": "code",
   "execution_count": 31,
   "id": "1f168bca",
   "metadata": {},
   "outputs": [
    {
     "data": {
      "image/png": "[encoded data removed]",
      "text/plain": [
       "<Figure size 360x360 with 1 Axes>"
      ]
     },
     "metadata": {
      "needs_background": "light"
     },
     "output_type": "display_data"
    },
    {
     "name": "stdout",
     "output_type": "stream",
     "text": [
      "count    4657.000000\n",
      "mean        6.260468\n",
      "std         1.983992\n",
      "min         0.000000\n",
      "25%         5.000000\n",
      "50%         7.000000\n",
      "75%         8.000000\n",
      "max         9.000000\n",
      "Name: assur_sante_public, dtype: float64\n",
      "\n",
      "\n",
      "7    1224\n",
      "5     788\n",
      "6     696\n",
      "9     670\n",
      "8     549\n",
      "4     278\n",
      "2     262\n",
      "3     134\n",
      "0      45\n",
      "1      11\n",
      "Name: assur_sante_public, dtype: int64\n"
     ]
    }
   ],
   "source": [
    "# variable assur_sante_public\n",
    "analyse_quali('assur_sante_public')"
   ]
  },
  {
   "cell_type": "markdown",
   "id": "a31f47c1",
   "metadata": {},
   "source": [
    "On garde mais on va modifier (difficille). On ne sais pas mettre groupe 3 dans quel groupe"
   ]
  },
  {
   "cell_type": "code",
   "execution_count": 32,
   "id": "58814778",
   "metadata": {},
   "outputs": [
    {
     "data": {
      "image/png": "[encoded data removed]",
      "text/plain": [
       "<Figure size 360x360 with 1 Axes>"
      ]
     },
     "metadata": {
      "needs_background": "light"
     },
     "output_type": "display_data"
    },
    {
     "name": "stdout",
     "output_type": "stream",
     "text": [
      "count    4657.000000\n",
      "mean        0.038651\n",
      "std         0.359888\n",
      "min         0.000000\n",
      "25%         0.000000\n",
      "50%         0.000000\n",
      "75%         0.000000\n",
      "max         6.000000\n",
      "Name: mt_RC_entreprise, dtype: float64\n",
      "\n",
      "\n",
      "0    4594\n",
      "2      22\n",
      "3      19\n",
      "4      11\n",
      "1       6\n",
      "6       4\n",
      "5       1\n",
      "Name: mt_RC_entreprise, dtype: int64\n"
     ]
    }
   ],
   "source": [
    "# variable mt_RC_entreprise\n",
    "analyse_quali('mt_RC_entreprise')"
   ]
  },
  {
   "cell_type": "markdown",
   "id": "b7e46c51",
   "metadata": {},
   "source": [
    "La plupart des individus tombent dans le cas 0. Donc cette variable apporte aucune information. On la supprime."
   ]
  },
  {
   "cell_type": "code",
   "execution_count": 33,
   "id": "4a7f3b17",
   "metadata": {},
   "outputs": [
    {
     "data": {
      "image/png": "[encoded data removed]",
      "text/plain": [
       "<Figure size 360x360 with 1 Axes>"
      ]
     },
     "metadata": {
      "needs_background": "light"
     },
     "output_type": "display_data"
    },
    {
     "data": {
      "image/png": "[encoded data removed]",
      "text/plain": [
       "<Figure size 360x360 with 1 Axes>"
      ]
     },
     "metadata": {
      "needs_background": "light"
     },
     "output_type": "display_data"
    },
    {
     "name": "stdout",
     "output_type": "stream",
     "text": [
      "count    4657.000000\n",
      "mean        0.014387\n",
      "std         0.135936\n",
      "min         0.000000\n",
      "25%         0.000000\n",
      "50%         0.000000\n",
      "75%         0.000000\n",
      "max         5.000000\n",
      "Name: nb_RC_entreprise, dtype: float64\n",
      "\n",
      "\n",
      "0    4594\n",
      "1      62\n",
      "5       1\n",
      "Name: nb_RC_entreprise, dtype: int64\n"
     ]
    }
   ],
   "source": [
    "# variable nb_RC_entreprise\n",
    "analyse_quanti('nb_RC_entreprise')"
   ]
  },
  {
   "cell_type": "markdown",
   "id": "e5588d61",
   "metadata": {},
   "source": [
    "La plupart des individus tombent dans le cas 0. Donc cette variable apporte aucune information. On la supprime."
   ]
  },
  {
   "cell_type": "code",
   "execution_count": 34,
   "id": "09485659",
   "metadata": {},
   "outputs": [
    {
     "data": {
      "image/png": "[encoded data removed]",
      "text/plain": [
       "<Figure size 360x360 with 1 Axes>"
      ]
     },
     "metadata": {
      "needs_background": "light"
     },
     "output_type": "display_data"
    },
    {
     "name": "stdout",
     "output_type": "stream",
     "text": [
      "count    4657.000000\n",
      "mean        0.047885\n",
      "std         0.529686\n",
      "min         0.000000\n",
      "25%         0.000000\n",
      "50%         0.000000\n",
      "75%         0.000000\n",
      "max         7.000000\n",
      "Name: mt_camion_livraison, dtype: float64\n",
      "\n",
      "\n",
      "0    4619\n",
      "6      29\n",
      "5       7\n",
      "7       2\n",
      "Name: mt_camion_livraison, dtype: int64\n"
     ]
    }
   ],
   "source": [
    "# variable mt_camion_livraison\n",
    "analyse_quali('mt_camion_livraison')"
   ]
  },
  {
   "cell_type": "markdown",
   "id": "75183c9d",
   "metadata": {},
   "source": [
    "La plupart des individus tombent dans le cas 0. Donc cette variable apporte aucune information. On la supprime."
   ]
  },
  {
   "cell_type": "code",
   "execution_count": 35,
   "id": "1d25c186",
   "metadata": {},
   "outputs": [
    {
     "data": {
      "image/png": "[encoded data removed]",
      "text/plain": [
       "<Figure size 360x360 with 1 Axes>"
      ]
     },
     "metadata": {
      "needs_background": "light"
     },
     "output_type": "display_data"
    },
    {
     "data": {
      "image/png": "[encoded data removed]",
      "text/plain": [
       "<Figure size 360x360 with 1 Axes>"
      ]
     },
     "metadata": {
      "needs_background": "light"
     },
     "output_type": "display_data"
    },
    {
     "name": "stdout",
     "output_type": "stream",
     "text": [
      "count    4657.000000\n",
      "mean        0.010522\n",
      "std         0.131477\n",
      "min         0.000000\n",
      "25%         0.000000\n",
      "50%         0.000000\n",
      "75%         0.000000\n",
      "max         4.000000\n",
      "Name: nb_camion_livraison, dtype: float64\n",
      "\n",
      "\n",
      "0    4619\n",
      "1      31\n",
      "2       4\n",
      "3       2\n",
      "4       1\n",
      "Name: nb_camion_livraison, dtype: int64\n"
     ]
    }
   ],
   "source": [
    "# variable nb_camion_livraison\n",
    "analyse_quanti('nb_camion_livraison')"
   ]
  },
  {
   "cell_type": "markdown",
   "id": "2029f5b7",
   "metadata": {},
   "source": [
    "La plupart des individus tombent dans le cas 0. Donc cette variable apporte aucune information. On la supprime."
   ]
  },
  {
   "cell_type": "code",
   "execution_count": 36,
   "id": "fb68e786",
   "metadata": {},
   "outputs": [
    {
     "data": {
      "image/png": "[encoded data removed]",
      "text/plain": [
       "<Figure size 360x360 with 1 Axes>"
      ]
     },
     "metadata": {
      "needs_background": "light"
     },
     "output_type": "display_data"
    },
    {
     "data": {
      "image/png": "[encoded data removed]",
      "text/plain": [
       "<Figure size 360x360 with 1 Axes>"
      ]
     },
     "metadata": {
      "needs_background": "light"
     },
     "output_type": "display_data"
    },
    {
     "name": "stdout",
     "output_type": "stream",
     "text": [
      "count    4657.000000\n",
      "mean        0.012454\n",
      "std         0.128831\n",
      "min         0.000000\n",
      "25%         0.000000\n",
      "50%         0.000000\n",
      "75%         0.000000\n",
      "max         3.000000\n",
      "Name: nb_remorque, dtype: float64\n",
      "\n",
      "\n",
      "0    4607\n",
      "1      44\n",
      "2       4\n",
      "3       2\n",
      "Name: nb_remorque, dtype: int64\n"
     ]
    }
   ],
   "source": [
    "# variable nb_remorque\n",
    "analyse_quanti('nb_remorque')"
   ]
  },
  {
   "cell_type": "markdown",
   "id": "94748892",
   "metadata": {},
   "source": [
    "La plupart des individus tombent dans le cas 0. Donc cette variable apporte aucune information. On la supprime."
   ]
  },
  {
   "cell_type": "code",
   "execution_count": 37,
   "id": "46d71ebb",
   "metadata": {},
   "outputs": [
    {
     "data": {
      "image/png": "[encoded data removed]",
      "text/plain": [
       "<Figure size 360x360 with 1 Axes>"
      ]
     },
     "metadata": {
      "needs_background": "light"
     },
     "output_type": "display_data"
    },
    {
     "name": "stdout",
     "output_type": "stream",
     "text": [
      "count    4657.000000\n",
      "mean        0.020829\n",
      "std         0.216868\n",
      "min         0.000000\n",
      "25%         0.000000\n",
      "50%         0.000000\n",
      "75%         0.000000\n",
      "max         5.000000\n",
      "Name: mt_remorque, dtype: float64\n",
      "\n",
      "\n",
      "0    4607\n",
      "2      28\n",
      "1      14\n",
      "3       6\n",
      "4       1\n",
      "5       1\n",
      "Name: mt_remorque, dtype: int64\n"
     ]
    }
   ],
   "source": [
    "# variable mt_remorque\n",
    "analyse_quali('mt_remorque')"
   ]
  },
  {
   "cell_type": "markdown",
   "id": "a929ba92",
   "metadata": {},
   "source": [
    "La plupart des individus tombent dans le cas 0. Donc cette variable apporte aucune information. On la supprime."
   ]
  },
  {
   "cell_type": "markdown",
   "id": "fb36668c",
   "metadata": {},
   "source": [
    "# 4. Etudes bivariées"
   ]
  },
  {
   "cell_type": "code",
   "execution_count": 38,
   "id": "62ec4d76",
   "metadata": {},
   "outputs": [],
   "source": [
    "# pre-traité\n",
    "# Definir liste_quali et liste_quanti\n",
    "liste_quali = ['assur_caravane', 'pouvoir_achat','type_client', 'mt_auto', 'mt_incendie', \n",
    "               'niv_etud_bas', 'niv_etude_haut', 'revenu_moyen', 'mt_RC','locataire', \n",
    "               'proprietaire', 'auto0', 'auto1', 'revenu1', 'revenu2',\n",
    "               'revenu3', 'revenu4', 'marie', 'autre_relation', 'assur_sante_prive',\n",
    "               'assur_sante_public', 'mt_RC_entreprise','mt_camion_livraison','mt_remorque']"
   ]
  },
  {
   "cell_type": "code",
   "execution_count": 39,
   "id": "7b530e4c",
   "metadata": {},
   "outputs": [
    {
     "data": {
      "text/plain": [
       "24"
      ]
     },
     "execution_count": 39,
     "metadata": {},
     "output_type": "execute_result"
    }
   ],
   "source": [
    "len(liste_quali)"
   ]
  },
  {
   "cell_type": "code",
   "execution_count": 40,
   "id": "a6fe3c7e",
   "metadata": {},
   "outputs": [],
   "source": [
    "liste_quanti =['nbmaisons', 'nbpers_au_foyer','nb_auto','nb_incendie',\n",
    "               'nb_RC_entreprise', 'nb_camion_livraison','nb_remorque']"
   ]
  },
  {
   "cell_type": "code",
   "execution_count": 41,
   "id": "8fe17141",
   "metadata": {},
   "outputs": [
    {
     "data": {
      "text/plain": [
       "7"
      ]
     },
     "execution_count": 41,
     "metadata": {},
     "output_type": "execute_result"
    }
   ],
   "source": [
    "len(liste_quanti)"
   ]
  },
  {
   "cell_type": "markdown",
   "id": "0483a1c9",
   "metadata": {},
   "source": [
    "## 4.1 Etudes varitable quantitative vs variable quantitative"
   ]
  },
  {
   "cell_type": "code",
   "execution_count": 42,
   "id": "3daf0af8",
   "metadata": {},
   "outputs": [
    {
     "data": {
      "text/plain": [
       "Index(['assur_caravane', 'nbmaisons', 'pouvoir_achat', 'nbpers_au_foyer',\n",
       "       'type_client', 'mt_auto', 'nb_auto', 'mt_incendie', 'nb_incendie',\n",
       "       'niv_etud_bas', 'niv_etude_haut', 'revenu_moyen', 'mt_RC', 'nb_RC',\n",
       "       'locataire', 'proprietaire', 'auto0', 'auto1', 'revenu1', 'revenu2',\n",
       "       'revenu3', 'revenu4', 'marie', 'autre_relation', 'assur_sante_prive',\n",
       "       'assur_sante_public', 'mt_RC_entreprise', 'nb_RC_entreprise',\n",
       "       'mt_camion_livraison', 'nb_camion_livraison', 'nb_remorque',\n",
       "       'mt_remorque'],\n",
       "      dtype='object')"
      ]
     },
     "execution_count": 42,
     "metadata": {},
     "output_type": "execute_result"
    }
   ],
   "source": [
    "# affichage tous des variables\n",
    "data.columns"
   ]
  },
  {
   "cell_type": "code",
   "execution_count": 43,
   "id": "a63b7cb7",
   "metadata": {},
   "outputs": [],
   "source": [
    "# Crée nouvelle base de données qui ne con tiens que des variables quantitatives \n",
    "# et variables qualitatives ordinales (considérons comme des variables quantitatives discretes)\n",
    "newdata = data[['nbmaisons', 'nbpers_au_foyer','nb_auto','nb_incendie',\n",
    "               'nb_RC_entreprise', 'nb_camion_livraison','nb_remorque']]"
   ]
  },
  {
   "cell_type": "code",
   "execution_count": 44,
   "id": "6d0ce1cb",
   "metadata": {},
   "outputs": [
    {
     "name": "stdout",
     "output_type": "stream",
     "text": [
      "Les variables plus correlées\n",
      "        corr   abscorr                 nom1                 nom2\n",
      "20  0.207821  0.207821  nb_camion_livraison          nb_remorque\n",
      "18  0.183804  0.183804     nb_RC_entreprise  nb_camion_livraison\n",
      "19  0.087879  0.087879     nb_RC_entreprise          nb_remorque\n",
      "14  0.041136  0.041136              nb_auto          nb_remorque\n",
      "8   0.038678  0.038678      nbpers_au_foyer     nb_RC_entreprise\n"
     ]
    }
   ],
   "source": [
    "#X : un dataframe qui ne contient que des variables quantitatives\n",
    "matcor=newdata.corr() \n",
    "#nbre de variables à traiter\n",
    "nbrevarexp=newdata.shape[1]\n",
    "#nom des variables\n",
    "listevarexp=newdata.columns\n",
    "#préparation du dataframe qui contiendra : les coefficients de corrélation, la valeur absolue de ce coef et les noms des deux variables considérées\n",
    "corrligne=pd.DataFrame(columns=[\"corr\",\"abscorr\",\"nom1\",\"nom2\"],index=range(0,nbrevarexp*(nbrevarexp-1)//2))\n",
    "#calcul de tous les coefficients nécessaires (matrice symétrique)\n",
    "val=0\n",
    "for i in range(0,nbrevarexp-1):\n",
    "    for j in range(i+1,nbrevarexp):\n",
    "        corrligne[\"corr\"][val]=matcor[listevarexp[i]][listevarexp[j]]\n",
    "        corrligne[\"abscorr\"][val]=abs(matcor[listevarexp[i]][listevarexp[j]])\n",
    "        corrligne[\"nom1\"][val]=listevarexp[i]\n",
    "        corrligne[\"nom2\"][val]=listevarexp[j]\n",
    "        val+=1\n",
    "#trie des valeurs de facon décroissante\n",
    "corr=corrligne.sort_values(by=\"abscorr\",ascending=False)\n",
    "print(\"Les variables plus correlées\")\n",
    "print(corr.head(5))\n"
   ]
  },
  {
   "cell_type": "markdown",
   "id": "f87672f8",
   "metadata": {},
   "source": [
    "<b>Analyse re résultat :</b>\n",
    "<br><b><i>1, Des couples variables quantitaves plus correlées :</i></b>\n",
    "<br>Coeff de corrélation(abs)    et     Couples correlées\n",
    "<br>0.207821  nb_camion_livraison          nb_remorque\n",
    "<br>0.183804     nb_RC_entreprise  nb_camion_livraison\n",
    "<br><i> On garde tous car les corrélations entre eux sont faible, la plus grand est 0.207 est assez petite.</i>\n",
    "<br><b><i>2, Des couples variables quantitaves correlées moyennes:</i></b>\n",
    "<br>0.087879     nb_RC_entreprise          nb_remorque\n",
    "<br>0.041136              nb_auto          nb_remorque\n",
    "<br>0.038678      nbpers_au_foyer     nb_RC_entreprise"
   ]
  },
  {
   "cell_type": "code",
   "execution_count": 45,
   "id": "e634ac07",
   "metadata": {},
   "outputs": [
    {
     "name": "stdout",
     "output_type": "stream",
     "text": [
      "Les variables moins correlées\n",
      "        corr   abscorr             nom1                 nom2\n",
      "0   0.009299  0.009299        nbmaisons      nbpers_au_foyer\n",
      "9  -0.009064  0.009064  nbpers_au_foyer  nb_camion_livraison\n",
      "2   0.005288  0.005288        nbmaisons          nb_incendie\n",
      "3   0.002534  0.002534        nbmaisons     nb_RC_entreprise\n",
      "16 -0.002493  0.002493      nb_incendie  nb_camion_livraison\n"
     ]
    }
   ],
   "source": [
    "print(\"Les variables moins correlées\")\n",
    "print(corr.tail(5))"
   ]
  },
  {
   "cell_type": "markdown",
   "id": "f5f8b43e",
   "metadata": {},
   "source": [
    "<b><i>3, Des couples variables quantitaves les moins correlées:</i></b>\n",
    "<br>nbmaisons          nb_incendie\n",
    "<br>nbmaisons     nb_RC_entreprise\n",
    "<br>nb_incendie  nb_camion_livraison"
   ]
  },
  {
   "cell_type": "markdown",
   "id": "e0f7d8bf",
   "metadata": {},
   "source": [
    "## 4.2 Etudes varitable qualitative (cible) vs autres variables qualitatives"
   ]
  },
  {
   "cell_type": "code",
   "execution_count": 46,
   "id": "1775c655",
   "metadata": {},
   "outputs": [],
   "source": [
    "import scipy.stats as ss\n",
    "from scipy.stats import chi2_contingency\n",
    "\n",
    "def cramers(x,y):\n",
    "    #x,y : vecteurs contenant chacun une variable qualitative\n",
    "    \n",
    "    #tableau de contingence\n",
    "    confusion_matrix = pd.crosstab(x,y)\n",
    "    #chi2 entre les deux variables\n",
    "    chi2 = ss.chi2_contingency(confusion_matrix)[0]\n",
    "    #nbre total d'individus\n",
    "    n = confusion_matrix.sum().sum()\n",
    "    #nbre de modalités de chaque variable\n",
    "    r,k = confusion_matrix.shape\n",
    "    m=min(r-1,k-1)\n",
    "    #calcul du V de Cramers\n",
    "    return np.sqrt((chi2/(n*m)))"
   ]
  },
  {
   "cell_type": "code",
   "execution_count": 47,
   "id": "20597438",
   "metadata": {},
   "outputs": [],
   "source": [
    "# Créer une liste qui contient l'indice V de Crammer\n",
    "liste_crammer = []\n",
    "for i in range(len(liste_quali)):\n",
    "    liste_crammer.append(cramers(data['assur_caravane'],data[liste_quali[i]]))"
   ]
  },
  {
   "cell_type": "code",
   "execution_count": 48,
   "id": "0327077c",
   "metadata": {},
   "outputs": [
    {
     "data": {
      "text/html": [
       "<div>\n",
       "<style scoped>\n",
       "    .dataframe tbody tr th:only-of-type {\n",
       "        vertical-align: middle;\n",
       "    }\n",
       "\n",
       "    .dataframe tbody tr th {\n",
       "        vertical-align: top;\n",
       "    }\n",
       "\n",
       "    .dataframe thead th {\n",
       "        text-align: right;\n",
       "    }\n",
       "</style>\n",
       "<table border=\"1\" class=\"dataframe\">\n",
       "  <thead>\n",
       "    <tr style=\"text-align: right;\">\n",
       "      <th></th>\n",
       "      <th>quali</th>\n",
       "      <th>crammer</th>\n",
       "    </tr>\n",
       "  </thead>\n",
       "  <tbody>\n",
       "    <tr>\n",
       "      <th>0</th>\n",
       "      <td>assur_caravane</td>\n",
       "      <td>0.998074</td>\n",
       "    </tr>\n",
       "    <tr>\n",
       "      <th>3</th>\n",
       "      <td>mt_auto</td>\n",
       "      <td>0.185209</td>\n",
       "    </tr>\n",
       "    <tr>\n",
       "      <th>4</th>\n",
       "      <td>mt_incendie</td>\n",
       "      <td>0.148525</td>\n",
       "    </tr>\n",
       "    <tr>\n",
       "      <th>2</th>\n",
       "      <td>type_client</td>\n",
       "      <td>0.126900</td>\n",
       "    </tr>\n",
       "    <tr>\n",
       "      <th>1</th>\n",
       "      <td>pouvoir_achat</td>\n",
       "      <td>0.115445</td>\n",
       "    </tr>\n",
       "    <tr>\n",
       "      <th>7</th>\n",
       "      <td>revenu_moyen</td>\n",
       "      <td>0.107986</td>\n",
       "    </tr>\n",
       "    <tr>\n",
       "      <th>8</th>\n",
       "      <td>mt_RC</td>\n",
       "      <td>0.105906</td>\n",
       "    </tr>\n",
       "    <tr>\n",
       "      <th>5</th>\n",
       "      <td>niv_etud_bas</td>\n",
       "      <td>0.096819</td>\n",
       "    </tr>\n",
       "    <tr>\n",
       "      <th>9</th>\n",
       "      <td>locataire</td>\n",
       "      <td>0.094901</td>\n",
       "    </tr>\n",
       "    <tr>\n",
       "      <th>10</th>\n",
       "      <td>proprietaire</td>\n",
       "      <td>0.094304</td>\n",
       "    </tr>\n",
       "    <tr>\n",
       "      <th>13</th>\n",
       "      <td>revenu1</td>\n",
       "      <td>0.093221</td>\n",
       "    </tr>\n",
       "    <tr>\n",
       "      <th>6</th>\n",
       "      <td>niv_etude_haut</td>\n",
       "      <td>0.085369</td>\n",
       "    </tr>\n",
       "    <tr>\n",
       "      <th>11</th>\n",
       "      <td>auto0</td>\n",
       "      <td>0.082448</td>\n",
       "    </tr>\n",
       "    <tr>\n",
       "      <th>12</th>\n",
       "      <td>auto1</td>\n",
       "      <td>0.081322</td>\n",
       "    </tr>\n",
       "    <tr>\n",
       "      <th>15</th>\n",
       "      <td>revenu3</td>\n",
       "      <td>0.070994</td>\n",
       "    </tr>\n",
       "    <tr>\n",
       "      <th>20</th>\n",
       "      <td>assur_sante_public</td>\n",
       "      <td>0.069619</td>\n",
       "    </tr>\n",
       "    <tr>\n",
       "      <th>19</th>\n",
       "      <td>assur_sante_prive</td>\n",
       "      <td>0.067505</td>\n",
       "    </tr>\n",
       "    <tr>\n",
       "      <th>17</th>\n",
       "      <td>marie</td>\n",
       "      <td>0.066192</td>\n",
       "    </tr>\n",
       "    <tr>\n",
       "      <th>18</th>\n",
       "      <td>autre_relation</td>\n",
       "      <td>0.064942</td>\n",
       "    </tr>\n",
       "    <tr>\n",
       "      <th>16</th>\n",
       "      <td>revenu4</td>\n",
       "      <td>0.064028</td>\n",
       "    </tr>\n",
       "    <tr>\n",
       "      <th>14</th>\n",
       "      <td>revenu2</td>\n",
       "      <td>0.041652</td>\n",
       "    </tr>\n",
       "    <tr>\n",
       "      <th>23</th>\n",
       "      <td>mt_remorque</td>\n",
       "      <td>0.023341</td>\n",
       "    </tr>\n",
       "    <tr>\n",
       "      <th>21</th>\n",
       "      <td>mt_RC_entreprise</td>\n",
       "      <td>0.017875</td>\n",
       "    </tr>\n",
       "    <tr>\n",
       "      <th>22</th>\n",
       "      <td>mt_camion_livraison</td>\n",
       "      <td>0.013844</td>\n",
       "    </tr>\n",
       "  </tbody>\n",
       "</table>\n",
       "</div>"
      ],
      "text/plain": [
       "                  quali   crammer\n",
       "0        assur_caravane  0.998074\n",
       "3               mt_auto  0.185209\n",
       "4           mt_incendie  0.148525\n",
       "2           type_client  0.126900\n",
       "1         pouvoir_achat  0.115445\n",
       "7          revenu_moyen  0.107986\n",
       "8                 mt_RC  0.105906\n",
       "5          niv_etud_bas  0.096819\n",
       "9             locataire  0.094901\n",
       "10         proprietaire  0.094304\n",
       "13              revenu1  0.093221\n",
       "6        niv_etude_haut  0.085369\n",
       "11                auto0  0.082448\n",
       "12                auto1  0.081322\n",
       "15              revenu3  0.070994\n",
       "20   assur_sante_public  0.069619\n",
       "19    assur_sante_prive  0.067505\n",
       "17                marie  0.066192\n",
       "18       autre_relation  0.064942\n",
       "16              revenu4  0.064028\n",
       "14              revenu2  0.041652\n",
       "23          mt_remorque  0.023341\n",
       "21     mt_RC_entreprise  0.017875\n",
       "22  mt_camion_livraison  0.013844"
      ]
     },
     "execution_count": 48,
     "metadata": {},
     "output_type": "execute_result"
    }
   ],
   "source": [
    "crammer = pd.DataFrame({'crammer':liste_crammer})\n",
    "qualitative = pd.DataFrame({'quali':liste_quali})\n",
    "qualitative = qualitative.join(crammer['crammer'].set_axis(qualitative.index))\n",
    "qualitative.sort_values('crammer', ascending=False)"
   ]
  },
  {
   "cell_type": "markdown",
   "id": "10580c72",
   "metadata": {},
   "source": [
    "<b>Analyse de résultat :</b> Observons la corrélation de variable assur_caravane et les autre variables est  assez faible. L'indice V Crammer se varie de 0.013844 et 0.185209.\n",
    "<br><b><i> Liste 1: </i></b>mt_auto,mt_incendie,type_client,pouvoir_achat,revenu_moyen,mt_RC \n",
    "<br><b><i> Liste 2:= Liste 1 + </i></b> niv_etud_bas,locataire,proprietaire,revenu1,niv_etude_haut,auto0,auto1,revenu3 \n",
    "<br><b><i> Liste 3:= Liste 1 + Liste 2 + les restes</i></b> "
   ]
  },
  {
   "cell_type": "code",
   "execution_count": 55,
   "id": "086a2d4f",
   "metadata": {},
   "outputs": [
    {
     "data": {
      "text/html": [
       "<div>\n",
       "<style scoped>\n",
       "    .dataframe tbody tr th:only-of-type {\n",
       "        vertical-align: middle;\n",
       "    }\n",
       "\n",
       "    .dataframe tbody tr th {\n",
       "        vertical-align: top;\n",
       "    }\n",
       "\n",
       "    .dataframe thead th {\n",
       "        text-align: right;\n",
       "    }\n",
       "</style>\n",
       "<table border=\"1\" class=\"dataframe\">\n",
       "  <thead>\n",
       "    <tr style=\"text-align: right;\">\n",
       "      <th></th>\n",
       "      <th>Variable1</th>\n",
       "      <th>Varibale2</th>\n",
       "      <th>V de Cramer</th>\n",
       "    </tr>\n",
       "  </thead>\n",
       "  <tbody>\n",
       "    <tr>\n",
       "      <th>189</th>\n",
       "      <td>assur_sante_public</td>\n",
       "      <td>assur_sante_prive</td>\n",
       "      <td>0.995018</td>\n",
       "    </tr>\n",
       "    <tr>\n",
       "      <th>44</th>\n",
       "      <td>proprietaire</td>\n",
       "      <td>locataire</td>\n",
       "      <td>0.990367</td>\n",
       "    </tr>\n",
       "    <tr>\n",
       "      <th>65</th>\n",
       "      <td>auto1</td>\n",
       "      <td>auto0</td>\n",
       "      <td>0.648573</td>\n",
       "    </tr>\n",
       "    <tr>\n",
       "      <th>152</th>\n",
       "      <td>autre_relation</td>\n",
       "      <td>marie</td>\n",
       "      <td>0.612077</td>\n",
       "    </tr>\n",
       "    <tr>\n",
       "      <th>0</th>\n",
       "      <td>type_client</td>\n",
       "      <td>pouvoir_achat</td>\n",
       "      <td>0.603846</td>\n",
       "    </tr>\n",
       "    <tr>\n",
       "      <th>146</th>\n",
       "      <td>autre_relation</td>\n",
       "      <td>auto0</td>\n",
       "      <td>0.399029</td>\n",
       "    </tr>\n",
       "    <tr>\n",
       "      <th>72</th>\n",
       "      <td>revenu1</td>\n",
       "      <td>revenu_moyen</td>\n",
       "      <td>0.364686</td>\n",
       "    </tr>\n",
       "    <tr>\n",
       "      <th>24</th>\n",
       "      <td>mt_RC</td>\n",
       "      <td>mt_incendie</td>\n",
       "      <td>0.358935</td>\n",
       "    </tr>\n",
       "    <tr>\n",
       "      <th>111</th>\n",
       "      <td>revenu4</td>\n",
       "      <td>revenu_moyen</td>\n",
       "      <td>0.341210</td>\n",
       "    </tr>\n",
       "    <tr>\n",
       "      <th>130</th>\n",
       "      <td>marie</td>\n",
       "      <td>auto0</td>\n",
       "      <td>0.318430</td>\n",
       "    </tr>\n",
       "  </tbody>\n",
       "</table>\n",
       "</div>"
      ],
      "text/plain": [
       "              Variable1          Varibale2  V de Cramer\n",
       "189  assur_sante_public  assur_sante_prive     0.995018\n",
       "44         proprietaire          locataire     0.990367\n",
       "65                auto1              auto0     0.648573\n",
       "152      autre_relation              marie     0.612077\n",
       "0           type_client      pouvoir_achat     0.603846\n",
       "146      autre_relation              auto0     0.399029\n",
       "72              revenu1       revenu_moyen     0.364686\n",
       "24                mt_RC        mt_incendie     0.358935\n",
       "111             revenu4       revenu_moyen     0.341210\n",
       "130               marie              auto0     0.318430"
      ]
     },
     "execution_count": 55,
     "metadata": {},
     "output_type": "execute_result"
    }
   ],
   "source": [
    "# Créer une liste qui contient l'indice V de Crammer\n",
    "liste_crammer2 =[]\n",
    "for i in range(len(liste_quali)) :\n",
    "    for j in range(len(liste_quali)) :\n",
    "        if i >j and liste_quali[j]!=\"assur_caravane\" :\n",
    "            liste_crammer2.append([liste_quali[i], liste_quali[j], cramers(data[liste_quali[i]],data[liste_quali[j]])])\n",
    "            \n",
    "liste_crammer2 = pd.DataFrame(liste_crammer2)\n",
    "liste_crammer2.columns =[\"Variable1\", \"Varibale2\", \"V de Cramer\"]\n",
    "liste_crammer2.sort_values(by=['V de Cramer'],inplace=True,ascending=False)\n",
    "liste_crammer2.head(10)"
   ]
  },
  {
   "cell_type": "markdown",
   "id": "eece2fe8",
   "metadata": {},
   "source": [
    "<b>Analyse de la corrélation entre des variables quantitatives :</b> Observons la corrélation de couple variables (assur_sante_public,assur_sante_prive) et (proprietaire, locataire) sont les plus corrélées. Les couples avec la corrélation moyennes (auto1, auto0),(autre_relation, marie), (type_client, pouvoir_achat).\n",
    "<br>Conlure des liste finales\n",
    "<br><b><i> Liste 1: </i></b>mt_auto,mt_incendie,type_client,pouvoir_achat,revenu_moyen,mt_RC \n",
    "<br><b><i> Liste 2:= Liste 1 + </i></b> niv_etud_bas,proprietaire,revenu1,niv_etude_haut,auto0,auto1,revenu3 (enlève locataire,)\n",
    "<br><b><i> Liste 3:= Liste 1 + Liste 2 + les restes</i></b> "
   ]
  },
  {
   "cell_type": "markdown",
   "id": "d7ae1edf",
   "metadata": {},
   "source": [
    "## 4.3 Etudes varitable quantitative vs variable qualitative"
   ]
  },
  {
   "cell_type": "code",
   "execution_count": 51,
   "id": "f6756e0d",
   "metadata": {},
   "outputs": [],
   "source": [
    "def rapport_corr(cible,data): #fonction qui calcule le rapport de corrélation\n",
    "    #cible : 1 variable qualitative\n",
    "    #data : un DataFrame qui contient des variables quantitatives\n",
    "    #fournit un graphique représentant les corrélations triées de facon décroissante, l'affiche de ces valeurs et un vecteurs qui les contient\n",
    "    \n",
    "    #moyenne par variable\n",
    "    m=data.mean()\n",
    "    \n",
    "    #SCT : variabilité totale = nbre d'ind*variance\n",
    "    SCT=data.shape[0]*data.var(ddof=0)\n",
    "    \n",
    "    #Calcul du SCE\n",
    "    #DataFrame conditionnellement aux groupes\n",
    "    Xb=data.groupby(cible)\n",
    "    #effectifs conditionnels\n",
    "    nk=Xb.size()\n",
    "    #moyennes conditionnelles dans chaque groupe\n",
    "    mk=Xb.mean()\n",
    "    #pour chaque groupe écart à la moyenne par variable\n",
    "    EMk=(mk-m)**2\n",
    "    #pondéré par les effectifs du groupe\n",
    "    EM=EMk.multiply(nk,axis=0)\n",
    "    #somme des valeurs=>BSS\n",
    "    SCE=np.sum(EM,axis=0)\n",
    "    \n",
    "    #Calcul du rapport de corrélation\n",
    "    R2=SCE/SCT\n",
    "    \n",
    "    #rendus\n",
    "    R2trie=R2.sort_values(ascending=False)\n",
    "    print(R2trie)\n",
    "    print(R2trie.index)\n",
    "    plt.figure(figsize = (7,7))\n",
    "    plt.bar(range(1,R2trie.shape[0]+1),height=R2trie, color = 'yellow', ec = 'red')\n",
    "    plt.title('')\n",
    "    plt.show()\n",
    "    return R2"
   ]
  },
  {
   "cell_type": "markdown",
   "id": "b97b3c76",
   "metadata": {},
   "source": [
    "Variable assur_caravane et les autres variables dans la nouvelle base de données (ne contient que des quantitatives)"
   ]
  },
  {
   "cell_type": "code",
   "execution_count": 52,
   "id": "427cf7a6",
   "metadata": {},
   "outputs": [
    {
     "name": "stdout",
     "output_type": "stream",
     "text": [
      "nb_auto                0.020994\n",
      "nb_incendie            0.002744\n",
      "nbpers_au_foyer        0.000581\n",
      "nb_RC_entreprise       0.000174\n",
      "nb_camion_livraison    0.000173\n",
      "nbmaisons              0.000141\n",
      "nb_remorque            0.000010\n",
      "dtype: float64\n",
      "Index(['nb_auto', 'nb_incendie', 'nbpers_au_foyer', 'nb_RC_entreprise',\n",
      "       'nb_camion_livraison', 'nbmaisons', 'nb_remorque'],\n",
      "      dtype='object')\n"
     ]
    },
    {
     "data": {
      "image/png": "[encoded data removed]",
      "text/plain": [
       "<Figure size 504x504 with 1 Axes>"
      ]
     },
     "metadata": {
      "needs_background": "light"
     },
     "output_type": "display_data"
    },
    {
     "data": {
      "text/plain": [
       "nbmaisons              0.000141\n",
       "nbpers_au_foyer        0.000581\n",
       "nb_auto                0.020994\n",
       "nb_incendie            0.002744\n",
       "nb_RC_entreprise       0.000174\n",
       "nb_camion_livraison    0.000173\n",
       "nb_remorque            0.000010\n",
       "dtype: float64"
      ]
     },
     "execution_count": 52,
     "metadata": {},
     "output_type": "execute_result"
    }
   ],
   "source": [
    "rapport_corr(data['assur_caravane'],newdata)"
   ]
  },
  {
   "cell_type": "markdown",
   "id": "19bbd1f6",
   "metadata": {},
   "source": [
    "<b>Analyse le résultats :</b>\n",
    "<br>En générale, la corrélation entre assur_caravane et les autres variables quantitatives assez faible (des rapport entre 0.00xxx et 0.020) avec le scale [0,1].\n",
    "<br> Parmi rapport de corrélations, il y a nb_auto qui est la plus corrélée à assur_caravane avec rapport de corrélation 0.02. On ne garde pas car elle est faible."
   ]
  },
  {
   "cell_type": "code",
   "execution_count": 53,
   "id": "976ee7c7",
   "metadata": {},
   "outputs": [
    {
     "name": "stdout",
     "output_type": "stream",
     "text": [
      "mt_auto                0.023848\n",
      "nb_auto                0.020994\n",
      "mt_RC                  0.010181\n",
      "nb_RC                  0.008609\n",
      "pouvoir_achat          0.008387\n",
      "revenu_moyen           0.007798\n",
      "niv_etud_bas           0.007285\n",
      "revenu1                0.006846\n",
      "mt_incendie            0.006703\n",
      "niv_etude_haut         0.005999\n",
      "locataire              0.005958\n",
      "proprietaire           0.005850\n",
      "auto0                  0.005231\n",
      "auto1                  0.005011\n",
      "type_client            0.004022\n",
      "marie                  0.003962\n",
      "autre_relation         0.003184\n",
      "assur_sante_public     0.003071\n",
      "revenu4                0.003043\n",
      "revenu3                0.002987\n",
      "assur_sante_prive      0.002973\n",
      "nb_incendie            0.002744\n",
      "nbpers_au_foyer        0.000581\n",
      "mt_RC_entreprise       0.000205\n",
      "nb_RC_entreprise       0.000174\n",
      "nb_camion_livraison    0.000173\n",
      "mt_camion_livraison    0.000154\n",
      "nbmaisons              0.000141\n",
      "revenu2                0.000013\n",
      "nb_remorque            0.000010\n",
      "mt_remorque            0.000001\n",
      "assur_caravane         0.000000\n",
      "dtype: float64\n",
      "Index(['mt_auto', 'nb_auto', 'mt_RC', 'nb_RC', 'pouvoir_achat', 'revenu_moyen',\n",
      "       'niv_etud_bas', 'revenu1', 'mt_incendie', 'niv_etude_haut', 'locataire',\n",
      "       'proprietaire', 'auto0', 'auto1', 'type_client', 'marie',\n",
      "       'autre_relation', 'assur_sante_public', 'revenu4', 'revenu3',\n",
      "       'assur_sante_prive', 'nb_incendie', 'nbpers_au_foyer',\n",
      "       'mt_RC_entreprise', 'nb_RC_entreprise', 'nb_camion_livraison',\n",
      "       'mt_camion_livraison', 'nbmaisons', 'revenu2', 'nb_remorque',\n",
      "       'mt_remorque', 'assur_caravane'],\n",
      "      dtype='object')\n"
     ]
    },
    {
     "data": {
      "image/png": "[encoded data removed]",
      "text/plain": [
       "<Figure size 504x504 with 1 Axes>"
      ]
     },
     "metadata": {
      "needs_background": "light"
     },
     "output_type": "display_data"
    },
    {
     "data": {
      "text/plain": [
       "assur_caravane         0.000000\n",
       "assur_sante_prive      0.002973\n",
       "assur_sante_public     0.003071\n",
       "auto0                  0.005231\n",
       "auto1                  0.005011\n",
       "autre_relation         0.003184\n",
       "locataire              0.005958\n",
       "marie                  0.003962\n",
       "mt_RC                  0.010181\n",
       "mt_RC_entreprise       0.000205\n",
       "mt_auto                0.023848\n",
       "mt_camion_livraison    0.000154\n",
       "mt_incendie            0.006703\n",
       "mt_remorque            0.000001\n",
       "nb_RC                  0.008609\n",
       "nb_RC_entreprise       0.000174\n",
       "nb_auto                0.020994\n",
       "nb_camion_livraison    0.000173\n",
       "nb_incendie            0.002744\n",
       "nb_remorque            0.000010\n",
       "nbmaisons              0.000141\n",
       "nbpers_au_foyer        0.000581\n",
       "niv_etud_bas           0.007285\n",
       "niv_etude_haut         0.005999\n",
       "pouvoir_achat          0.008387\n",
       "proprietaire           0.005850\n",
       "revenu1                0.006846\n",
       "revenu2                0.000013\n",
       "revenu3                0.002987\n",
       "revenu4                0.003043\n",
       "revenu_moyen           0.007798\n",
       "type_client            0.004022\n",
       "dtype: float64"
      ]
     },
     "execution_count": 53,
     "metadata": {},
     "output_type": "execute_result"
    }
   ],
   "source": [
    "rapport_corr(data['assur_caravane'],data)"
   ]
  }
 ],
 "metadata": {
  "kernelspec": {
   "display_name": "Python 3",
   "language": "python",
   "name": "python3"
  },
  "language_info": {
   "codemirror_mode": {
    "name": "ipython",
    "version": 3
   },
   "file_extension": ".py",
   "mimetype": "text/x-python",
   "name": "python",
   "nbconvert_exporter": "python",
   "pygments_lexer": "ipython3",
   "version": "3.8.2"
  }
 },
 "nbformat": 4,
 "nbformat_minor": 5
}
